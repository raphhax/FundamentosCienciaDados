{
 "cells": [
  {
   "cell_type": "markdown",
   "metadata": {},
   "source": [
    "# Laboratório 0: Expressões e tipos de dados\n",
    "\n",
    "Bem-vindo ao Bacharelado em Ciência dos Dados! A cada semana, você concluirá uma tarefa de laboratório como esta. Você pode pensar nos laboratórios como tarefas de leitura interativas e práticas, nas quais você obterá experiência prática com os tópicos da aula. Em uma determinada semana, o laboratório irá prepará-lo para a tarefa de casa, portanto, certifique-se de trabalhar primeiro no laboratório.\n",
    "\n",
    "Os laboratórios geralmente acontecem às terças; você deve concluir todo este laboratório e enviá-lo ao Moodle até **23h59 na data de vencimento**.\n",
    "\n",
    "Cada pessoa deve enviar cada laboratório de forma independente, mas recomendamos que você discuta o laboratório com outros alunos (sem compartilhamento de código). Se você tiver dúvidas em algum momento do laboratório, certifique-se de dar uma olhada nas notas de aula e nas leituras vinculadas ao site do curso. Você também pode postar no fórum de dúvidas do Moodle ou comparecer ao horário de monitoria.\n",
    "\n",
    "O laboratório desta semana abordará os conceitos básicos dos notebooks Python e Jupyter. Você aprenderá a:\n",
    "\n",
    "* Navegar pelos notebooks Jupyter (como este)\n",
    "* Escrever e avaliar algumas *expressões* básicas em Python, uma linguagem de programação popular\n",
    "* Chamar *funções* para usar código que outras pessoas escreveram\n",
    "* Dividir o código Python em partes menores para entendê-lo\n",
    "* Trabalhar com outro tipo de dados: texto\n",
    "* Invocar métodos e importar código\n",
    "\n",
    "Este laboratório faz referência a [BPD 1-6](https://notes.dsc10.com/01-getting_started/tools.html) nas notas `babypandas`; caso tenha alguma dúvida, consulte este material."
   ]
  },
  {
   "cell_type": "markdown",
   "metadata": {},
   "source": [
    "# Parte 1: Notebooks Jupyter e noções básicas de Python\n",
    "\n",
    "# 1. Notebooks Jupyter\n",
    "Esta página da web é chamada de Jupyter Notebook. Um notebook é um lugar para escrever programas e visualizar seus resultados.\n",
    "\n",
    "## 1.1. Células de texto\n",
    "Em um notebook, cada retângulo contendo texto ou código é chamado de *célula*.\n",
    "\n",
    "Células de texto (como esta) podem ser editadas clicando duas vezes nelas. Eles são escritos em um formato simples chamado [Markdown](http://daringfireball.net/projects/markdown/syntax) que nos permite adicionar formatação e títulos de seção. Você não precisa aprender Markdown, mas pode se quiser."
   ]
  },
  {
   "cell_type": "markdown",
   "metadata": {},
   "source": [
    "**Questão 1.1.1.** Este parágrafo está em sua própria célula de texto. Tente editá-lo para deletar a frase em negrito e, a seguir, clique no botão \"executar célula\" ▶ na parte superior da página. **Essa frase de exemplo deveria ser deletada.**"
   ]
  },
  {
   "cell_type": "markdown",
   "metadata": {},
   "source": [
    "## 1.2. Células de código\n",
    "Outras células contêm código na linguagem de programação Python 3. A execução de uma célula de código executará todo o código que ela contém.\n",
    "\n",
    "Para executar o código em uma célula de código, primeiro clique nessa célula para ativá-la. Ele será destacado com um pequeno retângulo verde ou azul. Em seguida, pressione ▶ ou mantenha pressionada a tecla `shift` e pressione `return` ou `enter` no teclado. **É muito, muito mais rápido usar o atalho do teclado!**\n",
    "\n",
    "Tente executar esta célula:"
   ]
  },
  {
   "cell_type": "code",
   "execution_count": null,
   "metadata": {},
   "outputs": [],
   "source": [
    "print(\"Hello, World!\")"
   ]
  },
  {
   "cell_type": "markdown",
   "metadata": {},
   "source": [
    "E este:"
   ]
  },
  {
   "cell_type": "code",
   "execution_count": null,
   "metadata": {},
   "outputs": [],
   "source": [
    "print(\"\\N{DOG}, \\N{BONE}!\")"
   ]
  },
  {
   "cell_type": "markdown",
   "metadata": {},
   "source": [
    "Você deveria ver um cachorro e um osso."
   ]
  },
  {
   "cell_type": "markdown",
   "metadata": {},
   "source": [
    "O alicerce fundamental do código Python é uma expressão. As células podem conter múltiplas linhas com múltiplas expressões. Quando você executa uma célula, as linhas de código são executadas na ordem em que aparecem. Cada expressão `print` imprime uma linha. Execute a próxima célula e observe a ordem da saída."
   ]
  },
  {
   "cell_type": "code",
   "execution_count": null,
   "metadata": {},
   "outputs": [],
   "source": [
    "print(\"Primeiro essa linha será exibida,\")\n",
    "print(\"e depois essa.\")"
   ]
  },
  {
   "cell_type": "markdown",
   "metadata": {},
   "source": [
    "**Questão 1.2.1.** Altere a célula acima para que seja impressa exatamente:\n",
    "\n",
    "Primeiro eu acaricio meu cachorro 🐕,\n",
    "e então eu a alimento com um 🦴.\n",
    "\n",
    "*Dica:* Se você ficar preso por mais de alguns minutos, tente conversar com um colega de classe, monitor ou ChatGPT (😲). Essa é uma boa ideia para qualquer problema de laboratório."
   ]
  },
  {
   "cell_type": "markdown",
   "metadata": {},
   "source": [
    "## 1.3. Escrevendo Jupyter Notebooks\n",
    "Você pode usar notebooks Jupyter para seus próprios projetos ou documentos. Ao criar seu próprio notebook, você precisará criar suas próprias células para texto e código.\n",
    "\n",
    "Para adicionar uma célula, clique no botão + na barra de menu. Ele começará como uma célula de texto. Você pode alterá-lo para uma célula de código clicando dentro dela para que fique destacada, clicando na caixa suspensa ao lado do botão reiniciar (⟳) na barra de menu e escolhendo \"Código\".\n",
    "\n",
    "**Pergunta 1.3.1.** Adicione uma célula de código abaixo desta. Escreva nela: `♪ Uma célula totalmente nova! ♪`\n",
    "\n",
    "> Esse símbolo de nota musical é feito da mesma forma que o símbolo do cachorro. Seu nome/código é `\\N{EIGHTH NOTE}`.\n",
    "> \n",
    "> Execute sua célula para verificar se funcionou."
   ]
  },
  {
   "cell_type": "markdown",
   "metadata": {},
   "source": [
    "## 1.4. Erros\n",
    "Python é uma linguagem e, como as linguagens humanas naturais, possui regras. Porém ela difere da linguagem natural de duas maneiras importantes:\n",
    "1. As regras são *simples*. Você pode aprender a maioria deles em poucas semanas e obter proficiência razoável no idioma em um trimestre.\n",
    "2. As regras são *rígidas*. Se você for proficiente em uma linguagem natural, poderá entender um falante não proficiente, encobrindo pequenos erros. Um computador executando código Python não é inteligente o suficiente para fazer isso.\n",
    "\n",
    "Sempre que você escrever código, você cometerá erros. Quando você executa uma célula de código que contém erros, o Python irá produzir mensagens de erro para informar o que você fez de errado.\n",
    "\n",
    "Está tudo bem errar; até mesmo programadores experientes cometem muitos erros. Quando você comete um erro, basta encontrar a origem do problema, corrigi-lo e seguir em frente.\n",
    "\n",
    "Cometemos um erro na próxima célula. Execute-o e veja o que acontece."
   ]
  },
  {
   "cell_type": "code",
   "execution_count": null,
   "metadata": {},
   "outputs": [],
   "source": [
    "print(\"Essa linha tem algo faltando.\""
   ]
  },
  {
   "attachments": {},
   "cell_type": "markdown",
   "metadata": {},
   "source": [
    "Você deverá ver algo assim (sem nossas anotações):\n",
    "\n",
    "<img src=\"https://github.com/ThiagoPoppe/monitoria_fcd2024/blob/main/labs/lab00/imagens/error.jpg?raw=true\" />\n",
    "\n",
    "A última linha da saída de erro tenta informar o que deu errado. A *sintaxe* de uma linguagem é sua estrutura, e este `SyntaxError` informa que você criou uma estrutura ilegal. `EOF` significa \"fim do arquivo\", ou *end of file*, então a mensagem diz que Python esperava que você escrevesse algo a mais (neste caso, um parêntese direito) antes de terminar a célula.\n",
    "\n",
    "Há muita terminologia em linguagens de programação, mas você não precisa saber tudo para programar com eficácia. Se você vir uma mensagem enigmática como essa, muitas vezes poderá sobreviver sem decifrá-la. Claro, se você estiver frustrado, peça ajuda. Você também pode pesquisar a mensagem de erro no Google para ter uma ideia melhor do que ela significa e qual pode ser o problema. Os programadores de computador fazem isso o tempo todo!\n",
    "\n",
    "Tente corrigir o código acima para poder executar a célula e ver a mensagem pretendida em vez de um erro."
   ]
  },
  {
   "cell_type": "markdown",
   "metadata": {},
   "source": [
    "# 2. Números\n",
    "\n",
    "A informação quantitativa surge em toda parte na ciência de dados. Além de representar comandos para imprimir linhas, as expressões podem representar números e métodos de combinação de números. A expressão `3.2500` é avaliada como o número 3,25. (Execute a célula e veja.)"
   ]
  },
  {
   "cell_type": "code",
   "execution_count": null,
   "metadata": {},
   "outputs": [],
   "source": [
    "3.2500"
   ]
  },
  {
   "cell_type": "markdown",
   "metadata": {},
   "source": [
    "Observe que não precisamos usar `print` para exibir a mensagem anterior. Quando você executa uma célula de notebook, se a última linha tiver um valor (número ou texto), o Jupyter imprime esse valor para você. No entanto, não imprimirá as linhas anteriores automaticamente."
   ]
  },
  {
   "cell_type": "code",
   "execution_count": null,
   "metadata": {
    "scrolled": true
   },
   "outputs": [],
   "source": [
    "print(2)\n",
    "3\n",
    "4"
   ]
  },
  {
   "cell_type": "markdown",
   "metadata": {},
   "source": [
    "Acima, você verá que 4 é o valor da última expressão, 2 é impresso, mas 3 está perdido para sempre porque não foi impresso nem por último.\n",
    "\n",
    "Você não quer imprimir tudo o tempo todo. Mas se você sente pena do 3, altere a célula acima para imprimi-lo."
   ]
  },
  {
   "cell_type": "markdown",
   "metadata": {},
   "source": [
    "## 2.1. Aritmética\n",
    "A linha na próxima célula subtrai. Seu valor é o que você esperaria. Execute a célula."
   ]
  },
  {
   "cell_type": "code",
   "execution_count": null,
   "metadata": {},
   "outputs": [],
   "source": [
    "3.25 - 1.5"
   ]
  },
  {
   "cell_type": "markdown",
   "metadata": {},
   "source": [
    "Muitas operações aritméticas básicas estão incorporadas ao Python. No [site do DSC10](https://notes.dsc10.com/01-getting_started/expressions.html) temos uma descrição de todos os operadores aritméticos usados ​​no curso. O operador comum que difere da notação matemática típica é `**`, que eleva um número à potência do outro. Portanto, `2**3` significa $2^3$ e é avaliado como 8.\n",
    "\n",
    "A ordem das operações é a que você aprendeu no ensino fundamental, e Python também tem parênteses. Por exemplo, compare os resultados das células abaixo."
   ]
  },
  {
   "cell_type": "code",
   "execution_count": null,
   "metadata": {},
   "outputs": [],
   "source": [
    "1 + 6 * 5 - 6 * 3**2 * 2**3 / 4 * 7"
   ]
  },
  {
   "cell_type": "code",
   "execution_count": null,
   "metadata": {},
   "outputs": [],
   "source": [
    "1 + (6 * 5 - (6 * 3))**2 * ((2**3)/ 4 * 7)"
   ]
  },
  {
   "cell_type": "markdown",
   "metadata": {},
   "source": [
    "Na notação matemática padrão, a primeira expressão é\n",
    "\n",
    "$$1 + (6 \\times 5) - \\left(6 \\times 3^2 \\times \\frac{2^3}{4} \\times 7\\right)$$\n",
    "\n",
    "enquanto a segunda expressão é\n",
    "\n",
    "$$1 + \\left(6 \\times 5 - 6 \\times 3\\right)^2 \\times \\left(\\frac{2^3}{4} \\times 7\\right)$$\n",
    "\n",
    "**Pergunta 2.1.1.** Escreva uma expressão Python na próxima célula que seja igual a\n",
    "\n",
    "$$(10 + 3^2) \\times 8 \\times (\\sqrt{49} + 6) + (5\\frac{1}{3} + 4) \\times (5 - \\frac{1}{6} ) + \\frac{2^3}{3^2} $$\n",
    "\n",
    "Substitua as reticências (`...`) pela sua expressão. Tente usar parênteses somente quando necessário. Se você fizer isso corretamente, o número será o valor de um ano.\n",
    "\n",
    "Algumas orientações:\n",
    "- $5 \\frac{1}{3}$ é a fração mista \"cinco e um terço\", **não** $5 \\times \\frac{1}{3}$.\n",
    "- $\\sqrt{x}$ é o mesmo que $x^{0,5}$."
   ]
  },
  {
   "cell_type": "code",
   "execution_count": null,
   "metadata": {},
   "outputs": [],
   "source": [
    "..."
   ]
  },
  {
   "cell_type": "markdown",
   "metadata": {},
   "source": [
    "# 3. Nomes\n",
    "Na linguagem natural, temos uma terminologia que nos permite referenciar rapidamente conceitos muito complicados. Não dizemos: \"Esse é um grande mamífero com pêlo marrom e dentes afiados que vive em toda a Califórnia e supostamente gosta muito de mel!\" Em vez disso, apenas dizemos: \"Urso!\"\n",
    "\n",
    "Da mesma forma, uma estratégia eficaz para escrever código é definir nomes para os dados à medida que os computamos, como um advogado definiria termos para ideias complexas no início de um documento legal para simplificar o resto da escrita. Outra palavra para “nome” é “variável”."
   ]
  },
  {
   "cell_type": "markdown",
   "metadata": {},
   "source": [
    "## 3.1. Declarações de atribuição\n",
    "\n",
    "Em Python, fazemos isso com *instruções de atribuição*. Uma instrução de atribuição tem um nome no lado esquerdo de um sinal `=` e uma expressão a ser avaliada à direita."
   ]
  },
  {
   "cell_type": "code",
   "execution_count": null,
   "metadata": {},
   "outputs": [],
   "source": [
    "dez = 3 * 2 + 4"
   ]
  },
  {
   "cell_type": "markdown",
   "metadata": {},
   "source": [
    "Quando você executa essa célula, o Python avalia primeiro a primeira linha. Ele calcula o valor da expressão `3 * 2 + 4`, que é o número 10. Em seguida, dá a esse valor o nome de `dez`. Nesse ponto, o código na célula termina de ser executado.\n",
    "\n",
    "Depois de executar essa célula, o valor 10 será vinculado ao nome `dez`:"
   ]
  },
  {
   "cell_type": "code",
   "execution_count": null,
   "metadata": {},
   "outputs": [],
   "source": [
    "dez"
   ]
  },
  {
   "cell_type": "markdown",
   "metadata": {},
   "source": [
    "A afirmação `dez = 3 * 2 + 4` não afirma que `dez` já é igual a `3 * 2 + 4`, como poderíamos esperar por analogia com a notação matemática. Em vez disso, essa linha de código muda o que significa `dez`; agora se refere ao valor 10, enquanto antes não significava nada.\n",
    "\n",
    "Se os projetistas do Python tivessem sido implacavelmente pedantes (como os advogados), eles poderiam ter nos feito escrever\n",
    "\n",
    "> defina o nome `dez` para daqui em diante ter o valor de 3 * 2 + 4.\n",
    "\n",
    "Você provavelmente apreciará a brevidade de \"`=`\"! Mas tenha em mente que este é o verdadeiro significado.\n",
    "\n",
    "**Pergunta 3.1.1.** Tente escrever um código que use um nome (como `onze`) que não tenha sido atribuído a nada. Você verá um erro!"
   ]
  },
  {
   "cell_type": "markdown",
   "metadata": {},
   "source": [
    "Um padrão comum em notebooks Jupyter é atribuir um valor a um nome e avaliar imediatamente o nome na última linha da célula para que o valor seja exibido como saída."
   ]
  },
  {
   "cell_type": "code",
   "execution_count": null,
   "metadata": {},
   "outputs": [],
   "source": [
    "proximo_de_pi = 355 / 113\n",
    "proximo_de_pi"
   ]
  },
  {
   "cell_type": "markdown",
   "metadata": {},
   "source": [
    "Outro padrão comum é que uma série de linhas em uma única célula criará um cálculo complexo em etapas, nomeando os resultados intermediários."
   ]
  },
  {
   "cell_type": "code",
   "execution_count": null,
   "metadata": {},
   "outputs": [],
   "source": [
    "salario_bimensal = 840\n",
    "salario_mensal = 2 * salario_bimensal\n",
    "numero_de_meses_no_ano = 12\n",
    "salario_anual = numero_de_meses_no_ano * salario_mensal\n",
    "salario_anual"
   ]
  },
  {
   "cell_type": "markdown",
   "metadata": {},
   "source": [
    "Os nomes em Python podem ter letras (letras maiúsculas e minúsculas são aceitáveis ​​e contam como letras diferentes), sublinhados e números. O primeiro caractere não pode ser um número (caso contrário, o nome poderá parecer um número). E os nomes não podem conter espaços, pois os espaços são usados ​​para separar trechos de código uns dos outros.\n",
    "\n",
    "Além dessas regras, o nome que você dá a algo não importa *para o Python*. Por exemplo, esta célula faz a mesma coisa que a célula acima, exceto que tudo tem um nome diferente:"
   ]
  },
  {
   "cell_type": "code",
   "execution_count": null,
   "metadata": {},
   "outputs": [],
   "source": [
    "a = 840\n",
    "b = 2 * a\n",
    "c = 12\n",
    "d = c * b\n",
    "d"
   ]
  },
  {
   "cell_type": "markdown",
   "metadata": {},
   "source": [
    "**No entanto**, os nomes são muito importantes para tornar seu código *legível* para você e outras pessoas. A célula acima é mais curta, mas é totalmente inútil sem uma explicação do que faz.\n",
    "\n",
    "De acordo com uma famosa piada entre cientistas da computação, nomear coisas é um dos dois problemas mais difíceis da ciência da computação (Os outros dois são invalidação de cache e erros \"off-by-one\". E as pessoas dizem que os cientistas da computação têm um estranho senso de humor...).\n",
    "\n",
    "**Questão 3.1.2.** Atribua o nome `seconds_in_a_day` ao número de segundos em um dia. Embora você *poderia* usar uma calculadora ou perguntar ao Google, tente calcular a resposta com código Python."
   ]
  },
  {
   "cell_type": "code",
   "execution_count": null,
   "metadata": {},
   "outputs": [],
   "source": [
    "# Mude a linha a seguir para computar o número de segundos\n",
    "# em um dia. E depois, atribua esse valor para a variável \"segundos_em_um_dia\"\n",
    "segundos_em_um_dia = ...\n",
    "\n",
    "# Colocamos essa linha no final da célula para que ela possa ser exibida\n",
    "# Você não precisa mudar isso.\n",
    "segundos_em_um_dia"
   ]
  },
  {
   "cell_type": "markdown",
   "metadata": {},
   "source": [
    "## 3.2. Comentários\n",
    "\n",
    "O que o `#` está fazendo no código abaixo?"
   ]
  },
  {
   "cell_type": "code",
   "execution_count": null,
   "metadata": {},
   "outputs": [],
   "source": [
    "99 * 2 - 14 * 10 - 16 # a resposta para a questão fundamental da vida, do universo, e de tudo mais"
   ]
  },
  {
   "cell_type": "markdown",
   "metadata": {},
   "source": [
    "Isso é chamado de *comentário*. Isso não faz nada acontecer em Python; Python ignora qualquer coisa em uma linha após um #. Comentário são úteis para comunicar algo sobre o código a você, leitor humano. Além disso, eles servem para melhorar a legibilidade do seu código. Você deve escrevê-los com frequência para explicar a qualquer pessoa que esteja olhando seu código (ou para você mesmo no futuro!) O que seu código está fazendo.\n",
    "\n",
    "<img src=\"http://imgs.xkcd.com/comics/future_self.png\">"
   ]
  },
  {
   "cell_type": "markdown",
   "metadata": {},
   "source": [
    "Um (mau) uso de comentários é impedir a execução do código. Por exemplo, execute a célula abaixo ..."
   ]
  },
  {
   "cell_type": "code",
   "execution_count": null,
   "metadata": {
    "scrolled": true
   },
   "outputs": [],
   "source": [
    "1 / 0"
   ]
  },
  {
   "cell_type": "markdown",
   "metadata": {},
   "source": [
    "Agora coloque um `#` na frente de `1/0` e execute novamente a célula. O erro desapareceu!\n",
    "\n",
    "Isso pode ser considerado um uso indevido de comentários, porque você provavelmente deveria apenas remover o código que não está em execução. Ainda assim, tem seus usos."
   ]
  },
  {
   "cell_type": "markdown",
   "metadata": {},
   "source": [
    "## 3.4. Estranheza\n",
    "\n",
    "Se a qualquer momento algo parecer estranho - o Jupyter não está agindo como você espera, você não está vendo nenhuma saída, etc. - tente isso primeiro. Selecione **Kernel** -> **Reiniciar e executar tudo**. Isto irá \"reiniciar\" o Python, fazendo com que ele esqueça todas as variáveis ​​que foram definidas até agora. Em seguida, todo o notebook será executado de cima para baixo. Não se preocupe, você não perderá nenhuma célula já preenchida fazendo isso.\n",
    "\n",
    "Tente agora! Iremos esperar...\n",
    "\n",
    "Algo deu errado? Você pode notar que parece que o Python avaliou parte do seu notebook, mas só chegou até certo ponto antes de parar. Você pode dizer isso porque a maioria das células ainda tem `In []` próximo a elas; se uma célula foi executada, ela também terá um número, como `In [3]`. O que será que houve?\n",
    "\n",
    "Lembre-se de que na Seção 1.4 incluímos algum código que gera um erro. Quando você executa **Kernel** -> **Reiniciar e executar tudo**, o Python avaliará as células do seu notebook uma por uma *até* encontrar um erro. Neste ponto ele para e desiste. Essa é provavelmente a coisa certa a fazer, já que as células que virão podem depender da célula que apresentou o erro. Você pode fazer com que o Python avalie as células restantes corrigindo o erro acima (e quaisquer outros erros que ainda possam existir).\n",
    "\n",
    "No nosso caso, pode voltar e executar as células que não levam a um erro ou continuar a partir daqui (as células seguintes não irão depender das anteriores)."
   ]
  },
  {
   "cell_type": "markdown",
   "metadata": {},
   "source": [
    "# 4. Chamando funções\n",
    "\n",
    "A maneira mais comum de combinar ou manipular valores em Python é chamando (ou seja, usando) funções. Python vem com muitas funções integradas que executam operações comuns.\n",
    "\n",
    "Por exemplo, a função `abs` pega um único número como argumento e retorna o valor absoluto desse número. O valor absoluto de um número é sua distância de 0 na reta numérica, então `abs(5)` é 5 e `abs(-5)` também é 5."
   ]
  },
  {
   "cell_type": "code",
   "execution_count": null,
   "metadata": {},
   "outputs": [],
   "source": [
    "abs(5)"
   ]
  },
  {
   "cell_type": "code",
   "execution_count": null,
   "metadata": {},
   "outputs": [],
   "source": [
    "abs(-5)"
   ]
  },
  {
   "cell_type": "markdown",
   "metadata": {},
   "source": [
    "##### Vários argumentos\n",
    "Algumas funções aceitam vários argumentos (ou entradas), separados por vírgulas. Por exemplo, a função nativa `max` precisa de pelo menos uma entrada e retorna a maior entrada desse tipo."
   ]
  },
  {
   "cell_type": "code",
   "execution_count": null,
   "metadata": {},
   "outputs": [],
   "source": [
    "max(2, -3, 5, -4)"
   ]
  },
  {
   "cell_type": "markdown",
   "metadata": {},
   "source": [
    "## 4.1. Compreendendo expressões aninhadas\n",
    "Chamadas de função e expressões aritméticas podem conter expressões. Por exemplo:\n",
    "\n",
    "```python\n",
    "abs(42-34)\n",
    "```\n",
    "\n",
    "tem 2 expressões numéricas em uma expressão de subtração em uma expressão de chamada de função.\n",
    "\n",
    "Expressões aninhadas podem se transformar em códigos de aparência complicada. No entanto, a forma como expressões complicadas se decompõem é muito regular. Aqui está um exemplo:\n",
    "\n",
    "Suponha que estejamos interessados ​​em alturas muito incomuns. Diremos que uma altura é incomum na medida em que está distante, na reta numérica, da altura humana média. Uma estimativa da altura média de um ser humano adulto (média, esperamos, de todos os humanos na Terra hoje) é de 1.688 metros.\n",
    "\n",
    "Portanto, se Aditya tem 1,21 metros de altura, então sua altura está $|1,21 - 1,688|$, ou $,478$, metros de distância da média. Aqui está uma foto disso:\n",
    "\n",
    "<img src=\"https://github.com/ThiagoPoppe/monitoria_fcd2024/blob/main/labs/lab00/imagens/numberline_0.png?raw=true\">\n",
    "\n",
    "E é assim que escreveríamos isso em uma linha de código Python:"
   ]
  },
  {
   "cell_type": "code",
   "execution_count": null,
   "metadata": {},
   "outputs": [],
   "source": [
    "abs(1.21 - 1.688)"
   ]
  },
  {
   "cell_type": "markdown",
   "metadata": {},
   "source": [
    "O que está acontecendo aqui? `abs` leva apenas um argumento, então o que está entre parênteses faz parte desse *único argumento*. Especificamente, o argumento é o valor da expressão `1,21 - 1,688`. O valor dessa expressão é `-0,478`. Esse valor é o argumento para `abs`. O valor absoluto disso é `0,478`, então `0,478` é o valor da expressão completa `abs(1,21 - 1,688)`.\n",
    "\n",
    "Imagine simplificar a expressão em várias etapas:\n",
    "\n",
    "```python\n",
    "abs(1,21 - 1,688)\n",
    "abs(-0,478)\n",
    "0.478\n",
    "```\n",
    "\n",
    "Isso é essencialmente o que o Python faz para calcular o valor da expressão."
   ]
  },
  {
   "cell_type": "markdown",
   "metadata": {},
   "source": [
    "**Questão 4.1.1.** Digamos que a altura de Botan seja 1,85 metros. Na próxima célula, use `abs` para calcular o valor absoluto da diferença entre a altura de Botan e a altura humana média. Dê a esse valor o nome `botan_distance_from_average_m`.\n",
    "\n",
    "<img src=\"https://github.com/ThiagoPoppe/monitoria_fcd2024/blob/main/labs/lab00/imagens/numberline_1.png?raw=true\">"
   ]
  },
  {
   "cell_type": "code",
   "execution_count": null,
   "metadata": {
    "scrolled": true
   },
   "outputs": [],
   "source": [
    "# Substitua o ... com a expressão que computa a diferença absoluta de altura\n",
    "# entre a altura de Botan (1.85m) e a altura média de um ser humano\n",
    "distancia_da_altura_de_botan_da_media = ...\n",
    "\n",
    "# Novamente, iremos escrever isso aqui para que a sua resposta seja exibida\n",
    "distancia_da_altura_de_botan_da_media"
   ]
  },
  {
   "cell_type": "markdown",
   "metadata": {},
   "source": [
    "## 4.2. Mais aninhamento\n",
    "Agora digamos que queremos calcular a altura mais incomum entre as alturas de Aditya e Botan. Usaremos a função `max`, que (novamente) recebe dois números como argumentos e retorna o maior dos dois argumentos. Combinando isso com a função `abs`, podemos calcular a maior distância da média entre as duas alturas:"
   ]
  },
  {
   "cell_type": "code",
   "execution_count": null,
   "metadata": {},
   "outputs": [],
   "source": [
    "# Apenas leia e execute essa célula.\n",
    "\n",
    "altura_aditya = 1.21\n",
    "altura_botan = 1.85\n",
    "altura_media_humano = 1.688\n",
    "\n",
    "# The biggest distance from the average human height, among the two heights:\n",
    "maior_distancia = max(abs(altura_aditya - altura_media_humano), abs(altura_botan - altura_media_humano))\n",
    "\n",
    "# Print out our results in a nice readable format:\n",
    "print(\"A maior distância da altura média entre ambas pessoas é:\", maior_distancia, \"metros.\")"
   ]
  },
  {
   "cell_type": "markdown",
   "metadata": {},
   "source": [
    "A linha onde `maior_distancia` é calculada parece complicada, mas podemos dividi-la em componentes mais simples, como fizemos antes.\n",
    "\n",
    "A receita básica é a simplificação repetida de pequenas partes da expressão:\n",
    "* Começamos com os componentes mais simples cujos valores conhecemos, como nomes simples ou números. (Exemplos: `altura_aditya` ou `5`.)\n",
    "* **Encontre um grupo de expressões suficientemente simples:** Procuramos um grupo de expressões simples que estejam diretamente conectadas entre si no código, por exemplo, por aritmética ou como argumentos para uma chamada de função.\n",
    "* **Avalie esse grupo:** Avaliamos as expressões aritméticas ou chamadas de função das quais elas fazem parte e substituímos o grupo inteiro por tudo o que calculamos. (Exemplo: `aditya_height_m - altura_media_humano` torna-se `-0,478`.)\n",
    "* **Repetição:** Continuamos esse processo, usando os valores do material agrupado como nossos novos componentes básicos. (Exemplo: `abs(-0,478)` torna-se `0,478` e `max(0,478, 0,162)` posteriormente torna-se `0,478`.)\n",
    "* Continuamos fazendo isso até avaliarmos toda a expressão.\n",
    "\n",
    "Você pode executar a próxima célula para ver uma apresentação de slides desse processo."
   ]
  },
  {
   "cell_type": "code",
   "execution_count": null,
   "metadata": {},
   "outputs": [],
   "source": [
    "from IPython.display import IFrame\n",
    "IFrame('https://docs.google.com/presentation/d/1urkX-nRsD8VJvcOnJsjmCy0Jpv752Ssn5Pphg2sMC-0/embed?start=false&loop=false&delayms=3000', 800, 600)"
   ]
  },
  {
   "cell_type": "markdown",
   "metadata": {},
   "source": [
    "Ok, sua vez.\n",
    "\n",
    "**Pergunta 4.2.1.** Dadas as alturas dos três melhores jogadores do Los Angeles Lakers deste ano 🏀 (LeBron James, Anthony Davis e Russell Westbrook), escreva uma expressão que calcule a diferença **mínima** entre qualquer uma das três alturas. Sua expressão não deve conter nenhum número, apenas chamadas de função e os nomes `lebron`, `anthony` e `russell`. Dê ao valor da sua expressão o nome `diferenca_de_altura_minima`."
   ]
  },
  {
   "cell_type": "code",
   "execution_count": null,
   "metadata": {},
   "outputs": [],
   "source": [
    "# A altura dos três jogadores em metros:\n",
    "lebron = 2.06  # 6'9\"\n",
    "anthony = 2.08 # 6'10\"\n",
    "russell = 1.91 # 6'3\"\n",
    "\n",
    "# Gostariamos de olhar para todos os 3 pares de altura e computar a\n",
    "# diferença absoluta entre cada par. Posteriormente, achariamos qual\n",
    "# é o menor valor dentre esses 3 pares.\n",
    "diferenca_de_altura_minima = ...\n",
    "diferenca_de_altura_minima"
   ]
  },
  {
   "cell_type": "markdown",
   "metadata": {},
   "source": [
    "## 4.3. Juntando tudo\n",
    "\n",
    "Vamos revisitar tudo o que vimos até agora.\n",
    "\n",
    "Os dois blocos de construção do código Python são *expressões* e *instruções*. Para ser claro, uma expressão é um pedaço de código que\n",
    "\n",
    "* é independente, o que significa que faria sentido escrevê-lo sozinho em uma linha, e\n",
    "* geralmente tem um valor.\n",
    "\n",
    "\n",
    "Aqui estão duas expressões que são avaliadas como 3\n",
    "\n",
    "```python\n",
    "3\n",
    "5 - 2\n",
    "```\n",
    "\n",
    "Uma forma importante de expressão é a expressão de chamada, que primeiro nomeia uma função e depois descreve seus argumentos. A função retorna algum valor, com base em seus argumentos. Já vimos `abs`, `max` e `min` – aqui estão eles, junto com alguns outros:\n",
    "\n",
    "| Função | Descrição |\n",
    "|----------|---------------------------------------------------------------|\n",
    "| `abs` | Retorna o valor absoluto do seu argumento |\n",
    "| `max` | Retorna o máximo de todos os seus argumentos |\n",
    "| `min` | Retorna o mínimo de todos os seus argumentos |\n",
    "| `pow` | Eleva o seu primeiro argumento à potência do seu segundo argumento |\n",
    "| `round` | Arredonda seu argumento para o número inteiro mais próximo |\n",
    "\n",
    "Aqui estão duas expressões de chamada. O primeiro avalia como 5, o segundo avalia como 3.\n",
    "\n",
    "```python\n",
    "abs(2 + 3)\n",
    "max(round(2, 8), min(pow(2, 10), -1 * pow(2, 10)))\n",
    "```\n",
    "\n",
    "Ambas as expressões acima são **expressões compostas**, o que significa que são, na verdade, combinações de várias expressões menores. `2 + 3` combina as expressões `2` e `3` por adição. Nesse caso, `2` e `3` são chamados de **subexpressões** porque são expressões que fazem parte de uma expressão maior.\n",
    "\n",
    "Uma **instrução** é uma linha inteira de código. Algumas declarações são apenas expressões. As expressões listadas acima são exemplos.\n",
    "\n",
    "Outras declarações *fazem algo acontecer* em vez de *terem um valor*. Depois de serem executados, algo no mundo mudou. Por exemplo, uma instrução de atribuição atribui um valor a um nome.\n",
    "\n",
    "Uma boa maneira de pensar sobre isso é **avaliando o lado direito** do sinal de igual e **atribuíndo-o ao lado esquerdo**. Aqui estão algumas declarações de atribuição:\n",
    "\n",
    "```python\n",
    "altura = 1.3\n",
    "o_numero_cinco = abs(-5)\n",
    "diferenca_de_altura_absoluta = abs(altura - 1.688)\n",
    "```\n",
    "\n",
    "Uma ideia chave na programação é que coisas grandes e interessantes podem ser construídas combinando muitas coisas simples e desinteressantes. A chave para entender um trecho complicado de código é dividi-lo em seus componentes simples.\n",
    "\n",
    "Por exemplo, muita coisa está acontecendo na última afirmação acima, mas na verdade é apenas uma combinação de algumas coisas. Esta imagem descreve o que está acontecendo.\n",
    "\n",
    "<img src=\"https://github.com/ThiagoPoppe/monitoria_fcd2024/blob/main/labs/lab00/imagens/statement.jpg?raw=true\">"
   ]
  },
  {
   "cell_type": "markdown",
   "metadata": {},
   "source": [
    "Vamos tentar mais um problema.\n",
    "\n",
    "**Questão 4.3.1.** Na próxima célula, atribua o nome `ano_novo` ao maior número entre os dois números a seguir:\n",
    "\n",
    "1. o valor absoluto de $2^{5}-2^{11}-2^2$, e\n",
    "2. $(10 + (9 + 8 \\times 7) \\times 6) \\times 5 + 4 \\times 3 \\times 2 - 1$.\n",
    "\n",
    "Tente usar apenas uma instrução (uma linha de código)."
   ]
  },
  {
   "cell_type": "code",
   "execution_count": null,
   "metadata": {},
   "outputs": [],
   "source": [
    "abs(2**5 - 2**11 - 4)"
   ]
  },
  {
   "cell_type": "code",
   "execution_count": null,
   "metadata": {},
   "outputs": [],
   "source": [
    "ano_novo = ...\n",
    "ano_novo"
   ]
  },
  {
   "cell_type": "markdown",
   "metadata": {},
   "source": [
    "---\n",
    "\n",
    "# Parte 2: Tipos de dados\n",
    "\n",
    "Na Parte 1, vimos pela primeira vez os notebooks Python e Jupyter. Até agora, usamos Python apenas para manipular números. A vida é muito mais do que números, então Python nos permite representar muitos outros tipos de dados em programas.\n",
    "\n",
    "Nesta parte, você verá primeiro como representar e manipular outro tipo fundamental de dados: texto. Um pedaço de texto é chamado de *string* em Python.\n",
    "\n",
    "Você também verá como invocar *métodos*. Um método é muito semelhante a uma função. Parece um pouco diferente porque está vinculado a um dado específico (como um trecho de texto ou um número)."
   ]
  },
  {
   "cell_type": "markdown",
   "metadata": {},
   "source": [
    "# 5. Texto\n",
    "A programação não diz respeito apenas a números. O texto é um dos tipos de valores mais comuns usados ​​em programas.\n",
    "\n",
    "## 5.1. Introdução às *strings*\n",
    "\n",
    "Um trecho de texto é representado por um **valor de string** em Python. A palavra \"*string*\" é um termo de programação para uma sequência de caracteres. Uma string pode conter um único caractere, uma palavra, uma frase ou um livro inteiro.\n",
    "\n",
    "Para distinguir os dados de texto do código real, demarcamos as strings colocando-as entre aspas. Aspas simples (`'`) e aspas duplas (`\"`) são válidas, mas os tipos de aspas de abertura e fechamento devem corresponder. O conteúdo pode ser qualquer sequência de caracteres, incluindo números e símbolos.\n",
    "\n",
    "Já vimos strings antes em instruções `print`. Abaixo, duas strings diferentes são passadas como argumentos para a função `print`."
   ]
  },
  {
   "cell_type": "code",
   "execution_count": null,
   "metadata": {},
   "outputs": [],
   "source": [
    "print(\"Eu <3\", 'Ciência dos Dados')"
   ]
  },
  {
   "cell_type": "markdown",
   "metadata": {},
   "source": [
    "Assim como nomes podem ser dados a números, nomes podem ser dados a valores de string. Os nomes e strings não precisam ser semelhantes de forma alguma. Qualquer nome pode ser atribuído a qualquer string."
   ]
  },
  {
   "cell_type": "code",
   "execution_count": null,
   "metadata": {},
   "outputs": [],
   "source": [
    "um = 'dois'\n",
    "mais = '*'\n",
    "print(um, mais, um)"
   ]
  },
  {
   "cell_type": "markdown",
   "metadata": {},
   "source": [
    "**Pergunta 5.1.1.** Yuri Gagarin foi a primeira pessoa a viajar pelo espaço sideral. Quando ele emergiu de sua cápsula ao pousar na Terra, ele [aparentemente](https://en.wikiquote.org/wiki/Yuri_Gagarin) teve a seguinte conversa com uma mulher e uma garota que viram o pouso:\n",
    "\n",
    "> A mulher perguntou: “Será que você veio do espaço sideral?”\n",
    ">\n",
    "> Gagarin respondeu: \"Na verdade, sim!\"\n",
    "\n",
    "A célula abaixo contém código inacabado. Preencha os `...` para que esta conversa seja impressa *exatamente* como aparece acima."
   ]
  },
  {
   "cell_type": "code",
   "execution_count": null,
   "metadata": {},
   "outputs": [],
   "source": [
    "mulher_perguntou = ...\n",
    "frase_da_mulher = '\"Será que você veio do espaço sideral?\"'\n",
    "gagarin_respondeu = 'Gagarin respondeu:'\n",
    "frase_do_gagarin = ...\n",
    "\n",
    "print(mulher_perguntou, frase_da_mulher)\n",
    "print(gagarin_respondeu, frase_do_gagarin)"
   ]
  },
  {
   "cell_type": "markdown",
   "metadata": {},
   "source": [
    "## 5.2. Métodos de string"
   ]
  },
  {
   "cell_type": "markdown",
   "metadata": {},
   "source": [
    "Strings podem ser transformadas usando **métodos**, que são funções que envolvem uma string existente e alguns outros argumentos. Um exemplo é o método `replace`, que substitui todas as instâncias de alguma parte de uma string por alguma alternativa.\n",
    "\n",
    "Um método é invocado em uma string colocando um `.` após o valor da string, depois o nome do método e, finalmente, parênteses contendo os argumentos. Aqui está um esboço, onde os símbolos `<` e `>` não fazem parte da sintaxe; eles apenas marcam os limites das subexpressões.\n",
    "\n",
    "> `<string>.<nome do método>(<argumento>, <argumento>, ...)`\n",
    "\n",
    "Tente prever o resultado desses exemplos e execute-os."
   ]
  },
  {
   "cell_type": "code",
   "execution_count": null,
   "metadata": {},
   "outputs": [],
   "source": [
    "# Substituíndo uma letra\n",
    "'Hello'.replace('o', 'a')"
   ]
  },
  {
   "cell_type": "code",
   "execution_count": null,
   "metadata": {},
   "outputs": [],
   "source": [
    "# Substituíndo uma sequência de letras por outra (note que a sequência se repete na palavra)\n",
    "'hitchhiker'.replace('hi', 'ma')"
   ]
  },
  {
   "cell_type": "markdown",
   "metadata": {},
   "source": [
    "Depois que uma variável é vinculada a um valor de string, os métodos também podem ser invocados nessa variável (lembre-se, \"variável\" é outra palavra para \"nome\"). A variável `sharp` não muda neste caso, então uma nova variável é necessária para capturar o resultado."
   ]
  },
  {
   "cell_type": "code",
   "execution_count": null,
   "metadata": {},
   "outputs": [],
   "source": [
    "sharp = 'edged'\n",
    "hot = sharp.replace('ed', 'ma')\n",
    "print('sharp:', sharp)\n",
    "print('hot:', hot)"
   ]
  },
  {
   "cell_type": "markdown",
   "metadata": {},
   "source": [
    "Você pode chamar funções nos resultados de outras funções. Por exemplo,\n",
    "\n",
    "```python\n",
    "max(abs(-5), abs(3))\n",
    "```\n",
    "\n",
    "tem valor 5. Da mesma forma, você pode invocar métodos nos resultados de outras chamadas de método (ou função). Faremos isso com bastante frequência."
   ]
  },
  {
   "cell_type": "code",
   "execution_count": null,
   "metadata": {},
   "outputs": [],
   "source": [
    "# Chamando duas vezes a função replace\n",
    "'train'.replace('t', 'ing').replace('in', 'de')"
   ]
  },
  {
   "cell_type": "markdown",
   "metadata": {},
   "source": [
    "Aqui está uma imagem de como o Python avalia uma chamada de método \"encadeada\" como esta:\n",
    "\n",
    "<img src=\"https://github.com/ThiagoPoppe/monitoria_fcd2024/blob/main/labs/lab00/imagens/chaining_method_calls.jpg?raw=true\"/>"
   ]
  },
  {
   "cell_type": "markdown",
   "metadata": {},
   "source": [
    "**Questão 5.2.1.** Atribua strings aos nomes `you` e `this` para que, no final da célula, o nome `the` contenha uma palavra em inglês de 10 letras com três letras duplas seguidas.\n",
    "\n",
    "*Dica:* Depois de adivinhar alguns valores para `you` e `this`, você pode querer olhar para o valor de `the` após a linha `the = a.replace('p', you)` ser executada , mas antes da linha `the = the.replace('bee', this)` ser executada. Para fazer isso, adicione uma instrução print entre essas duas linhas:\n",
    "\n",
    "```python\n",
    "print(the)\n",
    "```\n",
    "\n",
    "*Dica 2:* Caso esteja muito difícil de pensar em uma palavra, tente gerar uma palavra que tenha `book` e que repita o `k`."
   ]
  },
  {
   "cell_type": "code",
   "execution_count": null,
   "metadata": {},
   "outputs": [],
   "source": [
    "you = ...\n",
    "this = ...\n",
    "a = 'beeper'\n",
    "the = a.replace('p', you)\n",
    "the = the.replace('bee', this)\n",
    "the"
   ]
  },
  {
   "cell_type": "markdown",
   "metadata": {},
   "source": [
    "Outros métodos de string não aceitam nenhum argumento, porque a string original é tudo o que é necessário para calcular o resultado. Nesse caso, os parênteses ainda são necessários, mas não há nada entre eles. Aqui estão alguns métodos que funcionam dessa maneira:\n",
    "\n",
    "|Nome do método|Valor|\n",
    "|-|-|\n",
    "|`lower`|uma versão em minúscula da string|\n",
    "|`upper`|uma versão em maiúscula da string|\n",
    "|`capitalize`|uma versão com a primeira letra maiúscula|\n",
    "|`title`|uma versão com a primeira letra de cada palavra em maiúscula||\n"
   ]
  },
  {
   "cell_type": "code",
   "execution_count": null,
   "metadata": {},
   "outputs": [],
   "source": [
    "'UnIvErSiDaDe Da CaLiFoRnIa, SaN dIeGo'.title()"
   ]
  },
  {
   "cell_type": "code",
   "execution_count": null,
   "metadata": {},
   "outputs": [],
   "source": [
    "'feliz ano novo 🎉‼️'.upper()"
   ]
  },
  {
   "cell_type": "markdown",
   "metadata": {},
   "source": [
    "Todos esses métodos de string são úteis, mas a maioria dos programadores não memoriza seus nomes ou como usá-los. No “mundo real”, as pessoas geralmente apenas pesquisam na internet por documentações e exemplos. Uma [lista de métodos de *strings*](https://docs.python.org/3/library/stdtypes.html#string-methods) completa aparece na documentação da linguagem Python. O link anterior possui um enorme banco de dados de perguntas respondidas que geralmente demonstram como usar esses métodos para atingir vários fins. Nesta aula, você está convidado a usar esses e outros recursos da internet para aprender sobre os métodos Python e como usá-los."
   ]
  },
  {
   "cell_type": "markdown",
   "metadata": {},
   "source": [
    "## 5.3. Convertendo de e para strings"
   ]
  },
  {
   "cell_type": "markdown",
   "metadata": {},
   "source": [
    "Strings e números são *tipos* de valores diferentes, mesmo quando uma string contém os dígitos de um número. Por exemplo, a célula a seguir causa um erro porque um número inteiro não pode ser adicionado a uma string."
   ]
  },
  {
   "cell_type": "code",
   "execution_count": null,
   "metadata": {},
   "outputs": [],
   "source": [
    "8 + \"8\""
   ]
  },
  {
   "cell_type": "markdown",
   "metadata": {},
   "source": [
    "**Dica**: você pode querer comentar o código na célula acima para que não resulte em erro."
   ]
  },
  {
   "cell_type": "markdown",
   "metadata": {},
   "source": [
    "No entanto, existem funções integradas para converter números em strings e strings em números.\n",
    "\n",
    "- **`int`:** Converte uma sequência de dígitos em um valor inteiro (`int`)\n",
    "- **`float`:** Converte uma sequência de dígitos, talvez com um ponto decimal, em um valor decimal (`float`)\n",
    "- **`str`:** Converte qualquer valor em uma string"
   ]
  },
  {
   "cell_type": "markdown",
   "metadata": {},
   "source": [
    "Tente prever como será avaliada a célula a seguir e, em seguida, execute-a."
   ]
  },
  {
   "cell_type": "code",
   "execution_count": null,
   "metadata": {},
   "outputs": [],
   "source": [
    "8 + int(\"8\")"
   ]
  },
  {
   "cell_type": "markdown",
   "metadata": {},
   "source": [
    "Suponha que você esteja escrevendo um programa que procura datas em texto e deseja que seu programa encontre a quantidade de tempo decorrido entre dois anos que ele identificou. Não faz sentido subtrair dois trechos de texto. Logo, o que precisamos fazer primeiro é converter o texto que contém os anos em números.\n",
    "\n",
    "**Questão 5.3.1.** Conclua o código abaixo para calcular o número de anos decorridos entre `one_year` e `another_year`. Não escreva apenas os números `1618` e `1648` (ou a resposta, `30`); use uma função de conversão para transformar os dados de texto fornecidos em números."
   ]
  },
  {
   "cell_type": "code",
   "execution_count": null,
   "metadata": {},
   "outputs": [],
   "source": [
    "# Apenas um dado textual:\n",
    "um_ano = \"1618\"\n",
    "outro_ano = \"1648\"\n",
    "\n",
    "# Complete a seguinte linha. Note que fazer outro_ano - um_ano não funciona!\n",
    "# Se você não conseguiu entender o porquê, faça assim e veja o que acontece.\n",
    "diferenca = ...\n",
    "diferenca"
   ]
  },
  {
   "cell_type": "markdown",
   "metadata": {},
   "source": [
    "## 5.4. Strings como argumentos de função\n",
    "\n",
    "Valores de string, como números, podem ser argumentos para funções e podem ser retornados por funções. A função `len` recebe uma única string como argumento e retorna o número de caracteres na string: seu **len**-gth.\n",
    "\n",
    "Observe que não conta *palavras*. `len(\"one small step for man\")` é 22, não 5. Ele *conta* espaços como caracteres.\n",
    "\n",
    "**Pergunta 5.4.1.** Use `len` para descobrir o número de caracteres na string muito longa na próxima célula. (É a primeira frase da tradução em inglês do francês [Declaration of the Rights of Man](http://avalon.law.yale.edu/18th_century/rightsof.asp).) O comprimento de uma string é o número total de caracteres nela, incluindo coisas como espaços e pontuação. Atribua `sentence_length` a esse número."
   ]
  },
  {
   "cell_type": "code",
   "execution_count": null,
   "metadata": {},
   "outputs": [],
   "source": [
    "uma_sentenca_longa = \"The representatives of the French people, organized as a National Assembly, believing that the ignorance, neglect, or contempt of the rights of man are the sole cause of public calamities and of the corruption of governments, have determined to set forth in a solemn declaration the natural, unalienable, and sacred rights of man, in order that this declaration, being constantly before all the members of the Social body, shall remind them continually of their rights and duties; in order that the acts of the legislative power, as well as those of the executive power, may be compared at any moment with the objects and purposes of all political institutions and may thus be more respected, and, lastly, in order that the grievances of the citizens, based hereafter upon simple and incontestable principles, shall tend to the maintenance of the constitution and redound to the happiness of all.\"\n",
    "tamanho_da_sentenca = ...\n",
    "tamanho_da_sentenca"
   ]
  },
  {
   "cell_type": "markdown",
   "metadata": {},
   "source": [
    "# 6. Importando código\n",
    "\n",
    "> O que foi será novamente,<br>\n",
    "> O que foi feito será feito novamente;<br>\n",
    "> Não há nada de novo sob o sol.\n",
    "\n",
    "A maior parte da programação envolve um trabalho muito semelhante ao trabalho feito antes. Como escrever código é demorado, é bom confiar no código publicado por outras pessoas sempre que possível. Em vez de copiar e colar, Python nos permite **importar** outro código, criando um **módulo** que contém todos os nomes criados por esse código. Esta é a forma de um programador atribuir o material ao criador original, como você sempre deve fazer!\n",
    "\n",
    "Python inclui muitos módulos úteis que estão a apenas uma `importação` de distância. Veremos o módulo `math` como primeiro exemplo. O módulo `math` é extremamente útil no cálculo de expressões matemáticas em Python.\n",
    "\n",
    "## 6.1. Importando constantes\n",
    "\n",
    "Suponha que queiramos calcular com muita precisão a área de um círculo com raio de 5 metros. Para isso, precisamos da constante $\\pi$, que é aproximadamente 3,14. Convenientemente, o módulo `math` tem `pi` definido para nós:"
   ]
  },
  {
   "cell_type": "code",
   "execution_count": null,
   "metadata": {},
   "outputs": [],
   "source": [
    "import math\n",
    "raio = 5\n",
    "area_do_circulo = math.pi * raio**2 \n",
    "area_do_circulo"
   ]
  },
  {
   "cell_type": "markdown",
   "metadata": {},
   "source": [
    "`pi` é definido dentro de `math`, e a forma como acessamos os nomes que estão dentro dos módulos é escrevendo o nome do módulo, depois um ponto e depois o nome do que queremos:\n",
    "\n",
    "> <nome do módulo>.\\<nome>\n",
    "\n",
    "Para usar um módulo, devemos primeiro escrever a instrução `import <nome do módulo>`. Essa instrução cria um objeto de módulo com coisas como `pi` e então atribui o nome `math` a esse módulo. Acima fizemos isso para `math`."
   ]
  },
  {
   "cell_type": "markdown",
   "metadata": {},
   "source": [
    "**Pergunta 6.1.1.** `math` também fornece o nome `e` para a base do logaritmo natural, que é aproximadamente 2,71. Calcule $e^{\\pi}-\\pi$, dando-lhe o nome `quase_vinte`."
   ]
  },
  {
   "cell_type": "code",
   "execution_count": null,
   "metadata": {},
   "outputs": [],
   "source": [
    "quase_vinte = ...\n",
    "quase_vinte"
   ]
  },
  {
   "cell_type": "markdown",
   "metadata": {},
   "source": [
    "![XKCD](http://imgs.xkcd.com/comics/e_to_the_pi_minus_pi.png)"
   ]
  },
  {
   "cell_type": "markdown",
   "metadata": {},
   "source": [
    "## 6.2. Importando funções\n",
    "\n",
    "**Módulos** podem fornecer outros itens nomeados além de constantes, incluindo **funções**. Por exemplo, `math` fornece o nome `sin` para a função seno. Já tendo importado `math`, podemos escrever `math.sin(3)` para calcular o seno de 3.\n",
    "\n",
    "Observe que esta função senoidal considera seu argumento em [radianos](https://en.wikipedia.org/wiki/Radian), não em graus. 180 graus equivalem a $\\pi$ radianos.\n",
    "\n",
    "**Questão 6.2.1.** Um ângulo $\\frac{\\pi}{4}$-radianos (45 graus) forma um triângulo retângulo com base e altura iguais, como ilustrado abaixo. Se a hipotenusa (o raio do círculo na imagem) for 1, então a altura é $\\sin(\\frac{\\pi}{4})$. Calcule essa altura usando `sin` e `pi` do módulo `math`. Dê ao resultado o nome `seno_de_pi_sobre_quatro`.\n",
    "\n",
    "<img src=\"http://mathworld.wolfram.com/images/eps-gif/TrigonometryAnglesPi4_1000.gif\">\n",
    "\n",
    "Fonte: [Wolfram MathWorld](http://mathworld.wolfram.com/images/eps-gif/TrigonometryAnglesPi4_1000.gif)"
   ]
  },
  {
   "cell_type": "code",
   "execution_count": null,
   "metadata": {},
   "outputs": [],
   "source": [
    "seno_de_pi_sobre_quatro = ...\n",
    "seno_de_pi_sobre_quatro"
   ]
  },
  {
   "cell_type": "markdown",
   "metadata": {},
   "source": [
    "Para sua referência, aqui estão mais alguns exemplos de funções do módulo `math`.\n",
    "\n",
    "Observe como diferentes métodos aceitam diferentes números de argumentos. Frequentemente, a documentação do módulo fornecerá informações sobre quantos argumentos são necessários para cada método."
   ]
  },
  {
   "cell_type": "code",
   "execution_count": null,
   "metadata": {},
   "outputs": [],
   "source": [
    "# Calculando fatoriais\n",
    "math.factorial(5)"
   ]
  },
  {
   "cell_type": "code",
   "execution_count": null,
   "metadata": {},
   "outputs": [],
   "source": [
    "# Calculando logarítmos (logarítmo de 8 na base 2).\n",
    "# O resultado é 3, já que 2^3 = 8.\n",
    "math.log(8, 2)"
   ]
  },
  {
   "cell_type": "code",
   "execution_count": null,
   "metadata": {},
   "outputs": [],
   "source": [
    "# Calculando raiz quadrada.\n",
    "math.sqrt(5)"
   ]
  },
  {
   "cell_type": "code",
   "execution_count": null,
   "metadata": {},
   "outputs": [],
   "source": [
    "# Calculando cossenos.\n",
    "math.cos(math.pi)"
   ]
  },
  {
   "cell_type": "markdown",
   "metadata": {},
   "source": [
    "# Linha de chegada"
   ]
  },
  {
   "cell_type": "markdown",
   "metadata": {},
   "source": [
    "Parabéns! Você concluiu o primeiro laboratório e esperançosamente aprendeu algo sobre programação Python! 🥳\n",
    "\n",
    "As instruções logo abaixo informam como enviar o laboratório."
   ]
  },
  {
   "cell_type": "markdown",
   "metadata": {},
   "source": [
    "Para enviar seu laboratório:\n",
    "\n",
    "1. Selecione `Kernel -> Reiniciar e executar tudo` para garantir que você executou todas as células (pode comentar as células que geram um erro de propósito).\n",
    "2. Leia o notebook para ter certeza de que está tudo bem.\n",
    "3. Baixe seu notebook usando `Arquivo -> Baixar como -> Notebook (.ipynb)` e, em seguida, carregue seu notebook para o Moodle em \"Laboratório 0\".\n",
    "4. Teremos uma avaliação manual por parte dos monitores da matéria. Então, foque em fazer um código bem feito e documente a medida que sentir necessário."
   ]
  }
 ],
 "metadata": {
  "kernelspec": {
   "display_name": "Python 3 (ipykernel)",
   "language": "python",
   "name": "python3"
  },
  "language_info": {
   "codemirror_mode": {
    "name": "ipython",
    "version": 3
   },
   "file_extension": ".py",
   "mimetype": "text/x-python",
   "name": "python",
   "nbconvert_exporter": "python",
   "pygments_lexer": "ipython3",
   "version": "3.10.13"
  }
 },
 "nbformat": 4,
 "nbformat_minor": 4
}
