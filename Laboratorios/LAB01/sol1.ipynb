{
  "cells": [
    {
      "cell_type": "markdown",
      "metadata": {
        "colab_type": "text",
        "id": "view-in-github"
      },
      "source": [
        "<a href=\"https://colab.research.google.com/github/flaviovdf/fcd/blob/main/labs/lab01/sol.ipynb\" target=\"_parent\"><img src=\"https://colab.research.google.com/assets/colab-badge.svg\" alt=\"Open In Colab\"/></a>"
      ]
    },
    {
      "cell_type": "markdown",
      "metadata": {
        "id": "6FQj2Oh1BpHq"
      },
      "source": [
        "# Laboratório 1: Arrays e DataFrames\n",
        "\n",
        "Bem-vindo ao Laboratório 1! Esta semana, aprenderemos sobre arrays, que nos permitem armazenar sequências de dados, e DataFrames, que nos permitem trabalhar com vários arrays de dados sobre as mesmas coisas. Esses tópicos são abordados em na [aula do DSC10](https://notes.dsc10.com/02-data_sets/arrays.html) nas notas `babypandas`.\n",
        "\n",
        "\n",
        "**Não use loops `for` em nenhuma pergunta deste laboratório.** Se você não sabe o que é um loop `for`, não se preocupe: ainda não abordamos isso. Mas se você sabe o que eles são e está se perguntando por que não é correto usá-los, é porque os loops em Python são lentos e os loops em arrays e DataFrames geralmente devem ser evitados, já que temos funções nativas de bibliotecas como `numpy` que são muito mais rápidas.\n",
        "\n",
        "Primeiro, configure as importações necessárias executando a célula abaixo."
      ]
    },
    {
      "cell_type": "code",
      "execution_count": 1,
      "metadata": {
        "id": "MtmLE8yLB0GO"
      },
      "outputs": [],
      "source": [
        "# Descomente para executar no Colab\n",
        "# ! pip install babypandas"
      ]
    },
    {
      "cell_type": "code",
      "execution_count": 2,
      "metadata": {
        "id": "5H6DNswkBpHs"
      },
      "outputs": [],
      "source": [
        "import numpy as np\n",
        "import pandas as pd"
      ]
    },
    {
      "cell_type": "markdown",
      "metadata": {
        "id": "5ZagzL_kBpHt"
      },
      "source": [
        "Além disso, iremos baixar alguns dados que usaremos ao longo desse notebook. Não se preocupe em entender a célula a seguir, mas basicamente o que estamos fazendo é:\n",
        "\n",
        "1. Usaremos `wget` que é um comando para baixarmos coisas da internet.\n",
        "2. Usaremos `unzip` para \"dezipar\" o arquivo `data.zip`, contendo uma pasta com os nossos dados.\n",
        "3. Removeremos `data.zip` com o comando `rm` para não ficarmos com arquivos desnecessários.\n",
        "\n",
        "> Para executarmos comandos de terminal no Jupyter Notebook, iniciamos as linhas com `!`."
      ]
    },
    {
      "cell_type": "code",
      "execution_count": 3,
      "metadata": {
        "id": "kLQh45pfBpHu"
      },
      "outputs": [],
      "source": [
        "#!wget https://github.com/ThiagoPoppe/monitoria_fcd2024/raw/main/labs/lab01/data.zip -P ./\n",
        "#!unzip data.zip\n",
        "#!rm data.zip"
      ]
    },
    {
      "cell_type": "markdown",
      "metadata": {
        "id": "0PPt3MjLBpHu"
      },
      "source": [
        "# 1. Matrizes\n",
        "\n",
        "Os computadores são mais úteis quando você pode usar uma pequena quantidade de código para *fazer a mesma ação* para *muitas coisas diferentes*.\n",
        "\n",
        "Por exemplo, no tempo que você leva para calcular a gorjeta de 18% na conta de um restaurante, um laptop pode calcular gorjetas de 18% para cada conta de restaurante paga por cada ser humano na Terra naquele dia. (Isto é, se você for muito rápido em fazer contas de cabeça!)\n",
        "\n",
        "**Matrizes** são como colocamos muitos valores em um só lugar para que possamos operar neles como um grupo. Por exemplo, se `bilhoes_de_numeros` for uma matriz de números, a expressão\n",
        "\n",
        "```python\n",
        "0.18 * bilhoes_de_numeros\n",
        "```\n",
        "\n",
        "fornece uma nova matriz de números que é o resultado da multiplicação de cada número em `bilhoes_de_numeros` por 0,18 (18%). As matrizes não estão limitadas a números; também podemos colocar todas as palavras de um livro em uma série de strings.\n",
        "\n",
        "Concretamente, uma matriz é uma **coleção de valores do mesmo tipo**, como uma coluna em uma planilha (pense no Planilhas Google ou no Microsoft Excel).\n",
        "\n",
        "<img src=\"https://github.com/ThiagoPoppe/monitoria_fcd2024/blob/main/labs/lab01/imagens/sheet_array.png?raw=true\" width=600>"
      ]
    },
    {
      "cell_type": "markdown",
      "metadata": {
        "id": "s8AZTVddBpHv"
      },
      "source": [
        "## 1.1. Fazendo matrizes\n",
        "Você mesmo pode digitar os dados que vão em um array, mas normalmente não é assim que criaremos arrays. Normalmente, criamos arrays carregando-os de uma fonte externa, como um arquivo de dados.\n",
        "\n",
        "Porém, primeiro vamos aprender como fazer isso da maneira mais difícil. Para começar, podemos fazer uma **lista** de números colocando-os entre colchetes e separando-os por vírgulas:"
      ]
    },
    {
      "cell_type": "code",
      "execution_count": 4,
      "metadata": {
        "id": "G2bdLOcmBpHv",
        "scrolled": true
      },
      "outputs": [
        {
          "data": {
            "text/plain": [
              "[14, -2.26, 0.15]"
            ]
          },
          "execution_count": 4,
          "metadata": {},
          "output_type": "execute_result"
        }
      ],
      "source": [
        "minha_lista = [14, -2.26, 0.15]\n",
        "minha_lista"
      ]
    },
    {
      "cell_type": "markdown",
      "metadata": {
        "id": "heLJPvWuBpHw"
      },
      "source": [
        "Assim como `int`, `float` e `str`, a `list` é um tipo de dados fornecido pelo Python. As listas são muito flexíveis e fáceis de trabalhar, mas são *lentas* 🐢."
      ]
    },
    {
      "cell_type": "markdown",
      "metadata": {
        "id": "__NUUFwSBpHw"
      },
      "source": [
        "Como cientistas de dados, frequentemente trabalharemos com milhões ou até bilhões de números. Para isso, precisamos de algo mais rápido que uma `lista`. Em vez de listas, usaremos *arrays*.\n",
        "\n",
        "Arrays são fornecidos por um pacote chamado [NumPy](http://www.numpy.org/) (pronuncia-se \"NUM-pai\" ou, se você preferir pronunciar as coisas incorretamente, \"NUM-pi\"). O pacote é chamado `numpy`, mas é padrão abreviá-lo para `np`. Você pode fazer isso com:\n",
        "\n",
        "```python\n",
        "import numpy as np\n",
        "```\n",
        "\n",
        "Cientistas de dados, bem como engenheiros e cientistas de todos os tipos, usam `numpy` com frequência, e você verá bastante disso se for especialista em ciência de dados."
      ]
    },
    {
      "cell_type": "code",
      "execution_count": 5,
      "metadata": {
        "id": "xErshkpCBpHx"
      },
      "outputs": [],
      "source": [
        "import numpy as np"
      ]
    },
    {
      "cell_type": "markdown",
      "metadata": {
        "id": "s-RXa7onBpHy"
      },
      "source": [
        "Agora, para criar um array, chame a função `np.array` com uma lista de números. Execute esta célula para ver um exemplo:"
      ]
    },
    {
      "cell_type": "code",
      "execution_count": 6,
      "metadata": {
        "id": "nExL4g0dBpHy",
        "scrolled": true
      },
      "outputs": [
        {
          "data": {
            "text/plain": [
              "array([14.  , -2.26,  0.15])"
            ]
          },
          "execution_count": 6,
          "metadata": {},
          "output_type": "execute_result"
        }
      ],
      "source": [
        "np.array([14, -2.26, 0.15])"
      ]
    },
    {
      "cell_type": "markdown",
      "metadata": {
        "id": "F_cA7c0lBpHy"
      },
      "source": [
        "Observe que você precisa dos colchetes aqui. Se você tentasse executar o código a seguir, o Python acharia ruim porque você o esqueceu:\n",
        "\n",
        "```python\n",
        "np.array(14, -2.26, 0.15)\n",
        "```\n",
        "\n",
        "<img src='https://github.com/ThiagoPoppe/monitoria_fcd2024/blob/main/labs/lab01/imagens/brackets.png?raw=true' width=400>"
      ]
    },
    {
      "cell_type": "markdown",
      "metadata": {
        "id": "sOAHERVsBpHz"
      },
      "source": [
        "Os próprios arrays também são valores, assim como números e strings. Isso significa que você pode atribuir nomes a eles ou usá-los como argumentos para funções.\n",
        "\n",
        "**Questão 1.1.1.** Faça um array contendo os números 2, 4 e 6, nessa ordem. Nomeie-o como `numeros_pares`."
      ]
    },
    {
      "cell_type": "code",
      "execution_count": 7,
      "metadata": {
        "id": "32A9WkdNBpHz"
      },
      "outputs": [
        {
          "data": {
            "text/plain": [
              "array([2, 4, 6])"
            ]
          },
          "execution_count": 7,
          "metadata": {},
          "output_type": "execute_result"
        }
      ],
      "source": [
        "numeros_pares = np.array([2,4,6])\n",
        "numeros_pares"
      ]
    },
    {
      "cell_type": "markdown",
      "metadata": {
        "id": "pG7VIPWwBpHz"
      },
      "source": [
        "**Questão 1.1.2.** Faça um array contendo os números 0, -1, 1, $\\pi$ e $e$, nessa ordem. Nomeie-o como `outros_numeros`.\n",
        "\n",
        "*Dica:* $\\pi$ e $e$ estão disponíveis no módulo `np`, que já foi importado. Assim como você usou `math.pi` para obter $\\pi$ no último laboratório, você também pode usar `np.pi` para obter $\\pi$. **Não** importe o módulo `math`."
      ]
    },
    {
      "cell_type": "code",
      "execution_count": 8,
      "metadata": {
        "id": "HW16En7hBpHz"
      },
      "outputs": [
        {
          "data": {
            "text/plain": [
              "array([ 0.        , -1.        ,  1.        ,  3.14159265,  2.71828183])"
            ]
          },
          "execution_count": 8,
          "metadata": {},
          "output_type": "execute_result"
        }
      ],
      "source": [
        "outros_numeros = np.array([0, -1, 1, np.pi, np.e])\n",
        "outros_numeros"
      ]
    },
    {
      "cell_type": "markdown",
      "metadata": {
        "id": "t_7lWzKABpH0"
      },
      "source": [
        "**Questão 1.1.3.** Faça um array contendo as cinco strings `\"Hello\"`, `\",\"`, `\" \"`, `\"world\"` e `\"!\"`. (O terceiro é um espaço único entre aspas.) Nomeie-o como `componentes_hello_world`.\n",
        "\n",
        "*Nota:* Se você imprimir `componentes_hello_world`, você notará algumas informações extras além de seu conteúdo: `dtype='<U5'`. Essa é apenas a maneira extremamente estranha do NumPy de dizer que as coisas no array são strings. Caso você esteja interessado, o `U` significa que esta string está codificada em [unicode](https://en.wikipedia.org/wiki/Unicode), e o `<5` significa que todas as strings no array têm 5 caracteres ou menos."
      ]
    },
    {
      "cell_type": "code",
      "execution_count": 9,
      "metadata": {},
      "outputs": [
        {
          "data": {
            "text/plain": [
              "array(['Hello', ',', ' ', 'World', '!'], dtype='<U5')"
            ]
          },
          "execution_count": 9,
          "metadata": {},
          "output_type": "execute_result"
        }
      ],
      "source": [
        "componentes_hello_world = np.array([\"Hello\",\",\",\" \",\"World\",\"!\"])\n",
        "componentes_hello_world"
      ]
    },
    {
      "cell_type": "markdown",
      "metadata": {
        "id": "p0wsKBMKBpH0"
      },
      "source": [
        "Muitas vezes, em ciência de dados, queremos trabalhar com muitos números espaçados uniformemente dentro de algum intervalo. NumPy fornece uma função especial para isso chamada `arange`. A expressão `np.arange(comeco, fim, espaco)` produz um array com todos os números começando em `comeco`, contando de  `espaco` em `espaco`, parando **antes** de `fim` ser alcançado.\n",
        "\n",
        "Por exemplo, o valor de `np.arange(1, 8, 2)` é uma matriz com os elementos `1, 3, 5 e 7` - começa em 1 e vai contando de 2 em 2, terminando até chegar no último valor menor que 8. Em outros palavras, ele cria o mesmo array que `np.array([1, 3, 5, 7])`.\n",
        "\n",
        "`np.arange(4, 9, 1)` é um array com os elementos `4, 5, 6, 7 e 8`, não contendo o 9 porque `np.arange` para *antes* do valor de parada ser atingido.\n",
        "\n",
        "**Pergunta 1.1.4.** Use `np.arange` para criar um array com todos os múltiplos de 99 de 0 até (**e incluindo**) 9999. (Portanto, seus elementos são 0, 99, 198, 297, etc.)"
      ]
    },
    {
      "cell_type": "code",
      "execution_count": 10,
      "metadata": {
        "id": "Tk3mvxn3BpH0"
      },
      "outputs": [
        {
          "data": {
            "text/plain": [
              "array([   0,   99,  198,  297,  396,  495,  594,  693,  792,  891,  990,\n",
              "       1089, 1188, 1287, 1386, 1485, 1584, 1683, 1782, 1881, 1980, 2079,\n",
              "       2178, 2277, 2376, 2475, 2574, 2673, 2772, 2871, 2970, 3069, 3168,\n",
              "       3267, 3366, 3465, 3564, 3663, 3762, 3861, 3960, 4059, 4158, 4257,\n",
              "       4356, 4455, 4554, 4653, 4752, 4851, 4950, 5049, 5148, 5247, 5346,\n",
              "       5445, 5544, 5643, 5742, 5841, 5940, 6039, 6138, 6237, 6336, 6435,\n",
              "       6534, 6633, 6732, 6831, 6930, 7029, 7128, 7227, 7326, 7425, 7524,\n",
              "       7623, 7722, 7821, 7920, 8019, 8118, 8217, 8316, 8415, 8514, 8613,\n",
              "       8712, 8811, 8910, 9009, 9108, 9207, 9306, 9405, 9504, 9603, 9702,\n",
              "       9801, 9900])"
            ]
          },
          "execution_count": 10,
          "metadata": {},
          "output_type": "execute_result"
        }
      ],
      "source": [
        "\n",
        "multiplos_de_99 = np.arange(0,9999,99)\n",
        "multiplos_de_99"
      ]
    },
    {
      "cell_type": "markdown",
      "metadata": {
        "id": "bma0Os1rBpH0"
      },
      "source": [
        "##### Leituras de temperatura 🌡️\n",
        "A NOAA (Administração Nacional Oceânica e Atmosférica dos EUA) opera estações meteorológicas que medem as temperaturas da superfície em diferentes locais dos Estados Unidos. As leituras horárias estão [disponíveis publicamente](http://www.ncdc.noaa.gov/qclcd/QCLCD?prior=N).\n",
        "\n",
        "Suponha que baixemos todos os dados de horários do site de San Diego, Califórnia, para o mês de dezembro de 2021. Para analisar os dados, queremos saber quando cada leitura foi feita, mas descobrimos que os dados não incluem os carimbos de data e hora das leituras (o momento em que cada uma foi feita).\n",
        "\n",
        "No entanto, sabemos que a primeira leitura foi feita no primeiro instante de dezembro de 2021 (meia-noite do dia 1º de dezembro) e cada leitura subsequente foi feita exatamente 1 hora após a última.\n",
        "\n",
        "**Pergunta 1.1.5.** Crie uma matriz do *tempo, em segundos, desde o início do mês* em que cada leitura horária foi feita. Nomeie-o como `registro_de_leituras`.\n",
        "\n",
        "* **Dica 1:** Há 31 dias em dezembro, o que equivale a ($31 \\times 24$) horas ou ($31 \\times 24 \\times 60 \\times 60$) segundos.\n",
        "\n",
        "* **Dica 2:** A função `len` também funciona em arrays. Certifique-se de que seu `registro_de_leituras` tenha $31 \\times 24$ elementos, já que as leituras são feitas de hora em hora durante 31 dias."
      ]
    },
    {
      "cell_type": "code",
      "execution_count": 11,
      "metadata": {
        "id": "ocY7o6uXBpH1"
      },
      "outputs": [
        {
          "name": "stdout",
          "output_type": "stream",
          "text": [
            "Quantidade de registros:  744\n",
            "Momento em segundo dos registros:  [      0    3600    7200   10800   14400   18000   21600   25200   28800\n",
            "   32400   36000   39600   43200   46800   50400   54000   57600   61200\n",
            "   64800   68400   72000   75600   79200   82800   86400   90000   93600\n",
            "   97200  100800  104400  108000  111600  115200  118800  122400  126000\n",
            "  129600  133200  136800  140400  144000  147600  151200  154800  158400\n",
            "  162000  165600  169200  172800  176400  180000  183600  187200  190800\n",
            "  194400  198000  201600  205200  208800  212400  216000  219600  223200\n",
            "  226800  230400  234000  237600  241200  244800  248400  252000  255600\n",
            "  259200  262800  266400  270000  273600  277200  280800  284400  288000\n",
            "  291600  295200  298800  302400  306000  309600  313200  316800  320400\n",
            "  324000  327600  331200  334800  338400  342000  345600  349200  352800\n",
            "  356400  360000  363600  367200  370800  374400  378000  381600  385200\n",
            "  388800  392400  396000  399600  403200  406800  410400  414000  417600\n",
            "  421200  424800  428400  432000  435600  439200  442800  446400  450000\n",
            "  453600  457200  460800  464400  468000  471600  475200  478800  482400\n",
            "  486000  489600  493200  496800  500400  504000  507600  511200  514800\n",
            "  518400  522000  525600  529200  532800  536400  540000  543600  547200\n",
            "  550800  554400  558000  561600  565200  568800  572400  576000  579600\n",
            "  583200  586800  590400  594000  597600  601200  604800  608400  612000\n",
            "  615600  619200  622800  626400  630000  633600  637200  640800  644400\n",
            "  648000  651600  655200  658800  662400  666000  669600  673200  676800\n",
            "  680400  684000  687600  691200  694800  698400  702000  705600  709200\n",
            "  712800  716400  720000  723600  727200  730800  734400  738000  741600\n",
            "  745200  748800  752400  756000  759600  763200  766800  770400  774000\n",
            "  777600  781200  784800  788400  792000  795600  799200  802800  806400\n",
            "  810000  813600  817200  820800  824400  828000  831600  835200  838800\n",
            "  842400  846000  849600  853200  856800  860400  864000  867600  871200\n",
            "  874800  878400  882000  885600  889200  892800  896400  900000  903600\n",
            "  907200  910800  914400  918000  921600  925200  928800  932400  936000\n",
            "  939600  943200  946800  950400  954000  957600  961200  964800  968400\n",
            "  972000  975600  979200  982800  986400  990000  993600  997200 1000800\n",
            " 1004400 1008000 1011600 1015200 1018800 1022400 1026000 1029600 1033200\n",
            " 1036800 1040400 1044000 1047600 1051200 1054800 1058400 1062000 1065600\n",
            " 1069200 1072800 1076400 1080000 1083600 1087200 1090800 1094400 1098000\n",
            " 1101600 1105200 1108800 1112400 1116000 1119600 1123200 1126800 1130400\n",
            " 1134000 1137600 1141200 1144800 1148400 1152000 1155600 1159200 1162800\n",
            " 1166400 1170000 1173600 1177200 1180800 1184400 1188000 1191600 1195200\n",
            " 1198800 1202400 1206000 1209600 1213200 1216800 1220400 1224000 1227600\n",
            " 1231200 1234800 1238400 1242000 1245600 1249200 1252800 1256400 1260000\n",
            " 1263600 1267200 1270800 1274400 1278000 1281600 1285200 1288800 1292400\n",
            " 1296000 1299600 1303200 1306800 1310400 1314000 1317600 1321200 1324800\n",
            " 1328400 1332000 1335600 1339200 1342800 1346400 1350000 1353600 1357200\n",
            " 1360800 1364400 1368000 1371600 1375200 1378800 1382400 1386000 1389600\n",
            " 1393200 1396800 1400400 1404000 1407600 1411200 1414800 1418400 1422000\n",
            " 1425600 1429200 1432800 1436400 1440000 1443600 1447200 1450800 1454400\n",
            " 1458000 1461600 1465200 1468800 1472400 1476000 1479600 1483200 1486800\n",
            " 1490400 1494000 1497600 1501200 1504800 1508400 1512000 1515600 1519200\n",
            " 1522800 1526400 1530000 1533600 1537200 1540800 1544400 1548000 1551600\n",
            " 1555200 1558800 1562400 1566000 1569600 1573200 1576800 1580400 1584000\n",
            " 1587600 1591200 1594800 1598400 1602000 1605600 1609200 1612800 1616400\n",
            " 1620000 1623600 1627200 1630800 1634400 1638000 1641600 1645200 1648800\n",
            " 1652400 1656000 1659600 1663200 1666800 1670400 1674000 1677600 1681200\n",
            " 1684800 1688400 1692000 1695600 1699200 1702800 1706400 1710000 1713600\n",
            " 1717200 1720800 1724400 1728000 1731600 1735200 1738800 1742400 1746000\n",
            " 1749600 1753200 1756800 1760400 1764000 1767600 1771200 1774800 1778400\n",
            " 1782000 1785600 1789200 1792800 1796400 1800000 1803600 1807200 1810800\n",
            " 1814400 1818000 1821600 1825200 1828800 1832400 1836000 1839600 1843200\n",
            " 1846800 1850400 1854000 1857600 1861200 1864800 1868400 1872000 1875600\n",
            " 1879200 1882800 1886400 1890000 1893600 1897200 1900800 1904400 1908000\n",
            " 1911600 1915200 1918800 1922400 1926000 1929600 1933200 1936800 1940400\n",
            " 1944000 1947600 1951200 1954800 1958400 1962000 1965600 1969200 1972800\n",
            " 1976400 1980000 1983600 1987200 1990800 1994400 1998000 2001600 2005200\n",
            " 2008800 2012400 2016000 2019600 2023200 2026800 2030400 2034000 2037600\n",
            " 2041200 2044800 2048400 2052000 2055600 2059200 2062800 2066400 2070000\n",
            " 2073600 2077200 2080800 2084400 2088000 2091600 2095200 2098800 2102400\n",
            " 2106000 2109600 2113200 2116800 2120400 2124000 2127600 2131200 2134800\n",
            " 2138400 2142000 2145600 2149200 2152800 2156400 2160000 2163600 2167200\n",
            " 2170800 2174400 2178000 2181600 2185200 2188800 2192400 2196000 2199600\n",
            " 2203200 2206800 2210400 2214000 2217600 2221200 2224800 2228400 2232000\n",
            " 2235600 2239200 2242800 2246400 2250000 2253600 2257200 2260800 2264400\n",
            " 2268000 2271600 2275200 2278800 2282400 2286000 2289600 2293200 2296800\n",
            " 2300400 2304000 2307600 2311200 2314800 2318400 2322000 2325600 2329200\n",
            " 2332800 2336400 2340000 2343600 2347200 2350800 2354400 2358000 2361600\n",
            " 2365200 2368800 2372400 2376000 2379600 2383200 2386800 2390400 2394000\n",
            " 2397600 2401200 2404800 2408400 2412000 2415600 2419200 2422800 2426400\n",
            " 2430000 2433600 2437200 2440800 2444400 2448000 2451600 2455200 2458800\n",
            " 2462400 2466000 2469600 2473200 2476800 2480400 2484000 2487600 2491200\n",
            " 2494800 2498400 2502000 2505600 2509200 2512800 2516400 2520000 2523600\n",
            " 2527200 2530800 2534400 2538000 2541600 2545200 2548800 2552400 2556000\n",
            " 2559600 2563200 2566800 2570400 2574000 2577600 2581200 2584800 2588400\n",
            " 2592000 2595600 2599200 2602800 2606400 2610000 2613600 2617200 2620800\n",
            " 2624400 2628000 2631600 2635200 2638800 2642400 2646000 2649600 2653200\n",
            " 2656800 2660400 2664000 2667600 2671200 2674800]\n"
          ]
        }
      ],
      "source": [
        "hora = 60*60\n",
        "segundosDezembro = 31*24*hora\n",
        "registro_de_leituras = np.arange(0, segundosDezembro, hora)\n",
        "print(\"Quantidade de registros: \", len(registro_de_leituras))\n",
        "print(\"Momento em segundo dos registros: \", registro_de_leituras)"
      ]
    },
    {
      "cell_type": "markdown",
      "metadata": {
        "id": "l50PR2BvBpH1"
      },
      "source": [
        "## 1.2. Trabalhando com elementos únicos de arrays (\"indexação\")\n",
        "Vamos trabalhar com um conjunto de dados mais interessante. A próxima célula cria uma matriz chamada `populacao` que inclui populações mundiais estimadas em cada ano de **1950** a **2022**. (As estimativas vêm da seguinte [base de dados internacional](https://www.census.gov/data-tools/demo/idb/#/country?COUNTRY_YEAR=2022&COUNTRY_YR_ANIM=2022), mantida pelo US Census Bureau.)\n",
        "\n",
        "Em vez de digitar os dados manualmente, nós os carregamos de um arquivo em seu computador chamado `world_population_2022.csv`. Você aprenderá como ler dados de arquivos em breve."
      ]
    },
    {
      "cell_type": "code",
      "execution_count": 12,
      "metadata": {
        "id": "TMi5GDDLBpH1"
      },
      "outputs": [
        {
          "data": {
            "text/plain": [
              "array([2557619597, 2594942227, 2636777090, 2682060684, 2730237675,\n",
              "       2782111389, 2835315327, 2891368627, 2948159570, 3000742521,\n",
              "       3043031253, 3084053711, 3140239653, 3210037409, 3281477826,\n",
              "       3350773176, 3421097064, 3490825940, 3562887008, 3637819236,\n",
              "       3713457589, 3791172327, 3867519813, 3943132388, 4017779234,\n",
              "       4089387557, 4159536915, 4230430893, 4301282222, 4374940345,\n",
              "       4445975606, 4527418598, 4610620221, 4694937687, 4777055423,\n",
              "       4862317393, 4949951891, 5040273543, 5131575729, 5222662682,\n",
              "       5315511894, 5403253915, 5490481497, 5568231516, 5650178207,\n",
              "       5733211108, 5815333785, 5895837672, 5975189305, 6053955779,\n",
              "       6132455985, 6211328357, 6290282107, 6369186797, 6448262425,\n",
              "       6527056809, 6607396274, 6689442159, 6773319540, 6857160919,\n",
              "       6939761510, 7022084781, 7105001721, 7188528811, 7271598780,\n",
              "       7353476064, 7435151387, 7516769535, 7597066210, 7676686052,\n",
              "       7756873419, 7831718605, 7905336896], dtype=int64)"
            ]
          },
          "execution_count": 12,
          "metadata": {},
          "output_type": "execute_result"
        }
      ],
      "source": [
        "# Não se preocupe sobre o que está acontecendo nessa célula por enquanto\n",
        "populacao = pd.read_csv(\"data/world_population_2022.csv\").get(\"Population\").values\n",
        "populacao"
      ]
    },
    {
      "cell_type": "markdown",
      "metadata": {
        "id": "rdk0222VBpH1"
      },
      "source": [
        "Veja como obtemos o primeiro elemento de `populacao`, que é a população mundial no primeiro ano do conjunto de dados, 1950."
      ]
    },
    {
      "cell_type": "code",
      "execution_count": 13,
      "metadata": {
        "id": "5OcJ0DhrBpH2"
      },
      "outputs": [
        {
          "data": {
            "text/plain": [
              "2557619597"
            ]
          },
          "execution_count": 13,
          "metadata": {},
          "output_type": "execute_result"
        }
      ],
      "source": [
        "populacao[0]"
      ]
    },
    {
      "cell_type": "markdown",
      "metadata": {
        "id": "APPl-L_sBpH2"
      },
      "source": [
        "Observe que usamos colchetes aqui. Os colchetes sinalizam que estamos *acessando* um elemento do array. Colchetes em Python são como subscritos em matemática (igual $x_1$, $x_2$, ...).\n",
        "\n",
        "O valor dessa expressão é o número 2557619597 (cerca de 2,5 bilhões), porque é a primeira coisa na matriz `populacao`.\n",
        "\n",
        "Observe que escrevemos `populacao[0]`, não `populacao[1]`, para obter o primeiro elemento. Esta é uma convenção estranha na ciência da computação. 0 é chamado de *índice* do primeiro item. Seguindo essa lógica, então 3, por exemplo, é o índice do 4º item.\n",
        "\n",
        "Aqui estão mais alguns exemplos. Nos exemplos, demos nomes às coisas que obtemos de `populacao`. Leia e execute cada célula."
      ]
    },
    {
      "cell_type": "code",
      "execution_count": 14,
      "metadata": {
        "id": "F6Ab7DweBpH2"
      },
      "outputs": [
        {
          "data": {
            "text/plain": [
              "2636777090"
            ]
          },
          "execution_count": 14,
          "metadata": {},
          "output_type": "execute_result"
        }
      ],
      "source": [
        "# O terceiro elemento do array é a população em 1952.\n",
        "populacao_1952 = populacao[2]\n",
        "populacao_1952"
      ]
    },
    {
      "cell_type": "code",
      "execution_count": 15,
      "metadata": {
        "id": "C3pYB9D4BpH2"
      },
      "outputs": [
        {
          "data": {
            "text/plain": [
              "3140239653"
            ]
          },
          "execution_count": 15,
          "metadata": {},
          "output_type": "execute_result"
        }
      ],
      "source": [
        "# O décimo terceiro elemento do array é a população em 1962 (que é 1950 + 12).\n",
        "populacao_1962 = populacao[12]\n",
        "populacao_1962"
      ]
    },
    {
      "cell_type": "code",
      "execution_count": 16,
      "metadata": {
        "id": "FjpkzRpqBpH3"
      },
      "outputs": [
        {
          "data": {
            "text/plain": [
              "7905336896"
            ]
          },
          "execution_count": 16,
          "metadata": {},
          "output_type": "execute_result"
        }
      ],
      "source": [
        "# O 73º elemento do array é a população em 2022.\n",
        "populacao_2022 = populacao[72]\n",
        "populacao_2022"
      ]
    },
    {
      "cell_type": "code",
      "execution_count": 17,
      "metadata": {
        "id": "4oJO6kLABpH3",
        "tags": [
          "raises-exception"
        ]
      },
      "outputs": [],
      "source": [
        "# O array possui apenas 73 elementos, então isso não funciona.\n",
        "#populacao_2023 = populacao[73]\n",
        "#populacao_2023\n",
        "\n",
        "# 🚨 Depois de executar esta célula, coloque um # antes de cada linha acima\n",
        "# para garantir que ela não seja executada novamente."
      ]
    },
    {
      "cell_type": "markdown",
      "metadata": {
        "id": "_EfcuQIABpH3"
      },
      "source": [
        "**Questão 1.2.1.** Defina `populacao_1998` para a população mundial em 1998, obtendo o elemento apropriado de `populacao`."
      ]
    },
    {
      "cell_type": "code",
      "execution_count": 18,
      "metadata": {
        "id": "DgS_Tp2DBpH3"
      },
      "outputs": [
        {
          "data": {
            "text/plain": [
              "5975189305"
            ]
          },
          "execution_count": 18,
          "metadata": {},
          "output_type": "execute_result"
        }
      ],
      "source": [
        "ano = 1998-1950\n",
        "populacao_1998 = populacao[ano]\n",
        "populacao_1998"
      ]
    },
    {
      "cell_type": "markdown",
      "metadata": {
        "id": "20_YMMcOBpH4"
      },
      "source": [
        "## 1.3. Fazendo algo para cada elemento de um array\n",
        "Arrays são úteis principalmente para realizar a mesma operação muitas vezes. Portanto, não precisamos acessar e trabalhar com frequência com elementos únicos.\n",
        "\n",
        "##### Logaritmos\n",
        "Aqui está uma pergunta simples que podemos fazer sobre a população mundial:\n",
        "\n",
        "> Qual era o tamanho da população em *ordens de magnitude* em cada ano?\n",
        "\n",
        "A função logaritmo é uma forma de medir o tamanho de um número. O logaritmo (base 10) de um número aumenta em 1 cada vez que multiplicamos o número por 10. É como uma medida de quantos dígitos decimais o número possui ou quão grande ele é em ordens de grandeza.\n",
        "\n",
        "Poderíamos tentar responder nossa pergunta assim, usando a função `log10` do NumPy em cada elemento do array `populacao`:"
      ]
    },
    {
      "cell_type": "code",
      "execution_count": 19,
      "metadata": {
        "id": "_8nYCnecBpH8",
        "scrolled": true
      },
      "outputs": [
        {
          "data": {
            "text/plain": [
              "9.414127693292606"
            ]
          },
          "execution_count": 19,
          "metadata": {},
          "output_type": "execute_result"
        }
      ],
      "source": [
        "magnitude_da_populacao_1950 = np.log10(populacao[0])\n",
        "magnitude_da_populacao_1951 = np.log10(populacao[1])\n",
        "magnitude_da_populacao_1952 = np.log10(populacao[2])\n",
        "magnitude_da_populacao_1953 = np.log10(populacao[3])\n",
        "magnitude_da_populacao_1951"
      ]
    },
    {
      "cell_type": "markdown",
      "metadata": {
        "id": "POETmiLRBpH8"
      },
      "source": [
        "Mas isso é tedioso e repetitivo. Deve haver uma maneira melhor!\n",
        "\n",
        "Acontece que o `log10` do NumPy é bastante poderoso. Ele não apenas pode receber um único número (como `populacao[0]`) como entrada e retornar o logaritmo de um único número, mas **também** pode receber um array de números e retornar o logaritmo de cada elemento desse array!\n",
        "\n",
        "Se você fornecer ao `log10` do NumPy um array como entrada, ele retornará um array do mesmo tamanho, onde o primeiro elemento do resultado é o logaritmo do primeiro elemento da entrada, o segundo elemento do resultado é o logaritmo de o segundo elemento da entrada e assim por diante.\n",
        "\n",
        "<img src=\"https://github.com/ThiagoPoppe/monitoria_fcd2024/blob/main/labs/lab01/imagens/array_logarithm.jpg?raw=true\">\n",
        "\n",
        "Isso é chamado de aplicação *elementwise* (elemento a elemento) da função, uma vez que opera separadamente em cada elemento do array em que é chamada.\n",
        "\n",
        "**Pergunta 1.3.1.** Use a função `log10` do NumPy para calcular os logaritmos da população mundial em cada ano. Dê ao resultado (uma matriz de 73 números) o nome `magnitude_da_populacao`. Seu código deve ser muito curto."
      ]
    },
    {
      "cell_type": "code",
      "execution_count": 20,
      "metadata": {
        "id": "4N4fnW88BpH8"
      },
      "outputs": [
        {
          "data": {
            "text/plain": [
              "array([9.40783595, 9.41412769, 9.42107342, 9.4284686 , 9.43620046,\n",
              "       9.44437451, 9.45260137, 9.46110346, 9.46955099, 9.47722873,\n",
              "       9.48330641, 9.48912193, 9.49696279, 9.50651009, 9.51606947,\n",
              "       9.52514503, 9.5341654 , 9.54292819, 9.55180205, 9.56084112,\n",
              "       9.56977847, 9.57877353, 9.58743255, 9.59584136, 9.60398607,\n",
              "       9.61165827, 9.61904498, 9.6263846 , 9.63359794, 9.64097214,\n",
              "       9.64796708, 9.65585065, 9.66375935, 9.67162983, 9.67916028,\n",
              "       9.6868433 , 9.69460098, 9.70245411, 9.71025074, 9.71789198,\n",
              "       9.72554509, 9.73265538, 9.73961043, 9.74571728, 9.75206215,\n",
              "       9.75839793, 9.76457465, 9.77054552, 9.77635167, 9.78203924,\n",
              "       9.78763444, 9.79318449, 9.79867012, 9.80408399, 9.8094427 ,\n",
              "       9.81471739, 9.82003035, 9.8253899 , 9.83080156, 9.83614434,\n",
              "       9.84134455, 9.84646607, 9.85156419, 9.85664002, 9.86162991,\n",
              "       9.86649268, 9.87128982, 9.87603123, 9.88064591, 9.88517378,\n",
              "       9.8896867 , 9.89385707, 9.89792038])"
            ]
          },
          "execution_count": 20,
          "metadata": {},
          "output_type": "execute_result"
        }
      ],
      "source": [
        "magnitude_da_populacao = np.log10(populacao)\n",
        "magnitude_da_populacao"
      ]
    },
    {
      "cell_type": "markdown",
      "metadata": {
        "id": "nRvzBm0lBpH9"
      },
      "source": [
        "##### Aritmética\n",
        "A aritmética também funciona *elementwise* em arrays. Por exemplo, você pode dividir todos os números da população por 1 bilhão para obter números em bilhões:"
      ]
    },
    {
      "cell_type": "code",
      "execution_count": 21,
      "metadata": {
        "id": "bmZa--PBBpH9"
      },
      "outputs": [
        {
          "data": {
            "text/plain": [
              "array([2.5576196 , 2.59494223, 2.63677709, 2.68206068, 2.73023768,\n",
              "       2.78211139, 2.83531533, 2.89136863, 2.94815957, 3.00074252,\n",
              "       3.04303125, 3.08405371, 3.14023965, 3.21003741, 3.28147783,\n",
              "       3.35077318, 3.42109706, 3.49082594, 3.56288701, 3.63781924,\n",
              "       3.71345759, 3.79117233, 3.86751981, 3.94313239, 4.01777923,\n",
              "       4.08938756, 4.15953692, 4.23043089, 4.30128222, 4.37494034,\n",
              "       4.44597561, 4.5274186 , 4.61062022, 4.69493769, 4.77705542,\n",
              "       4.86231739, 4.94995189, 5.04027354, 5.13157573, 5.22266268,\n",
              "       5.31551189, 5.40325391, 5.4904815 , 5.56823152, 5.65017821,\n",
              "       5.73321111, 5.81533378, 5.89583767, 5.9751893 , 6.05395578,\n",
              "       6.13245598, 6.21132836, 6.29028211, 6.3691868 , 6.44826243,\n",
              "       6.52705681, 6.60739627, 6.68944216, 6.77331954, 6.85716092,\n",
              "       6.93976151, 7.02208478, 7.10500172, 7.18852881, 7.27159878,\n",
              "       7.35347606, 7.43515139, 7.51676953, 7.59706621, 7.67668605,\n",
              "       7.75687342, 7.8317186 , 7.9053369 ])"
            ]
          },
          "execution_count": 21,
          "metadata": {},
          "output_type": "execute_result"
        }
      ],
      "source": [
        "populacao_em_bilhoes = populacao / 1000000000\n",
        "populacao_em_bilhoes\n",
        "#quantidade de pessoas em bilhoes:"
      ]
    },
    {
      "cell_type": "markdown",
      "metadata": {
        "id": "vvHYgeJvBpH9"
      },
      "source": [
        "Você pode fazer o mesmo com adição, subtração, multiplicação e exponenciação (`**`). Por exemplo, você pode calcular uma gorjeta de vinte por cento em várias contas de restaurante de uma só vez:"
      ]
    },
    {
      "cell_type": "code",
      "execution_count": 22,
      "metadata": {
        "id": "VNpnq4hZBpH9"
      },
      "outputs": [
        {
          "name": "stdout",
          "output_type": "stream",
          "text": [
            "Conta dos restaurantes:\t [20.12 39.9  31.01]\n",
            "Gorjetas:\t\t [4.024 7.98  6.202]\n",
            "Total:\t\t\t [24.144 47.88  37.212]\n"
          ]
        }
      ],
      "source": [
        "contas_dos_restaurantes = np.array([20.12, 39.90, 31.01])\n",
        "print(\"Conta dos restaurantes:\\t\", contas_dos_restaurantes)\n",
        "\n",
        "gorjetas = 0.2 * contas_dos_restaurantes\n",
        "print(\"Gorjetas:\\t\\t\", gorjetas)\n",
        "\n",
        "total = contas_dos_restaurantes + gorjetas\n",
        "print(\"Total:\\t\\t\\t\", total)"
      ]
    },
    {
      "cell_type": "markdown",
      "metadata": {
        "id": "gaqlXPCoBpH-"
      },
      "source": [
        "<img src=\"https://github.com/ThiagoPoppe/monitoria_fcd2024/blob/main/labs/lab01/imagens/array_multiplication.jpg?raw=true\">\n",
        "\n",
        "**Pergunta 1.3.2.** Suponha que a cobrança total em um restaurante seja a conta original mais a gorjeta (20%). Isso significa que podemos multiplicar a fatura original por 1.2 para obter a cobrança total. Calcule a cobrança total de cada conta em `conta_dos_restaurantes` e dê ao array resultante o nome de `cobrancas_totais`."
      ]
    },
    {
      "cell_type": "code",
      "execution_count": 23,
      "metadata": {
        "id": "J7Kg99bfBpH-"
      },
      "outputs": [
        {
          "data": {
            "text/plain": [
              "array([24.144, 47.88 , 37.212])"
            ]
          },
          "execution_count": 23,
          "metadata": {},
          "output_type": "execute_result"
        }
      ],
      "source": [
        "cobrancas_totais = contas_dos_restaurantes * 1.2\n",
        "cobrancas_totais"
      ]
    },
    {
      "cell_type": "markdown",
      "metadata": {
        "id": "b4NuJMNOBpH-"
      },
      "source": [
        "Vamos ler alguns dados para usar na próxima pergunta."
      ]
    },
    {
      "cell_type": "code",
      "execution_count": 24,
      "metadata": {
        "id": "j_PtbvimBpH-"
      },
      "outputs": [],
      "source": [
        "mais_contas_de_restaurantes = pd.read_csv(\"data/more_restaurant_bills.csv\").get(\"Bill\").values"
      ]
    },
    {
      "cell_type": "markdown",
      "metadata": {
        "id": "1-B55XNEBpH-"
      },
      "source": [
        "**Pergunta 1.3.3.** O array `mais_contas_de_restaurantes` contém 100.000 contas! Calcule a cobrança total de cada uma, assumindo novamente uma gorjeta de vinte por cento, e dê ao array resultante o nome `mais_cobrancas_totais`."
      ]
    },
    {
      "cell_type": "code",
      "execution_count": 25,
      "metadata": {
        "id": "sVs1Bpn7BpH_"
      },
      "outputs": [
        {
          "data": {
            "text/plain": [
              "array([20.244, 20.892, 12.216, ..., 19.308, 18.336, 35.664])"
            ]
          },
          "execution_count": 25,
          "metadata": {},
          "output_type": "execute_result"
        }
      ],
      "source": [
        "mais_cobrancas_totais = mais_contas_de_restaurantes * 1.2\n",
        "mais_cobrancas_totais"
      ]
    },
    {
      "cell_type": "markdown",
      "metadata": {
        "id": "mNoldHxfBpH_"
      },
      "source": [
        "A função `np.sum` leva um único array de números como argumento. Ele retorna a soma de todos os números desse array (portanto, retorna um único número, não um array).\n",
        "\n",
        "**Pergunta 1.3.4.** Qual foi a soma de todas as contas em `mais_contas_de_restaurantes`, **incluindo gorjetas**?"
      ]
    },
    {
      "cell_type": "code",
      "execution_count": 26,
      "metadata": {
        "id": "pw70EpX1BpH_"
      },
      "outputs": [
        {
          "data": {
            "text/plain": [
              "1795730.0639999998"
            ]
          },
          "execution_count": 26,
          "metadata": {},
          "output_type": "execute_result"
        }
      ],
      "source": [
        "soma_das_contas = np.sum(mais_cobrancas_totais)\n",
        "soma_das_contas"
      ]
    },
    {
      "cell_type": "markdown",
      "metadata": {
        "id": "lVkH_VCTBpIA"
      },
      "source": [
        "##### Potências de Dois\n",
        "As potências de 2 ($2^0 = 1$, $2^1 = 2$, $2^2 = 4$, etc) surgem frequentemente na ciência da computação. (Por exemplo, você deve ter notado que o armazenamento em smartphones ou computadores vem em potências de 2, como 64 GB, 128 GB ou 256 GB.)"
      ]
    },
    {
      "cell_type": "markdown",
      "metadata": {
        "id": "VFyFpjgLBpIA"
      },
      "source": [
        "**Pergunta 1.3.5.** Use `np.arange` e o operador de exponenciação `**` para criar um array contendo as primeiras 40 potências de 2, começando em $2^0=1$.\n",
        "\n",
        "* **Dica 1:** Seu kernel “morreu” quando você executou sua solução? Existe uma resposta incorreta comum para esse problema que tenta criar um array com tantas entradas que o Python desiste e trava. Se isso acontecer com você, verifique sua resposta!\n",
        "\n",
        "* **Dica 2:** Talvez comece com as primeiras 5 potências de dois. Depois de fazer isso funcionar, tente todos os 40. Em nenhum momento você deve escrever manualmente `0, 1, 2, 3, 4, ...`; se você estiver tentando isso, leia novamente algumas células anteriores desse notebook."
      ]
    },
    {
      "cell_type": "code",
      "execution_count": 27,
      "metadata": {
        "id": "PKo4RQxEBpIA"
      },
      "outputs": [
        {
          "data": {
            "text/plain": [
              "array([          1,           2,           4,           8,          16,\n",
              "                32,          64,         128,         256,         512,\n",
              "              1024,        2048,        4096,        8192,       16384,\n",
              "             32768,       65536,      131072,      262144,      524288,\n",
              "           1048576,     2097152,     4194304,     8388608,    16777216,\n",
              "          33554432,    67108864,   134217728,   268435456,   536870912,\n",
              "        1073741824, -2147483648,           0,           0,           0,\n",
              "                 0,           0,           0,           0], dtype=int32)"
            ]
          },
          "execution_count": 27,
          "metadata": {},
          "output_type": "execute_result"
        }
      ],
      "source": [
        "#potencia = 2**39\n",
        "\n",
        "potencias_de_2 = 2**(np.arange(39))\n",
        "potencias_de_2"
      ]
    },
    {
      "cell_type": "markdown",
      "metadata": {
        "id": "UQ4LVLjeBpIB"
      },
      "source": [
        "# 2. DataFrames"
      ]
    },
    {
      "cell_type": "markdown",
      "metadata": {
        "id": "wP6OyQUOBpIB"
      },
      "source": [
        "## 2.1. Introdução\n",
        "\n",
        "Para uma coleção de coisas no mundo, um array é útil para descrever um único atributo de cada coisa. Por exemplo, para a coleção de estados dos EUA, uma matriz poderia descrever a área territorial de cada um. As tabelas ampliam essa ideia descrevendo vários atributos para cada elemento de uma coleção. Numa tabela de estados, por exemplo, podemos registar a área territorial, a população, a capital do estado e o nome do governador. Em outras palavras, as tabelas rastreiam muitas entidades (indivíduos, armazenados como linhas) e, para cada entidade, muitos atributos (recursos, armazenados como colunas).\n",
        "\n",
        "Na célula abaixo temos dois arrays. O primeiro contém a população mundial em cada ano (conforme estimado pelo US Census Bureau), e o segundo contém os próprios anos (em ordem, de modo que os primeiros elementos na população e as matrizes de anos correspondam)."
      ]
    },
    {
      "cell_type": "code",
      "execution_count": 28,
      "metadata": {
        "id": "-QbMRkV2BpIB"
      },
      "outputs": [
        {
          "name": "stdout",
          "output_type": "stream",
          "text": [
            "Coluna de população: [2557619597 2594942227 2636777090 2682060684 2730237675 2782111389\n",
            " 2835315327 2891368627 2948159570 3000742521 3043031253 3084053711\n",
            " 3140239653 3210037409 3281477826 3350773176 3421097064 3490825940\n",
            " 3562887008 3637819236 3713457589 3791172327 3867519813 3943132388\n",
            " 4017779234 4089387557 4159536915 4230430893 4301282222 4374940345\n",
            " 4445975606 4527418598 4610620221 4694937687 4777055423 4862317393\n",
            " 4949951891 5040273543 5131575729 5222662682 5315511894 5403253915\n",
            " 5490481497 5568231516 5650178207 5733211108 5815333785 5895837672\n",
            " 5975189305 6053955779 6132455985 6211328357 6290282107 6369186797\n",
            " 6448262425 6527056809 6607396274 6689442159 6773319540 6857160919\n",
            " 6939761510 7022084781 7105001721 7188528811 7271598780 7353476064\n",
            " 7435151387 7516769535 7597066210 7676686052 7756873419 7831718605\n",
            " 7905336896]\n",
            "Coluna dos anos: [1950 1951 1952 1953 1954 1955 1956 1957 1958 1959 1960 1961 1962 1963\n",
            " 1964 1965 1966 1967 1968 1969 1970 1971 1972 1973 1974 1975 1976 1977\n",
            " 1978 1979 1980 1981 1982 1983 1984 1985 1986 1987 1988 1989 1990 1991\n",
            " 1992 1993 1994 1995 1996 1997 1998 1999 2000 2001 2002 2003 2004 2005\n",
            " 2006 2007 2008 2009 2010 2011 2012 2013 2014 2015 2016 2017 2018 2019\n",
            " 2020 2021 2022]\n"
          ]
        }
      ],
      "source": [
        "anos = np.arange(1950, 2022+1)\n",
        "quantidade_populacional = pd.read_csv(\"data/world_population_2022.csv\").get(\"Population\").values\n",
        "\n",
        "print(\"Coluna de população:\", quantidade_populacional)\n",
        "print(\"Coluna dos anos:\", anos)"
      ]
    },
    {
      "cell_type": "code",
      "execution_count": 29,
      "metadata": {},
      "outputs": [
        {
          "data": {
            "text/plain": [
              "7022084781"
            ]
          },
          "execution_count": 29,
          "metadata": {},
          "output_type": "execute_result"
        }
      ],
      "source": [
        "quantidade_populacional[quantidade_populacional>7000000000].min()\n"
      ]
    },
    {
      "cell_type": "markdown",
      "metadata": {
        "id": "CuY0ClNEBpIB"
      },
      "source": [
        "Suponha que queiramos responder a esta pergunta:\n",
        "\n",
        "> Quando é que a população mundial ultrapassou os 7 mil milhões?\n",
        "\n",
        "Você poderia tecnicamente responder a essa pergunta apenas olhando para as matrizes, mas é um pouco complicado, pois seria necessário contar a posição onde a população ultrapassou pela primeira vez os 7 bilhões e, em seguida, encontrar o elemento correspondente na matriz de anos. Em casos como estes, pode ser mais fácil colocar os dados em uma tabela."
      ]
    },
    {
      "cell_type": "markdown",
      "metadata": {
        "id": "cUp6z8ddBpIC"
      },
      "source": [
        "Assim como `numpy` fornece arrays, um pacote popular chamado `pandas` fornece **DataFrames**, que é o nome em `pandas` para **tabelas**. `pandas` é *a* ferramenta para fazer ciência de dados em Python. Infelizmente, `pandas` não é tão fofo quanto o nome sugere: é muito complicado e pode ser um tanto difícil de aprender.\n",
        "\n",
        "Em vez de usar `pandas`, usaremos um pacote que criamos especificamente para o curso do DSC10. É um *subconjunto* de `pandas`, incluindo apenas as partes que os criadores acharam necessárias e descartando todo o resto . Por ser menor (e mais fofo), eles deram para esse módulo o nome carinhoso de `babypandas`.\n",
        "\n",
        "<img src='https://github.com/ThiagoPoppe/monitoria_fcd2024/blob/main/labs/lab01/imagens/pandas-babypandas.jpg?raw=true' width=400>\n",
        "\n",
        "Você pode importar `babypandas` usando o seguinte código:"
      ]
    },
    {
      "cell_type": "code",
      "execution_count": 30,
      "metadata": {
        "id": "tP1oxI2_BpIC"
      },
      "outputs": [],
      "source": [
        "import pandas as pd"
      ]
    },
    {
      "cell_type": "markdown",
      "metadata": {
        "id": "xPjlLTTQBpIC"
      },
      "source": [
        "\n",
        "O bom de `babypandas` é que é mais fácil de aprender *mas* cada pedaço de código que você escreve usando `babypandas` funcionará com `pandas` também. Se você é especialista em ciência de dados ou apenas fará muitas análises de dados em Python, verá muitos `pandas` no futuro."
      ]
    },
    {
      "cell_type": "markdown",
      "metadata": {
        "id": "himRXSbHBpIC"
      },
      "source": [
        "A célula abaixo:\n",
        "\n",
        "- cria um DataFrame vazio usando a expressão `pd.DataFrame()`,\n",
        "- atribui duas colunas ao DataFrame chamando `assign`,\n",
        "- atribui o DataFrame resultante ao nome `populacao_df` e, finalmente\n",
        "- exibe `populacao_df` para que possamos ver o DataFrame que criamos.\n",
        "\n",
        "`\"Populacao\"` e `\"Ano\"` são rótulos de coluna que escolhemos. Poderíamos ter escolhido qualquer coisa, mas é uma boa ideia escolher nomes que sejam descritivos e não muito longos."
      ]
    },
    {
      "cell_type": "code",
      "execution_count": 31,
      "metadata": {
        "id": "LEdf8YJsBpID"
      },
      "outputs": [
        {
          "data": {
            "text/html": [
              "<div>\n",
              "<style scoped>\n",
              "    .dataframe tbody tr th:only-of-type {\n",
              "        vertical-align: middle;\n",
              "    }\n",
              "\n",
              "    .dataframe tbody tr th {\n",
              "        vertical-align: top;\n",
              "    }\n",
              "\n",
              "    .dataframe thead th {\n",
              "        text-align: right;\n",
              "    }\n",
              "</style>\n",
              "<table border=\"1\" class=\"dataframe\">\n",
              "  <thead>\n",
              "    <tr style=\"text-align: right;\">\n",
              "      <th></th>\n",
              "      <th>Populacao</th>\n",
              "      <th>Ano</th>\n",
              "    </tr>\n",
              "  </thead>\n",
              "  <tbody>\n",
              "    <tr>\n",
              "      <th>0</th>\n",
              "      <td>2557619597</td>\n",
              "      <td>1950</td>\n",
              "    </tr>\n",
              "    <tr>\n",
              "      <th>1</th>\n",
              "      <td>2594942227</td>\n",
              "      <td>1951</td>\n",
              "    </tr>\n",
              "    <tr>\n",
              "      <th>2</th>\n",
              "      <td>2636777090</td>\n",
              "      <td>1952</td>\n",
              "    </tr>\n",
              "    <tr>\n",
              "      <th>3</th>\n",
              "      <td>2682060684</td>\n",
              "      <td>1953</td>\n",
              "    </tr>\n",
              "    <tr>\n",
              "      <th>4</th>\n",
              "      <td>2730237675</td>\n",
              "      <td>1954</td>\n",
              "    </tr>\n",
              "    <tr>\n",
              "      <th>...</th>\n",
              "      <td>...</td>\n",
              "      <td>...</td>\n",
              "    </tr>\n",
              "    <tr>\n",
              "      <th>68</th>\n",
              "      <td>7597066210</td>\n",
              "      <td>2018</td>\n",
              "    </tr>\n",
              "    <tr>\n",
              "      <th>69</th>\n",
              "      <td>7676686052</td>\n",
              "      <td>2019</td>\n",
              "    </tr>\n",
              "    <tr>\n",
              "      <th>70</th>\n",
              "      <td>7756873419</td>\n",
              "      <td>2020</td>\n",
              "    </tr>\n",
              "    <tr>\n",
              "      <th>71</th>\n",
              "      <td>7831718605</td>\n",
              "      <td>2021</td>\n",
              "    </tr>\n",
              "    <tr>\n",
              "      <th>72</th>\n",
              "      <td>7905336896</td>\n",
              "      <td>2022</td>\n",
              "    </tr>\n",
              "  </tbody>\n",
              "</table>\n",
              "<p>73 rows × 2 columns</p>\n",
              "</div>"
            ],
            "text/plain": [
              "     Populacao   Ano\n",
              "0   2557619597  1950\n",
              "1   2594942227  1951\n",
              "2   2636777090  1952\n",
              "3   2682060684  1953\n",
              "4   2730237675  1954\n",
              "..         ...   ...\n",
              "68  7597066210  2018\n",
              "69  7676686052  2019\n",
              "70  7756873419  2020\n",
              "71  7831718605  2021\n",
              "72  7905336896  2022\n",
              "\n",
              "[73 rows x 2 columns]"
            ]
          },
          "execution_count": 31,
          "metadata": {},
          "output_type": "execute_result"
        }
      ],
      "source": [
        "populacao_df = pd.DataFrame().assign(\n",
        "    Populacao=quantidade_populacional,\n",
        "    Ano=anos\n",
        ")\n",
        "\n",
        "#populacao_df.set_index('Ano')\n",
        "populacao_df"
      ]
    },
    {
      "cell_type": "markdown",
      "metadata": {
        "id": "y_cDDRQGBpID"
      },
      "source": [
        "Agora os dados estão todos juntos em um único DataFrame! É muito mais fácil analisar esses dados. Se você precisa saber qual era a população em 2011, por exemplo, você pode saber com um simples olhar. Revisitaremos este DataFrame mais tarde."
      ]
    },
    {
      "cell_type": "code",
      "execution_count": 32,
      "metadata": {},
      "outputs": [
        {
          "data": {
            "text/plain": [
              "2011"
            ]
          },
          "execution_count": 32,
          "metadata": {},
          "output_type": "execute_result"
        }
      ],
      "source": [
        "populacao_df[populacao_df['Populacao'] > 7000000000][\"Ano\"].min()"
      ]
    },
    {
      "cell_type": "markdown",
      "metadata": {
        "id": "xiUFZvluBpID"
      },
      "source": [
        "**Questão 2.1.1.** Na célula abaixo, criamos 2 arrays. Usando as etapas acima, atribua `top_10_filmes` a um DataFrame que possui duas colunas chamadas `Avaliacao` e `Nome`, que contêm `top_10_avaliacoes` e `top_10_nomes` respectivamente."
      ]
    },
    {
      "cell_type": "code",
      "execution_count": 33,
      "metadata": {
        "id": "qPR9OpSwBpID"
      },
      "outputs": [],
      "source": [
        "top_10_avaliacoes = np.array([9.2, 9.2, 9., 8.9, 8.9, 8.9, 8.9, 8.9, 8.9, 8.8])\n",
        "top_10_nomes = np.array([\n",
        "        'The Shawshank Redemption (1994)',\n",
        "        'The Godfather (1972)',\n",
        "        'The Godfather: Part II (1974)',\n",
        "        'Pulp Fiction (1994)',\n",
        "        \"Schindler's List (1993)\",\n",
        "        'The Lord of the Rings: The Return of the King (2003)',\n",
        "        '12 Angry Men (1957)',\n",
        "        'The Dark Knight (2008)',\n",
        "        'Il buono, il brutto, il cattivo (1966)',\n",
        "        'The Lord of the Rings: The Fellowship of the Ring (2001)'\n",
        "])"
      ]
    },
    {
      "cell_type": "code",
      "execution_count": 34,
      "metadata": {
        "id": "1g_dPXsiBpID"
      },
      "outputs": [
        {
          "data": {
            "text/html": [
              "<div>\n",
              "<style scoped>\n",
              "    .dataframe tbody tr th:only-of-type {\n",
              "        vertical-align: middle;\n",
              "    }\n",
              "\n",
              "    .dataframe tbody tr th {\n",
              "        vertical-align: top;\n",
              "    }\n",
              "\n",
              "    .dataframe thead th {\n",
              "        text-align: right;\n",
              "    }\n",
              "</style>\n",
              "<table border=\"1\" class=\"dataframe\">\n",
              "  <thead>\n",
              "    <tr style=\"text-align: right;\">\n",
              "      <th></th>\n",
              "      <th>nomes</th>\n",
              "      <th>avaliacoes</th>\n",
              "    </tr>\n",
              "  </thead>\n",
              "  <tbody>\n",
              "    <tr>\n",
              "      <th>0</th>\n",
              "      <td>The Shawshank Redemption (1994)</td>\n",
              "      <td>9.2</td>\n",
              "    </tr>\n",
              "    <tr>\n",
              "      <th>1</th>\n",
              "      <td>The Godfather (1972)</td>\n",
              "      <td>9.2</td>\n",
              "    </tr>\n",
              "    <tr>\n",
              "      <th>2</th>\n",
              "      <td>The Godfather: Part II (1974)</td>\n",
              "      <td>9.0</td>\n",
              "    </tr>\n",
              "    <tr>\n",
              "      <th>3</th>\n",
              "      <td>Pulp Fiction (1994)</td>\n",
              "      <td>8.9</td>\n",
              "    </tr>\n",
              "    <tr>\n",
              "      <th>4</th>\n",
              "      <td>Schindler's List (1993)</td>\n",
              "      <td>8.9</td>\n",
              "    </tr>\n",
              "    <tr>\n",
              "      <th>5</th>\n",
              "      <td>The Lord of the Rings: The Return of the King ...</td>\n",
              "      <td>8.9</td>\n",
              "    </tr>\n",
              "    <tr>\n",
              "      <th>6</th>\n",
              "      <td>12 Angry Men (1957)</td>\n",
              "      <td>8.9</td>\n",
              "    </tr>\n",
              "    <tr>\n",
              "      <th>7</th>\n",
              "      <td>The Dark Knight (2008)</td>\n",
              "      <td>8.9</td>\n",
              "    </tr>\n",
              "    <tr>\n",
              "      <th>8</th>\n",
              "      <td>Il buono, il brutto, il cattivo (1966)</td>\n",
              "      <td>8.9</td>\n",
              "    </tr>\n",
              "    <tr>\n",
              "      <th>9</th>\n",
              "      <td>The Lord of the Rings: The Fellowship of the R...</td>\n",
              "      <td>8.8</td>\n",
              "    </tr>\n",
              "  </tbody>\n",
              "</table>\n",
              "</div>"
            ],
            "text/plain": [
              "                                               nomes  avaliacoes\n",
              "0                    The Shawshank Redemption (1994)         9.2\n",
              "1                               The Godfather (1972)         9.2\n",
              "2                      The Godfather: Part II (1974)         9.0\n",
              "3                                Pulp Fiction (1994)         8.9\n",
              "4                            Schindler's List (1993)         8.9\n",
              "5  The Lord of the Rings: The Return of the King ...         8.9\n",
              "6                                12 Angry Men (1957)         8.9\n",
              "7                             The Dark Knight (2008)         8.9\n",
              "8             Il buono, il brutto, il cattivo (1966)         8.9\n",
              "9  The Lord of the Rings: The Fellowship of the R...         8.8"
            ]
          },
          "execution_count": 34,
          "metadata": {},
          "output_type": "execute_result"
        }
      ],
      "source": [
        "top_10_filmes = pd.DataFrame().assign(\n",
        "    nomes = top_10_nomes,\n",
        "    avaliacoes = top_10_avaliacoes\n",
        ")\n",
        "top_10_filmes.sort_values(by = 'avaliacoes', ascending=False)"
      ]
    },
    {
      "cell_type": "markdown",
      "metadata": {
        "id": "47FiutKfBpIE"
      },
      "source": [
        "Suponha que você queira adicionar suas próprias classificações a este DataFrame. A célula abaixo contém sua avaliação de cada filme:"
      ]
    },
    {
      "cell_type": "code",
      "execution_count": 35,
      "metadata": {
        "id": "ZzVOF3mSBpIE"
      },
      "outputs": [],
      "source": [
        "minhas_avaliacoes = [8, 2, 1, 9, 7, 10, 6, 4, 3, 5]"
      ]
    },
    {
      "cell_type": "markdown",
      "metadata": {
        "id": "zSAz6I-JBpIE"
      },
      "source": [
        "**Pergunta 2.1.2** Você também pode usar o método `assign` para adicionar uma coluna a um DataFrame já existente. Crie um novo DataFrame chamado `com_minhas_avaliacoes` adicionando uma coluna chamada `MinhaAvaliacao` ao DataFrame em `top_10_filmes`."
      ]
    },
    {
      "cell_type": "code",
      "execution_count": 36,
      "metadata": {
        "id": "0bq2hksvBpIE"
      },
      "outputs": [
        {
          "data": {
            "text/html": [
              "<div>\n",
              "<style scoped>\n",
              "    .dataframe tbody tr th:only-of-type {\n",
              "        vertical-align: middle;\n",
              "    }\n",
              "\n",
              "    .dataframe tbody tr th {\n",
              "        vertical-align: top;\n",
              "    }\n",
              "\n",
              "    .dataframe thead th {\n",
              "        text-align: right;\n",
              "    }\n",
              "</style>\n",
              "<table border=\"1\" class=\"dataframe\">\n",
              "  <thead>\n",
              "    <tr style=\"text-align: right;\">\n",
              "      <th></th>\n",
              "      <th>nomes</th>\n",
              "      <th>avaliacao_geral</th>\n",
              "      <th>avaliacao_pessoal</th>\n",
              "    </tr>\n",
              "  </thead>\n",
              "  <tbody>\n",
              "    <tr>\n",
              "      <th>0</th>\n",
              "      <td>The Shawshank Redemption (1994)</td>\n",
              "      <td>9.2</td>\n",
              "      <td>8</td>\n",
              "    </tr>\n",
              "    <tr>\n",
              "      <th>1</th>\n",
              "      <td>The Godfather (1972)</td>\n",
              "      <td>9.2</td>\n",
              "      <td>2</td>\n",
              "    </tr>\n",
              "    <tr>\n",
              "      <th>2</th>\n",
              "      <td>The Godfather: Part II (1974)</td>\n",
              "      <td>9.0</td>\n",
              "      <td>1</td>\n",
              "    </tr>\n",
              "    <tr>\n",
              "      <th>3</th>\n",
              "      <td>Pulp Fiction (1994)</td>\n",
              "      <td>8.9</td>\n",
              "      <td>9</td>\n",
              "    </tr>\n",
              "    <tr>\n",
              "      <th>4</th>\n",
              "      <td>Schindler's List (1993)</td>\n",
              "      <td>8.9</td>\n",
              "      <td>7</td>\n",
              "    </tr>\n",
              "    <tr>\n",
              "      <th>5</th>\n",
              "      <td>The Lord of the Rings: The Return of the King ...</td>\n",
              "      <td>8.9</td>\n",
              "      <td>10</td>\n",
              "    </tr>\n",
              "    <tr>\n",
              "      <th>6</th>\n",
              "      <td>12 Angry Men (1957)</td>\n",
              "      <td>8.9</td>\n",
              "      <td>6</td>\n",
              "    </tr>\n",
              "    <tr>\n",
              "      <th>7</th>\n",
              "      <td>The Dark Knight (2008)</td>\n",
              "      <td>8.9</td>\n",
              "      <td>4</td>\n",
              "    </tr>\n",
              "    <tr>\n",
              "      <th>8</th>\n",
              "      <td>Il buono, il brutto, il cattivo (1966)</td>\n",
              "      <td>8.9</td>\n",
              "      <td>3</td>\n",
              "    </tr>\n",
              "    <tr>\n",
              "      <th>9</th>\n",
              "      <td>The Lord of the Rings: The Fellowship of the R...</td>\n",
              "      <td>8.8</td>\n",
              "      <td>5</td>\n",
              "    </tr>\n",
              "  </tbody>\n",
              "</table>\n",
              "</div>"
            ],
            "text/plain": [
              "                                               nomes  avaliacao_geral  \\\n",
              "0                    The Shawshank Redemption (1994)              9.2   \n",
              "1                               The Godfather (1972)              9.2   \n",
              "2                      The Godfather: Part II (1974)              9.0   \n",
              "3                                Pulp Fiction (1994)              8.9   \n",
              "4                            Schindler's List (1993)              8.9   \n",
              "5  The Lord of the Rings: The Return of the King ...              8.9   \n",
              "6                                12 Angry Men (1957)              8.9   \n",
              "7                             The Dark Knight (2008)              8.9   \n",
              "8             Il buono, il brutto, il cattivo (1966)              8.9   \n",
              "9  The Lord of the Rings: The Fellowship of the R...              8.8   \n",
              "\n",
              "   avaliacao_pessoal  \n",
              "0                  8  \n",
              "1                  2  \n",
              "2                  1  \n",
              "3                  9  \n",
              "4                  7  \n",
              "5                 10  \n",
              "6                  6  \n",
              "7                  4  \n",
              "8                  3  \n",
              "9                  5  "
            ]
          },
          "execution_count": 36,
          "metadata": {},
          "output_type": "execute_result"
        }
      ],
      "source": [
        "com_minhas_avaliacoes = pd.DataFrame().assign(\n",
        "    nomes = top_10_nomes,\n",
        "    avaliacao_geral = top_10_avaliacoes,\n",
        "    avaliacao_pessoal = minhas_avaliacoes\n",
        ")\n",
        "com_minhas_avaliacoes"
      ]
    },
    {
      "cell_type": "markdown",
      "metadata": {
        "id": "RT8noCj6BpIE"
      },
      "source": [
        "## 2.2. Índices\n",
        "\n",
        "Você deve ter notado que o DataFrame de populações contém o que parece ser uma coluna extra e sem rótulo à esquerda com os números de 0 a 65. **Isto não é uma coluna, é o que chamamos de *índice***. O índice contém os rótulos das linhas. Enquanto as colunas deste DataFrame são rotuladas como `\"Populacao\"` e `\"Ano\"`, as linhas são rotuladas como 0, 1, ..., 65.\n",
        "\n",
        "Por padrão, `babypandas` não sabe como rotular as linhas, então apenas as numera (começando com 0). É claro que, neste caso, faz mais sentido usar o ano como rótulo da linha. Podemos fazer isso dizendo ao `babypandas` para definir a coluna `\"Ano\"` como índice:"
      ]
    },
    {
      "cell_type": "code",
      "execution_count": 37,
      "metadata": {
        "id": "52F8sb4kBpIF"
      },
      "outputs": [
        {
          "data": {
            "text/html": [
              "<div>\n",
              "<style scoped>\n",
              "    .dataframe tbody tr th:only-of-type {\n",
              "        vertical-align: middle;\n",
              "    }\n",
              "\n",
              "    .dataframe tbody tr th {\n",
              "        vertical-align: top;\n",
              "    }\n",
              "\n",
              "    .dataframe thead th {\n",
              "        text-align: right;\n",
              "    }\n",
              "</style>\n",
              "<table border=\"1\" class=\"dataframe\">\n",
              "  <thead>\n",
              "    <tr style=\"text-align: right;\">\n",
              "      <th></th>\n",
              "      <th>Populacao</th>\n",
              "    </tr>\n",
              "    <tr>\n",
              "      <th>Ano</th>\n",
              "      <th></th>\n",
              "    </tr>\n",
              "  </thead>\n",
              "  <tbody>\n",
              "    <tr>\n",
              "      <th>1950</th>\n",
              "      <td>2557619597</td>\n",
              "    </tr>\n",
              "    <tr>\n",
              "      <th>1951</th>\n",
              "      <td>2594942227</td>\n",
              "    </tr>\n",
              "    <tr>\n",
              "      <th>1952</th>\n",
              "      <td>2636777090</td>\n",
              "    </tr>\n",
              "    <tr>\n",
              "      <th>1953</th>\n",
              "      <td>2682060684</td>\n",
              "    </tr>\n",
              "    <tr>\n",
              "      <th>1954</th>\n",
              "      <td>2730237675</td>\n",
              "    </tr>\n",
              "    <tr>\n",
              "      <th>...</th>\n",
              "      <td>...</td>\n",
              "    </tr>\n",
              "    <tr>\n",
              "      <th>2018</th>\n",
              "      <td>7597066210</td>\n",
              "    </tr>\n",
              "    <tr>\n",
              "      <th>2019</th>\n",
              "      <td>7676686052</td>\n",
              "    </tr>\n",
              "    <tr>\n",
              "      <th>2020</th>\n",
              "      <td>7756873419</td>\n",
              "    </tr>\n",
              "    <tr>\n",
              "      <th>2021</th>\n",
              "      <td>7831718605</td>\n",
              "    </tr>\n",
              "    <tr>\n",
              "      <th>2022</th>\n",
              "      <td>7905336896</td>\n",
              "    </tr>\n",
              "  </tbody>\n",
              "</table>\n",
              "<p>73 rows × 1 columns</p>\n",
              "</div>"
            ],
            "text/plain": [
              "       Populacao\n",
              "Ano             \n",
              "1950  2557619597\n",
              "1951  2594942227\n",
              "1952  2636777090\n",
              "1953  2682060684\n",
              "1954  2730237675\n",
              "...          ...\n",
              "2018  7597066210\n",
              "2019  7676686052\n",
              "2020  7756873419\n",
              "2021  7831718605\n",
              "2022  7905336896\n",
              "\n",
              "[73 rows x 1 columns]"
            ]
          },
          "execution_count": 37,
          "metadata": {},
          "output_type": "execute_result"
        }
      ],
      "source": [
        "populacao_por_ano = populacao_df.set_index('Ano')\n",
        "populacao_por_ano"
      ]
    },
    {
      "cell_type": "markdown",
      "metadata": {
        "id": "dBgp9jecBpIF"
      },
      "source": [
        "Como veremos, isso faz mais do que deixar o DataFrame mais bonito – é muito útil também."
      ]
    },
    {
      "cell_type": "markdown",
      "metadata": {
        "id": "MyGrc0RwBpIF"
      },
      "source": [
        "**Pergunta 2.2.1** Crie um novo DataFrame chamado `top_10_filmes_por_nome` pegando o DataFrame que você criou acima, `top_10_filmes`, e definindo o índice como a coluna `Nome`."
      ]
    },
    {
      "cell_type": "code",
      "execution_count": 38,
      "metadata": {
        "id": "3OSCi8MBBpIF"
      },
      "outputs": [
        {
          "data": {
            "text/html": [
              "<div>\n",
              "<style scoped>\n",
              "    .dataframe tbody tr th:only-of-type {\n",
              "        vertical-align: middle;\n",
              "    }\n",
              "\n",
              "    .dataframe tbody tr th {\n",
              "        vertical-align: top;\n",
              "    }\n",
              "\n",
              "    .dataframe thead th {\n",
              "        text-align: right;\n",
              "    }\n",
              "</style>\n",
              "<table border=\"1\" class=\"dataframe\">\n",
              "  <thead>\n",
              "    <tr style=\"text-align: right;\">\n",
              "      <th></th>\n",
              "      <th>avaliacoes</th>\n",
              "    </tr>\n",
              "    <tr>\n",
              "      <th>nomes</th>\n",
              "      <th></th>\n",
              "    </tr>\n",
              "  </thead>\n",
              "  <tbody>\n",
              "    <tr>\n",
              "      <th>The Shawshank Redemption (1994)</th>\n",
              "      <td>9.2</td>\n",
              "    </tr>\n",
              "    <tr>\n",
              "      <th>The Godfather (1972)</th>\n",
              "      <td>9.2</td>\n",
              "    </tr>\n",
              "    <tr>\n",
              "      <th>The Godfather: Part II (1974)</th>\n",
              "      <td>9.0</td>\n",
              "    </tr>\n",
              "    <tr>\n",
              "      <th>Pulp Fiction (1994)</th>\n",
              "      <td>8.9</td>\n",
              "    </tr>\n",
              "    <tr>\n",
              "      <th>Schindler's List (1993)</th>\n",
              "      <td>8.9</td>\n",
              "    </tr>\n",
              "    <tr>\n",
              "      <th>The Lord of the Rings: The Return of the King (2003)</th>\n",
              "      <td>8.9</td>\n",
              "    </tr>\n",
              "    <tr>\n",
              "      <th>12 Angry Men (1957)</th>\n",
              "      <td>8.9</td>\n",
              "    </tr>\n",
              "    <tr>\n",
              "      <th>The Dark Knight (2008)</th>\n",
              "      <td>8.9</td>\n",
              "    </tr>\n",
              "    <tr>\n",
              "      <th>Il buono, il brutto, il cattivo (1966)</th>\n",
              "      <td>8.9</td>\n",
              "    </tr>\n",
              "    <tr>\n",
              "      <th>The Lord of the Rings: The Fellowship of the Ring (2001)</th>\n",
              "      <td>8.8</td>\n",
              "    </tr>\n",
              "  </tbody>\n",
              "</table>\n",
              "</div>"
            ],
            "text/plain": [
              "                                                    avaliacoes\n",
              "nomes                                                         \n",
              "The Shawshank Redemption (1994)                            9.2\n",
              "The Godfather (1972)                                       9.2\n",
              "The Godfather: Part II (1974)                              9.0\n",
              "Pulp Fiction (1994)                                        8.9\n",
              "Schindler's List (1993)                                    8.9\n",
              "The Lord of the Rings: The Return of the King (...         8.9\n",
              "12 Angry Men (1957)                                        8.9\n",
              "The Dark Knight (2008)                                     8.9\n",
              "Il buono, il brutto, il cattivo (1966)                     8.9\n",
              "The Lord of the Rings: The Fellowship of the Ri...         8.8"
            ]
          },
          "execution_count": 38,
          "metadata": {},
          "output_type": "execute_result"
        }
      ],
      "source": [
        "top_10_filmes_por_nome = top_10_filmes.set_index('nomes')\n",
        "top_10_filmes_por_nome"
      ]
    },
    {
      "cell_type": "markdown",
      "metadata": {
        "id": "DZcn8VEdBpIF"
      },
      "source": [
        "Você pode obter um array de nomes de linhas usando `.index`. Por exemplo, o array de nomes de linhas do DataFrame `populacao_por_ano` é:"
      ]
    },
    {
      "cell_type": "code",
      "execution_count": 39,
      "metadata": {
        "id": "R6ZOt1gKBpIF"
      },
      "outputs": [
        {
          "data": {
            "text/plain": [
              "Index([1950, 1951, 1952, 1953, 1954, 1955, 1956, 1957, 1958, 1959, 1960, 1961,\n",
              "       1962, 1963, 1964, 1965, 1966, 1967, 1968, 1969, 1970, 1971, 1972, 1973,\n",
              "       1974, 1975, 1976, 1977, 1978, 1979, 1980, 1981, 1982, 1983, 1984, 1985,\n",
              "       1986, 1987, 1988, 1989, 1990, 1991, 1992, 1993, 1994, 1995, 1996, 1997,\n",
              "       1998, 1999, 2000, 2001, 2002, 2003, 2004, 2005, 2006, 2007, 2008, 2009,\n",
              "       2010, 2011, 2012, 2013, 2014, 2015, 2016, 2017, 2018, 2019, 2020, 2021,\n",
              "       2022],\n",
              "      dtype='int32', name='Ano')"
            ]
          },
          "execution_count": 39,
          "metadata": {},
          "output_type": "execute_result"
        }
      ],
      "source": [
        "populacao_por_ano.index"
      ]
    },
    {
      "cell_type": "markdown",
      "metadata": {
        "id": "zSjkZYBYBpIF"
      },
      "source": [
        "**Questão 2.2.2** Usando o código acima, atribua a `decimo_filme` o nome do décimo filme em `top_10_filmes_por_nome`.\n",
        "\n",
        "* **Dica:** Lembre-se de que o índice é um array e usamos colchetes para acessar os elementos de um array. E também que o índice 0 corresponde ao 1º elemento do array."
      ]
    },
    {
      "cell_type": "code",
      "execution_count": 40,
      "metadata": {
        "id": "9p519I0tBpIF"
      },
      "outputs": [
        {
          "data": {
            "text/plain": [
              "'The Lord of the Rings: The Fellowship of the Ring (2001)'"
            ]
          },
          "execution_count": 40,
          "metadata": {},
          "output_type": "execute_result"
        }
      ],
      "source": [
        "decimo_filme = top_10_filmes_por_nome.index[10-1]\n",
        "decimo_filme"
      ]
    },
    {
      "cell_type": "markdown",
      "metadata": {
        "id": "3xEX8OMWBpIG"
      },
      "source": [
        "## 2.3 Lendo um DataFrame de um arquivo\n",
        "Na maioria dos casos, não teremos o trabalho de digitar todos os dados manualmente. Em vez disso, podemos usar funções fornecidas por `babypandas` para ler dados de arquivos externos.\n",
        "\n",
        "A função `pd.read_csv()` pega um argumento, um caminho para um arquivo de dados (uma string) e retorna um DataFrame. Existem muitos formatos de arquivos de dados, mas CSV (*comma separated values*, ou \"valores separados por vírgula\") é o mais comum.\n",
        "\n",
        "**Questão 2.3.1.** O arquivo `data/imdb.csv` contém informações sobre os 250 filmes mais bem avaliados no IMDb. Carregue-o como um DataFrame chamado `imdb`."
      ]
    },
    {
      "cell_type": "code",
      "execution_count": 41,
      "metadata": {
        "id": "GiDQF1FvBpIH"
      },
      "outputs": [
        {
          "data": {
            "text/html": [
              "<div>\n",
              "<style scoped>\n",
              "    .dataframe tbody tr th:only-of-type {\n",
              "        vertical-align: middle;\n",
              "    }\n",
              "\n",
              "    .dataframe tbody tr th {\n",
              "        vertical-align: top;\n",
              "    }\n",
              "\n",
              "    .dataframe thead th {\n",
              "        text-align: right;\n",
              "    }\n",
              "</style>\n",
              "<table border=\"1\" class=\"dataframe\">\n",
              "  <thead>\n",
              "    <tr style=\"text-align: right;\">\n",
              "      <th></th>\n",
              "      <th>Votes</th>\n",
              "      <th>Rating</th>\n",
              "      <th>Title</th>\n",
              "      <th>Year</th>\n",
              "      <th>Decade</th>\n",
              "    </tr>\n",
              "  </thead>\n",
              "  <tbody>\n",
              "    <tr>\n",
              "      <th>0</th>\n",
              "      <td>88355</td>\n",
              "      <td>8.4</td>\n",
              "      <td>M</td>\n",
              "      <td>1931</td>\n",
              "      <td>1930</td>\n",
              "    </tr>\n",
              "    <tr>\n",
              "      <th>1</th>\n",
              "      <td>132823</td>\n",
              "      <td>8.3</td>\n",
              "      <td>Singin' in the Rain</td>\n",
              "      <td>1952</td>\n",
              "      <td>1950</td>\n",
              "    </tr>\n",
              "    <tr>\n",
              "      <th>2</th>\n",
              "      <td>74178</td>\n",
              "      <td>8.3</td>\n",
              "      <td>All About Eve</td>\n",
              "      <td>1950</td>\n",
              "      <td>1950</td>\n",
              "    </tr>\n",
              "    <tr>\n",
              "      <th>3</th>\n",
              "      <td>635139</td>\n",
              "      <td>8.6</td>\n",
              "      <td>Léon</td>\n",
              "      <td>1994</td>\n",
              "      <td>1990</td>\n",
              "    </tr>\n",
              "    <tr>\n",
              "      <th>4</th>\n",
              "      <td>145514</td>\n",
              "      <td>8.2</td>\n",
              "      <td>The Elephant Man</td>\n",
              "      <td>1980</td>\n",
              "      <td>1980</td>\n",
              "    </tr>\n",
              "    <tr>\n",
              "      <th>...</th>\n",
              "      <td>...</td>\n",
              "      <td>...</td>\n",
              "      <td>...</td>\n",
              "      <td>...</td>\n",
              "      <td>...</td>\n",
              "    </tr>\n",
              "    <tr>\n",
              "      <th>245</th>\n",
              "      <td>1078416</td>\n",
              "      <td>8.7</td>\n",
              "      <td>Forrest Gump</td>\n",
              "      <td>1994</td>\n",
              "      <td>1990</td>\n",
              "    </tr>\n",
              "    <tr>\n",
              "      <th>246</th>\n",
              "      <td>31003</td>\n",
              "      <td>8.1</td>\n",
              "      <td>Le salaire de la peur</td>\n",
              "      <td>1953</td>\n",
              "      <td>1950</td>\n",
              "    </tr>\n",
              "    <tr>\n",
              "      <th>247</th>\n",
              "      <td>167076</td>\n",
              "      <td>8.2</td>\n",
              "      <td>3 Idiots</td>\n",
              "      <td>2009</td>\n",
              "      <td>2000</td>\n",
              "    </tr>\n",
              "    <tr>\n",
              "      <th>248</th>\n",
              "      <td>91689</td>\n",
              "      <td>8.1</td>\n",
              "      <td>Network</td>\n",
              "      <td>1976</td>\n",
              "      <td>1970</td>\n",
              "    </tr>\n",
              "    <tr>\n",
              "      <th>249</th>\n",
              "      <td>589477</td>\n",
              "      <td>8.3</td>\n",
              "      <td>Eternal Sunshine of the Spotless Mind</td>\n",
              "      <td>2004</td>\n",
              "      <td>2000</td>\n",
              "    </tr>\n",
              "  </tbody>\n",
              "</table>\n",
              "<p>250 rows × 5 columns</p>\n",
              "</div>"
            ],
            "text/plain": [
              "       Votes  Rating                                  Title  Year  Decade\n",
              "0      88355     8.4                                      M  1931    1930\n",
              "1     132823     8.3                    Singin' in the Rain  1952    1950\n",
              "2      74178     8.3                          All About Eve  1950    1950\n",
              "3     635139     8.6                                   Léon  1994    1990\n",
              "4     145514     8.2                       The Elephant Man  1980    1980\n",
              "..       ...     ...                                    ...   ...     ...\n",
              "245  1078416     8.7                           Forrest Gump  1994    1990\n",
              "246    31003     8.1                  Le salaire de la peur  1953    1950\n",
              "247   167076     8.2                               3 Idiots  2009    2000\n",
              "248    91689     8.1                                Network  1976    1970\n",
              "249   589477     8.3  Eternal Sunshine of the Spotless Mind  2004    2000\n",
              "\n",
              "[250 rows x 5 columns]"
            ]
          },
          "execution_count": 41,
          "metadata": {},
          "output_type": "execute_result"
        }
      ],
      "source": [
        "imdb = pd.read_csv(\"data/imdb.csv\")\n",
        "imdb"
      ]
    },
    {
      "cell_type": "markdown",
      "metadata": {
        "id": "wcXqjFpCBpIH"
      },
      "source": [
        "Observe os `...` no meio do DataFrame. Isso significa que muitas linhas foram omitidas. Este DataFrame é grande o suficiente para que apenas algumas de suas linhas sejam exibidas, mas as outras ainda estão lá. São 250 filmes no total.\n",
        "\n",
        "De onde veio o `imdb.csv`? Se você entrar no diretório `data/`, deverá ver um arquivo chamado `imdb.csv`.\n",
        "\n",
        "Abra o arquivo `imdb.csv` nessa pasta e observe o formato. O que você percebe? A terminação do nome do arquivo `.csv` indica que este arquivo está no formato [CSV (comma-separated value)](http://edoceo.com/utilitas/csv-file-format)."
      ]
    },
    {
      "cell_type": "markdown",
      "metadata": {
        "id": "CgWkYAiJBpIH"
      },
      "source": [
        "**Pergunta 2.3.2.** Este é um conjunto de dados de filmes, portanto faz sentido usar o título do filme como rótulo da linha. Crie um novo DataFrame chamado `imdb_por_nome` que usa o título do filme como índice."
      ]
    },
    {
      "cell_type": "code",
      "execution_count": 42,
      "metadata": {
        "id": "kOuBH9CQBpIH"
      },
      "outputs": [
        {
          "data": {
            "text/html": [
              "<div>\n",
              "<style scoped>\n",
              "    .dataframe tbody tr th:only-of-type {\n",
              "        vertical-align: middle;\n",
              "    }\n",
              "\n",
              "    .dataframe tbody tr th {\n",
              "        vertical-align: top;\n",
              "    }\n",
              "\n",
              "    .dataframe thead th {\n",
              "        text-align: right;\n",
              "    }\n",
              "</style>\n",
              "<table border=\"1\" class=\"dataframe\">\n",
              "  <thead>\n",
              "    <tr style=\"text-align: right;\">\n",
              "      <th></th>\n",
              "      <th>Votes</th>\n",
              "      <th>Rating</th>\n",
              "      <th>Year</th>\n",
              "      <th>Decade</th>\n",
              "    </tr>\n",
              "    <tr>\n",
              "      <th>Title</th>\n",
              "      <th></th>\n",
              "      <th></th>\n",
              "      <th></th>\n",
              "      <th></th>\n",
              "    </tr>\n",
              "  </thead>\n",
              "  <tbody>\n",
              "    <tr>\n",
              "      <th>M</th>\n",
              "      <td>88355</td>\n",
              "      <td>8.4</td>\n",
              "      <td>1931</td>\n",
              "      <td>1930</td>\n",
              "    </tr>\n",
              "    <tr>\n",
              "      <th>Singin' in the Rain</th>\n",
              "      <td>132823</td>\n",
              "      <td>8.3</td>\n",
              "      <td>1952</td>\n",
              "      <td>1950</td>\n",
              "    </tr>\n",
              "    <tr>\n",
              "      <th>All About Eve</th>\n",
              "      <td>74178</td>\n",
              "      <td>8.3</td>\n",
              "      <td>1950</td>\n",
              "      <td>1950</td>\n",
              "    </tr>\n",
              "    <tr>\n",
              "      <th>Léon</th>\n",
              "      <td>635139</td>\n",
              "      <td>8.6</td>\n",
              "      <td>1994</td>\n",
              "      <td>1990</td>\n",
              "    </tr>\n",
              "    <tr>\n",
              "      <th>The Elephant Man</th>\n",
              "      <td>145514</td>\n",
              "      <td>8.2</td>\n",
              "      <td>1980</td>\n",
              "      <td>1980</td>\n",
              "    </tr>\n",
              "    <tr>\n",
              "      <th>...</th>\n",
              "      <td>...</td>\n",
              "      <td>...</td>\n",
              "      <td>...</td>\n",
              "      <td>...</td>\n",
              "    </tr>\n",
              "    <tr>\n",
              "      <th>Forrest Gump</th>\n",
              "      <td>1078416</td>\n",
              "      <td>8.7</td>\n",
              "      <td>1994</td>\n",
              "      <td>1990</td>\n",
              "    </tr>\n",
              "    <tr>\n",
              "      <th>Le salaire de la peur</th>\n",
              "      <td>31003</td>\n",
              "      <td>8.1</td>\n",
              "      <td>1953</td>\n",
              "      <td>1950</td>\n",
              "    </tr>\n",
              "    <tr>\n",
              "      <th>3 Idiots</th>\n",
              "      <td>167076</td>\n",
              "      <td>8.2</td>\n",
              "      <td>2009</td>\n",
              "      <td>2000</td>\n",
              "    </tr>\n",
              "    <tr>\n",
              "      <th>Network</th>\n",
              "      <td>91689</td>\n",
              "      <td>8.1</td>\n",
              "      <td>1976</td>\n",
              "      <td>1970</td>\n",
              "    </tr>\n",
              "    <tr>\n",
              "      <th>Eternal Sunshine of the Spotless Mind</th>\n",
              "      <td>589477</td>\n",
              "      <td>8.3</td>\n",
              "      <td>2004</td>\n",
              "      <td>2000</td>\n",
              "    </tr>\n",
              "  </tbody>\n",
              "</table>\n",
              "<p>250 rows × 4 columns</p>\n",
              "</div>"
            ],
            "text/plain": [
              "                                         Votes  Rating  Year  Decade\n",
              "Title                                                               \n",
              "M                                        88355     8.4  1931    1930\n",
              "Singin' in the Rain                     132823     8.3  1952    1950\n",
              "All About Eve                            74178     8.3  1950    1950\n",
              "Léon                                    635139     8.6  1994    1990\n",
              "The Elephant Man                        145514     8.2  1980    1980\n",
              "...                                        ...     ...   ...     ...\n",
              "Forrest Gump                           1078416     8.7  1994    1990\n",
              "Le salaire de la peur                    31003     8.1  1953    1950\n",
              "3 Idiots                                167076     8.2  2009    2000\n",
              "Network                                  91689     8.1  1976    1970\n",
              "Eternal Sunshine of the Spotless Mind   589477     8.3  2004    2000\n",
              "\n",
              "[250 rows x 4 columns]"
            ]
          },
          "execution_count": 42,
          "metadata": {},
          "output_type": "execute_result"
        }
      ],
      "source": [
        "imdb_por_nome = imdb.set_index(\"Title\")\n",
        "imdb_por_nome"
      ]
    },
    {
      "cell_type": "markdown",
      "metadata": {
        "id": "XnVZFp2lBpIH"
      },
      "source": [
        "## 2.4. Series\n",
        "\n"
      ]
    },
    {
      "cell_type": "markdown",
      "metadata": {
        "id": "LkXj-pTeBpII"
      },
      "source": [
        "Suponha que estejamos interessados ​​principalmente nas classificações de filmes. Para extrair apenas esta coluna do DataFrame, usamos o método `.get`:"
      ]
    },
    {
      "cell_type": "code",
      "execution_count": 43,
      "metadata": {
        "id": "xVeJU1jHBpII"
      },
      "outputs": [
        {
          "data": {
            "text/plain": [
              "Title\n",
              "M                                        8.4\n",
              "Singin' in the Rain                      8.3\n",
              "All About Eve                            8.3\n",
              "Léon                                     8.6\n",
              "The Elephant Man                         8.2\n",
              "                                        ... \n",
              "Forrest Gump                             8.7\n",
              "Le salaire de la peur                    8.1\n",
              "3 Idiots                                 8.2\n",
              "Network                                  8.1\n",
              "Eternal Sunshine of the Spotless Mind    8.3\n",
              "Name: Rating, Length: 250, dtype: float64"
            ]
          },
          "execution_count": 43,
          "metadata": {},
          "output_type": "execute_result"
        }
      ],
      "source": [
        "avaliacoes = imdb_por_nome.get('Rating')\n",
        "avaliacoes"
      ]
    },
    {
      "cell_type": "markdown",
      "metadata": {
        "id": "jhTwAGBZBpII"
      },
      "source": [
        "Observe como não apenas as classificações do filme foram retornadas, mas também o nome do filme! Isto ocorre precisamente porque definimos o título do filme como o índice! Por exemplo, se tivéssemos solicitado a coluna `\"Rating\"` do DataFrame original, `imdb`, veríamos:"
      ]
    },
    {
      "cell_type": "code",
      "execution_count": 44,
      "metadata": {
        "id": "7kUEs_XUBpII"
      },
      "outputs": [
        {
          "data": {
            "text/plain": [
              "0      8.4\n",
              "1      8.3\n",
              "2      8.3\n",
              "3      8.6\n",
              "4      8.2\n",
              "      ... \n",
              "245    8.7\n",
              "246    8.1\n",
              "247    8.2\n",
              "248    8.1\n",
              "249    8.3\n",
              "Name: Rating, Length: 250, dtype: float64"
            ]
          },
          "execution_count": 44,
          "metadata": {},
          "output_type": "execute_result"
        }
      ],
      "source": [
        "imdb.get('Rating')"
      ]
    },
    {
      "cell_type": "markdown",
      "metadata": {
        "id": "AYwzYa20BpII"
      },
      "source": [
        "Esta é uma forma pela qual os índices são muito úteis – eles fornecem rótulos significativos para os dados."
      ]
    },
    {
      "cell_type": "markdown",
      "metadata": {
        "id": "CHF2NQ9_BpIJ"
      },
      "source": [
        "À primeira vista, pode parecer que pedir uma coluna usando `.get` retorna um DataFrame com uma coluna, mas isso não está certo. Em vez disso, ele retorna um tipo especial de coisa chamado *Series*:"
      ]
    },
    {
      "cell_type": "code",
      "execution_count": 45,
      "metadata": {
        "id": "6dMpsP4_BpIJ"
      },
      "outputs": [
        {
          "data": {
            "text/plain": [
              "pandas.core.series.Series"
            ]
          },
          "execution_count": 45,
          "metadata": {},
          "output_type": "execute_result"
        }
      ],
      "source": [
        "type(imdb_por_nome.get('Rating'))"
      ]
    },
    {
      "cell_type": "markdown",
      "metadata": {
        "id": "yJGEugg4BpIJ"
      },
      "source": [
        "Você pode pensar em uma `Series` como um array com um índice. Enquanto as matrizes são sequências simples de números sem rótulos, `Series` pode ter rótulos. Isso geralmente é muito útil.\n",
        "\n",
        "`avaliacoes` agora é uma `Series` que contém a coluna de classificações de filmes. Suponha que estejamos interessados ​​na avaliação de um filme específico: _Alien_. Para fazer isso, usaremos o \"*acessador*\" `.loc` que extrai um valor da Série em um *local* específico:"
      ]
    },
    {
      "cell_type": "code",
      "execution_count": 46,
      "metadata": {
        "id": "DWHTRLPBBpIJ"
      },
      "outputs": [
        {
          "data": {
            "text/plain": [
              "8.5"
            ]
          },
          "execution_count": 46,
          "metadata": {},
          "output_type": "execute_result"
        }
      ],
      "source": [
        "avaliacoes.loc[\"Alien\"]"
      ]
    },
    {
      "cell_type": "markdown",
      "metadata": {
        "id": "toZl4DBOBpIJ"
      },
      "source": [
        "Há algumas coisas a serem observadas aqui. Primeiro, esses são colchetes em torno de `\"Alien\"`. Isso ocorre porque `.loc` não é um método, mas um \"*acessador*\". Os colchetes sinalizam que iremos extrair um elemento da `Série`. Segundo, passamos o rótulo como uma string."
      ]
    },
    {
      "cell_type": "markdown",
      "metadata": {
        "id": "205dKbtFBpIJ"
      },
      "source": [
        "**Pergunta 2.4.1.** Encontre a avaliação de _3 Idiotas_ (*3 Idiots*)."
      ]
    },
    {
      "cell_type": "code",
      "execution_count": 47,
      "metadata": {
        "id": "D384m5QvBpIJ"
      },
      "outputs": [
        {
          "data": {
            "text/plain": [
              "8.2"
            ]
          },
          "execution_count": 47,
          "metadata": {},
          "output_type": "execute_result"
        }
      ],
      "source": [
        "avaliacao_de_tres_idiotas = avaliacoes.loc[\"3 Idiots\"]\n",
        "avaliacao_de_tres_idiotas"
      ]
    },
    {
      "cell_type": "markdown",
      "metadata": {
        "id": "uGYpObNiBpIK"
      },
      "source": [
        "Agora suponha que quiséssemos saber o ano em que _Alien_ foi lançado. Poderíamos fazer isso obtendo primeiro a coluna dos anos:"
      ]
    },
    {
      "cell_type": "code",
      "execution_count": 48,
      "metadata": {
        "id": "lk2-vZgaBpIK"
      },
      "outputs": [
        {
          "data": {
            "text/plain": [
              "Title\n",
              "M                                        1931\n",
              "Singin' in the Rain                      1952\n",
              "All About Eve                            1950\n",
              "Léon                                     1994\n",
              "The Elephant Man                         1980\n",
              "                                         ... \n",
              "Forrest Gump                             1994\n",
              "Le salaire de la peur                    1953\n",
              "3 Idiots                                 2009\n",
              "Network                                  1976\n",
              "Eternal Sunshine of the Spotless Mind    2004\n",
              "Name: Year, Length: 250, dtype: int64"
            ]
          },
          "execution_count": 48,
          "metadata": {},
          "output_type": "execute_result"
        }
      ],
      "source": [
        "anos = imdb_por_nome.get('Year')\n",
        "anos"
      ]
    },
    {
      "cell_type": "markdown",
      "metadata": {
        "id": "oTTWJZEzBpIL"
      },
      "source": [
        "E então usando `.loc` para obter a entrada correta:"
      ]
    },
    {
      "cell_type": "code",
      "execution_count": 49,
      "metadata": {
        "id": "F_oLNtSXBpIL"
      },
      "outputs": [
        {
          "data": {
            "text/plain": [
              "1979"
            ]
          },
          "execution_count": 49,
          "metadata": {},
          "output_type": "execute_result"
        }
      ],
      "source": [
        "anos.loc['Alien']"
      ]
    },
    {
      "cell_type": "markdown",
      "metadata": {
        "id": "R0rka4DvBpIM"
      },
      "source": [
        "Também poderíamos fazer isso em uma única etapa *encadeando* as operações:"
      ]
    },
    {
      "cell_type": "code",
      "execution_count": 50,
      "metadata": {
        "id": "qfY7_2uiBpIM"
      },
      "outputs": [
        {
          "data": {
            "text/plain": [
              "1979"
            ]
          },
          "execution_count": 50,
          "metadata": {},
          "output_type": "execute_result"
        }
      ],
      "source": [
        "imdb_por_nome.get('Year').loc['Alien']"
      ]
    },
    {
      "cell_type": "markdown",
      "metadata": {
        "id": "RWIopXBBBpIM"
      },
      "source": [
        "Isso funciona porque o Python primeiro avalia `imdb_por_nome.get('Year')` como uma `Series`. Em seguida, avalia `.loc['Alien']` para retornar o ano.\n",
        "\n",
        "O encadeamento é usado com bastante frequência e pode ser útil. Apenas certifique-se de não encadear muitas coisas que tornem seu código difícil de ler. Você sempre pode salvar um resultado intermediário em uma variável."
      ]
    },
    {
      "cell_type": "markdown",
      "metadata": {
        "id": "AtEhvL5HBpIM"
      },
      "source": [
        "**Pergunta 2.4.2** Encontre a década em que _Gone Girl_ foi lançado usando encadeamento.\n",
        "\n",
        "*Dica*: `imbd_por_nome` possui uma coluna chamada `\"Decade\"` (*Década*)."
      ]
    },
    {
      "cell_type": "code",
      "execution_count": 51,
      "metadata": {
        "id": "SOKaJRYSBpIM"
      },
      "outputs": [
        {
          "data": {
            "text/plain": [
              "Title\n",
              "M                                        1930\n",
              "Singin' in the Rain                      1950\n",
              "All About Eve                            1950\n",
              "Léon                                     1990\n",
              "The Elephant Man                         1980\n",
              "                                         ... \n",
              "Forrest Gump                             1990\n",
              "Le salaire de la peur                    1950\n",
              "3 Idiots                                 2000\n",
              "Network                                  1970\n",
              "Eternal Sunshine of the Spotless Mind    2000\n",
              "Name: Decade, Length: 250, dtype: int64"
            ]
          },
          "execution_count": 51,
          "metadata": {},
          "output_type": "execute_result"
        }
      ],
      "source": [
        "decada = imdb_por_nome.get('Decade')\n",
        "decada"
      ]
    },
    {
      "cell_type": "code",
      "execution_count": 52,
      "metadata": {},
      "outputs": [
        {
          "data": {
            "text/plain": [
              "2010"
            ]
          },
          "execution_count": 52,
          "metadata": {},
          "output_type": "execute_result"
        }
      ],
      "source": [
        "lancamento_Gone_Girl = decada.loc['Gone Girl']\n",
        "lancamento_Gone_Girl"
      ]
    },
    {
      "cell_type": "markdown",
      "metadata": {
        "id": "iZmORYqXBpIM"
      },
      "source": [
        "# 3. Analisando conjuntos de dados\n",
        "\n",
        "Com apenas alguns métodos DataFrame, podemos responder algumas questões interessantes sobre o conjunto de dados IMDb.\n",
        "\n",
        "Se quisermos apenas as avaliações dos filmes, podemos usar `.get`:"
      ]
    },
    {
      "cell_type": "code",
      "execution_count": 53,
      "metadata": {
        "id": "LEa7B6QpBpIN"
      },
      "outputs": [
        {
          "data": {
            "text/plain": [
              "Title\n",
              "M                                        8.4\n",
              "Singin' in the Rain                      8.3\n",
              "All About Eve                            8.3\n",
              "Léon                                     8.6\n",
              "The Elephant Man                         8.2\n",
              "                                        ... \n",
              "Forrest Gump                             8.7\n",
              "Le salaire de la peur                    8.1\n",
              "3 Idiots                                 8.2\n",
              "Network                                  8.1\n",
              "Eternal Sunshine of the Spotless Mind    8.3\n",
              "Name: Rating, Length: 250, dtype: float64"
            ]
          },
          "execution_count": 53,
          "metadata": {},
          "output_type": "execute_result"
        }
      ],
      "source": [
        "avaliacoes = imdb_por_nome.get(\"Rating\")\n",
        "avaliacoes"
      ]
    },
    {
      "cell_type": "markdown",
      "metadata": {
        "id": "QuRB7BCbBpIN"
      },
      "source": [
        "Lembre-se de que `avaliacoes` é uma série. Objetos de série possuem alguns métodos úteis."
      ]
    },
    {
      "cell_type": "markdown",
      "metadata": {
        "id": "DLEMqE9bBpIN"
      },
      "source": [
        "**Pergunta 3.1.** Encontre a maior avaliação no conjunto de dados.\n",
        "\n",
        "*Dica:* Digite `avaliacoes.` e pressione Tab para ver uma lista dos métodos disponíveis. Existe algum que parece útil?"
      ]
    },
    {
      "cell_type": "code",
      "execution_count": 54,
      "metadata": {
        "id": "xfLizYIWBpIN"
      },
      "outputs": [
        {
          "data": {
            "text/plain": [
              "9.2"
            ]
          },
          "execution_count": 54,
          "metadata": {},
          "output_type": "execute_result"
        }
      ],
      "source": [
        "maior_avaliacao = avaliacoes.max()\n",
        "maior_avaliacao"
      ]
    },
    {
      "cell_type": "markdown",
      "metadata": {
        "id": "WaCTsqUvBpIO"
      },
      "source": [
        "Você provavelmente quer saber o *nome* do filme de maior avaliação que encontrou anteriormente! Para fazer isso, podemos ordenar toda a série usando o método `.sort_values`:"
      ]
    },
    {
      "cell_type": "code",
      "execution_count": 55,
      "metadata": {
        "id": "ypVmPvQ9BpIO"
      },
      "outputs": [
        {
          "data": {
            "text/plain": [
              "Title\n",
              "Akira                               8.0\n",
              "Per un pugno di dollari             8.0\n",
              "Guardians of the Galaxy             8.0\n",
              "The Man Who Shot Liberty Valance    8.0\n",
              "Underground                         8.0\n",
              "                                   ... \n",
              "Schindler's List                    8.9\n",
              "12 Angry Men                        8.9\n",
              "The Godfather: Part II              9.0\n",
              "The Shawshank Redemption            9.2\n",
              "The Godfather                       9.2\n",
              "Name: Rating, Length: 250, dtype: float64"
            ]
          },
          "execution_count": 55,
          "metadata": {},
          "output_type": "execute_result"
        }
      ],
      "source": [
        "avaliacoes.sort_values()"
      ]
    },
    {
      "cell_type": "markdown",
      "metadata": {
        "id": "H_GIhECZBpIO"
      },
      "source": [
        "Portanto, na verdade, existem dois filmes com maior audiência no conjunto de dados: *Um Sonho de Liberdade* e *O Poderoso Chefão*.\n",
        "\n",
        "Observe que estamos ordenando pelas avaliações, e não pelos rótulos! Além disso, o rótulo segue a ordenação conforme a sua avaliação. Isto é exatamente o que queremos.\n",
        "\n",
        "Quando utilizamos o método `sort_values`, a `Series` resultante tem os dados ordenados em ordem crescente, do menor ao maior. Este é o comportamento padrão de `sort_values`, mas podemos mudar isso. Se quiséssemos os filmes com melhor avaliação no topo, precisaríamos especificar que a avaliação não deveria ser em ordem crescente com um *argumento keyword* (\"palavra-chave\") opcional:\n"
      ]
    },
    {
      "cell_type": "code",
      "execution_count": 56,
      "metadata": {
        "id": "34qNo1LSBpIO",
        "scrolled": true
      },
      "outputs": [
        {
          "data": {
            "text/plain": [
              "Title\n",
              "The Godfather                             9.2\n",
              "The Shawshank Redemption                  9.2\n",
              "The Godfather: Part II                    9.0\n",
              "12 Angry Men                              8.9\n",
              "Il buono, il brutto, il cattivo (1966)    8.9\n",
              "                                         ... \n",
              "Monsters, Inc. (2001)                     8.0\n",
              "The Big Sleep                             8.0\n",
              "X-Men: Days of Future Past                8.0\n",
              "Roman Holiday                             8.0\n",
              "Kumonosu-jô                               8.0\n",
              "Name: Rating, Length: 250, dtype: float64"
            ]
          },
          "execution_count": 56,
          "metadata": {},
          "output_type": "execute_result"
        }
      ],
      "source": [
        "avaliacoes.sort_values(ascending=False)"
      ]
    },
    {
      "cell_type": "markdown",
      "metadata": {
        "id": "T4CvN70-BpIO"
      },
      "source": [
        "Se definirmos o argumento `ascending` como `True`, obteremos o mesmo resultado como se não o definissemos. Isso é o que queremos dizer quando dizemos que o comportamento padrão de `sort_values` é classificar em ordem crescente. Confirme se as próximas duas células fornecem a mesma saída."
      ]
    },
    {
      "cell_type": "code",
      "execution_count": 57,
      "metadata": {
        "id": "-TBuXRCfBpIO",
        "scrolled": true
      },
      "outputs": [
        {
          "data": {
            "text/plain": [
              "Title\n",
              "Akira                               8.0\n",
              "Per un pugno di dollari             8.0\n",
              "Guardians of the Galaxy             8.0\n",
              "The Man Who Shot Liberty Valance    8.0\n",
              "Underground                         8.0\n",
              "                                   ... \n",
              "Schindler's List                    8.9\n",
              "12 Angry Men                        8.9\n",
              "The Godfather: Part II              9.0\n",
              "The Shawshank Redemption            9.2\n",
              "The Godfather                       9.2\n",
              "Name: Rating, Length: 250, dtype: float64"
            ]
          },
          "execution_count": 57,
          "metadata": {},
          "output_type": "execute_result"
        }
      ],
      "source": [
        "avaliacoes.sort_values(ascending=True)"
      ]
    },
    {
      "cell_type": "code",
      "execution_count": 58,
      "metadata": {
        "id": "TpU32FinBpIO"
      },
      "outputs": [
        {
          "data": {
            "text/plain": [
              "Title\n",
              "Akira                               8.0\n",
              "Per un pugno di dollari             8.0\n",
              "Guardians of the Galaxy             8.0\n",
              "The Man Who Shot Liberty Valance    8.0\n",
              "Underground                         8.0\n",
              "                                   ... \n",
              "Schindler's List                    8.9\n",
              "12 Angry Men                        8.9\n",
              "The Godfather: Part II              9.0\n",
              "The Shawshank Redemption            9.2\n",
              "The Godfather                       9.2\n",
              "Name: Rating, Length: 250, dtype: float64"
            ]
          },
          "execution_count": 58,
          "metadata": {},
          "output_type": "execute_result"
        }
      ],
      "source": [
        "avaliacoes.sort_values()"
      ]
    },
    {
      "cell_type": "markdown",
      "metadata": {
        "id": "GVr-5aIqBpIP"
      },
      "source": [
        "Não só podemos ordenar séries, mas também ordenar DataFrames inteiros. Quando fazemos isso, temos que especificar a coluna pela qual iremos ordenar:"
      ]
    },
    {
      "cell_type": "code",
      "execution_count": 59,
      "metadata": {
        "id": "R5OpHBRqBpIP"
      },
      "outputs": [
        {
          "data": {
            "text/html": [
              "<div>\n",
              "<style scoped>\n",
              "    .dataframe tbody tr th:only-of-type {\n",
              "        vertical-align: middle;\n",
              "    }\n",
              "\n",
              "    .dataframe tbody tr th {\n",
              "        vertical-align: top;\n",
              "    }\n",
              "\n",
              "    .dataframe thead th {\n",
              "        text-align: right;\n",
              "    }\n",
              "</style>\n",
              "<table border=\"1\" class=\"dataframe\">\n",
              "  <thead>\n",
              "    <tr style=\"text-align: right;\">\n",
              "      <th></th>\n",
              "      <th>Votes</th>\n",
              "      <th>Rating</th>\n",
              "      <th>Year</th>\n",
              "      <th>Decade</th>\n",
              "    </tr>\n",
              "    <tr>\n",
              "      <th>Title</th>\n",
              "      <th></th>\n",
              "      <th></th>\n",
              "      <th></th>\n",
              "      <th></th>\n",
              "    </tr>\n",
              "  </thead>\n",
              "  <tbody>\n",
              "    <tr>\n",
              "      <th>Akira</th>\n",
              "      <td>91652</td>\n",
              "      <td>8.0</td>\n",
              "      <td>1988</td>\n",
              "      <td>1980</td>\n",
              "    </tr>\n",
              "    <tr>\n",
              "      <th>Per un pugno di dollari</th>\n",
              "      <td>124671</td>\n",
              "      <td>8.0</td>\n",
              "      <td>1964</td>\n",
              "      <td>1960</td>\n",
              "    </tr>\n",
              "    <tr>\n",
              "      <th>Guardians of the Galaxy</th>\n",
              "      <td>527349</td>\n",
              "      <td>8.0</td>\n",
              "      <td>2014</td>\n",
              "      <td>2010</td>\n",
              "    </tr>\n",
              "    <tr>\n",
              "      <th>The Man Who Shot Liberty Valance</th>\n",
              "      <td>49135</td>\n",
              "      <td>8.0</td>\n",
              "      <td>1962</td>\n",
              "      <td>1960</td>\n",
              "    </tr>\n",
              "    <tr>\n",
              "      <th>Underground</th>\n",
              "      <td>39447</td>\n",
              "      <td>8.0</td>\n",
              "      <td>1995</td>\n",
              "      <td>1990</td>\n",
              "    </tr>\n",
              "    <tr>\n",
              "      <th>...</th>\n",
              "      <td>...</td>\n",
              "      <td>...</td>\n",
              "      <td>...</td>\n",
              "      <td>...</td>\n",
              "    </tr>\n",
              "    <tr>\n",
              "      <th>Schindler's List</th>\n",
              "      <td>761224</td>\n",
              "      <td>8.9</td>\n",
              "      <td>1993</td>\n",
              "      <td>1990</td>\n",
              "    </tr>\n",
              "    <tr>\n",
              "      <th>12 Angry Men</th>\n",
              "      <td>384187</td>\n",
              "      <td>8.9</td>\n",
              "      <td>1957</td>\n",
              "      <td>1950</td>\n",
              "    </tr>\n",
              "    <tr>\n",
              "      <th>The Godfather: Part II</th>\n",
              "      <td>692753</td>\n",
              "      <td>9.0</td>\n",
              "      <td>1974</td>\n",
              "      <td>1970</td>\n",
              "    </tr>\n",
              "    <tr>\n",
              "      <th>The Shawshank Redemption</th>\n",
              "      <td>1498733</td>\n",
              "      <td>9.2</td>\n",
              "      <td>1994</td>\n",
              "      <td>1990</td>\n",
              "    </tr>\n",
              "    <tr>\n",
              "      <th>The Godfather</th>\n",
              "      <td>1027398</td>\n",
              "      <td>9.2</td>\n",
              "      <td>1972</td>\n",
              "      <td>1970</td>\n",
              "    </tr>\n",
              "  </tbody>\n",
              "</table>\n",
              "<p>250 rows × 4 columns</p>\n",
              "</div>"
            ],
            "text/plain": [
              "                                    Votes  Rating  Year  Decade\n",
              "Title                                                          \n",
              "Akira                               91652     8.0  1988    1980\n",
              "Per un pugno di dollari            124671     8.0  1964    1960\n",
              "Guardians of the Galaxy            527349     8.0  2014    2010\n",
              "The Man Who Shot Liberty Valance    49135     8.0  1962    1960\n",
              "Underground                         39447     8.0  1995    1990\n",
              "...                                   ...     ...   ...     ...\n",
              "Schindler's List                   761224     8.9  1993    1990\n",
              "12 Angry Men                       384187     8.9  1957    1950\n",
              "The Godfather: Part II             692753     9.0  1974    1970\n",
              "The Shawshank Redemption          1498733     9.2  1994    1990\n",
              "The Godfather                     1027398     9.2  1972    1970\n",
              "\n",
              "[250 rows x 4 columns]"
            ]
          },
          "execution_count": 59,
          "metadata": {},
          "output_type": "execute_result"
        }
      ],
      "source": [
        "imdb_por_nome.sort_values('Rating')"
      ]
    },
    {
      "cell_type": "markdown",
      "metadata": {
        "id": "qdXNpgHfBpIP"
      },
      "source": [
        "Da mesma forma, podemos especificar que a ordenação deve estar em ordem decrescente:"
      ]
    },
    {
      "cell_type": "code",
      "execution_count": 60,
      "metadata": {
        "id": "lS2isAFSBpIP"
      },
      "outputs": [
        {
          "data": {
            "text/html": [
              "<div>\n",
              "<style scoped>\n",
              "    .dataframe tbody tr th:only-of-type {\n",
              "        vertical-align: middle;\n",
              "    }\n",
              "\n",
              "    .dataframe tbody tr th {\n",
              "        vertical-align: top;\n",
              "    }\n",
              "\n",
              "    .dataframe thead th {\n",
              "        text-align: right;\n",
              "    }\n",
              "</style>\n",
              "<table border=\"1\" class=\"dataframe\">\n",
              "  <thead>\n",
              "    <tr style=\"text-align: right;\">\n",
              "      <th></th>\n",
              "      <th>Votes</th>\n",
              "      <th>Rating</th>\n",
              "      <th>Year</th>\n",
              "      <th>Decade</th>\n",
              "    </tr>\n",
              "    <tr>\n",
              "      <th>Title</th>\n",
              "      <th></th>\n",
              "      <th></th>\n",
              "      <th></th>\n",
              "      <th></th>\n",
              "    </tr>\n",
              "  </thead>\n",
              "  <tbody>\n",
              "    <tr>\n",
              "      <th>The Godfather</th>\n",
              "      <td>1027398</td>\n",
              "      <td>9.2</td>\n",
              "      <td>1972</td>\n",
              "      <td>1970</td>\n",
              "    </tr>\n",
              "    <tr>\n",
              "      <th>The Shawshank Redemption</th>\n",
              "      <td>1498733</td>\n",
              "      <td>9.2</td>\n",
              "      <td>1994</td>\n",
              "      <td>1990</td>\n",
              "    </tr>\n",
              "    <tr>\n",
              "      <th>The Godfather: Part II</th>\n",
              "      <td>692753</td>\n",
              "      <td>9.0</td>\n",
              "      <td>1974</td>\n",
              "      <td>1970</td>\n",
              "    </tr>\n",
              "    <tr>\n",
              "      <th>12 Angry Men</th>\n",
              "      <td>384187</td>\n",
              "      <td>8.9</td>\n",
              "      <td>1957</td>\n",
              "      <td>1950</td>\n",
              "    </tr>\n",
              "    <tr>\n",
              "      <th>Il buono, il brutto, il cattivo (1966)</th>\n",
              "      <td>447875</td>\n",
              "      <td>8.9</td>\n",
              "      <td>1966</td>\n",
              "      <td>1960</td>\n",
              "    </tr>\n",
              "    <tr>\n",
              "      <th>...</th>\n",
              "      <td>...</td>\n",
              "      <td>...</td>\n",
              "      <td>...</td>\n",
              "      <td>...</td>\n",
              "    </tr>\n",
              "    <tr>\n",
              "      <th>Monsters, Inc. (2001)</th>\n",
              "      <td>500576</td>\n",
              "      <td>8.0</td>\n",
              "      <td>2001</td>\n",
              "      <td>2000</td>\n",
              "    </tr>\n",
              "    <tr>\n",
              "      <th>The Big Sleep</th>\n",
              "      <td>59578</td>\n",
              "      <td>8.0</td>\n",
              "      <td>1946</td>\n",
              "      <td>1940</td>\n",
              "    </tr>\n",
              "    <tr>\n",
              "      <th>X-Men: Days of Future Past</th>\n",
              "      <td>427099</td>\n",
              "      <td>8.0</td>\n",
              "      <td>2014</td>\n",
              "      <td>2010</td>\n",
              "    </tr>\n",
              "    <tr>\n",
              "      <th>Roman Holiday</th>\n",
              "      <td>87437</td>\n",
              "      <td>8.0</td>\n",
              "      <td>1953</td>\n",
              "      <td>1950</td>\n",
              "    </tr>\n",
              "    <tr>\n",
              "      <th>Kumonosu-jô</th>\n",
              "      <td>26012</td>\n",
              "      <td>8.0</td>\n",
              "      <td>1957</td>\n",
              "      <td>1950</td>\n",
              "    </tr>\n",
              "  </tbody>\n",
              "</table>\n",
              "<p>250 rows × 4 columns</p>\n",
              "</div>"
            ],
            "text/plain": [
              "                                          Votes  Rating  Year  Decade\n",
              "Title                                                                \n",
              "The Godfather                           1027398     9.2  1972    1970\n",
              "The Shawshank Redemption                1498733     9.2  1994    1990\n",
              "The Godfather: Part II                   692753     9.0  1974    1970\n",
              "12 Angry Men                             384187     8.9  1957    1950\n",
              "Il buono, il brutto, il cattivo (1966)   447875     8.9  1966    1960\n",
              "...                                         ...     ...   ...     ...\n",
              "Monsters, Inc. (2001)                    500576     8.0  2001    2000\n",
              "The Big Sleep                             59578     8.0  1946    1940\n",
              "X-Men: Days of Future Past               427099     8.0  2014    2010\n",
              "Roman Holiday                             87437     8.0  1953    1950\n",
              "Kumonosu-jô                               26012     8.0  1957    1950\n",
              "\n",
              "[250 rows x 4 columns]"
            ]
          },
          "execution_count": 60,
          "metadata": {},
          "output_type": "execute_result"
        }
      ],
      "source": [
        "imdb_por_nome.sort_values('Rating', ascending=False)"
      ]
    },
    {
      "cell_type": "markdown",
      "metadata": {
        "id": "2irI7wJHBpIP"
      },
      "source": [
        "Alguns detalhes sobre a ordenação de um DataFrame:\n",
        "\n",
        "1. O primeiro argumento para `sort_values` é o nome de uma coluna pela qual iremos ordenar.\n",
        "2. Se a coluna contiver strings, `sort` ordenará em ordem alfabética; se a coluna tiver números, ela será ordenada numericamente.\n",
        "3. `imdb_por_nome.sort_values(\"Rating\")` retorna um novo DataFrame; o DataFrame `imdb_por_nome` não é modificado. Por exemplo, se chamarmos `imdb_por_nome.sort(\"Rating\")`, então executar `imdb_por_nome` por si só ainda retornaria o DataFrame não ordenado. Para salvar o resultado, você deve atribuí-lo a uma nova variável.\n",
        "4. As linhas sempre permanecem juntas quando um DataFrame é ordenado. Não faria sentido ordenar apenas uma coluna e deixar as outras colunas em paz. Por exemplo, neste caso, se ordenássemos apenas a coluna `\"Rating\"`, todos os filmes terminariam com avaliações erradas.\n",
        "\n",
        "**Pergunta 3.2.** Crie uma versão de `imdb_por_nome` que seja ordenada cronologicamente, com os filmes mais antigos primeiro. Chame-o de `imdb_ordenado`."
      ]
    },
    {
      "cell_type": "code",
      "execution_count": 61,
      "metadata": {
        "id": "XKks2AjkBpIP"
      },
      "outputs": [
        {
          "data": {
            "text/html": [
              "<div>\n",
              "<style scoped>\n",
              "    .dataframe tbody tr th:only-of-type {\n",
              "        vertical-align: middle;\n",
              "    }\n",
              "\n",
              "    .dataframe tbody tr th {\n",
              "        vertical-align: top;\n",
              "    }\n",
              "\n",
              "    .dataframe thead th {\n",
              "        text-align: right;\n",
              "    }\n",
              "</style>\n",
              "<table border=\"1\" class=\"dataframe\">\n",
              "  <thead>\n",
              "    <tr style=\"text-align: right;\">\n",
              "      <th></th>\n",
              "      <th>Votes</th>\n",
              "      <th>Rating</th>\n",
              "      <th>Year</th>\n",
              "      <th>Decade</th>\n",
              "    </tr>\n",
              "    <tr>\n",
              "      <th>Title</th>\n",
              "      <th></th>\n",
              "      <th></th>\n",
              "      <th></th>\n",
              "      <th></th>\n",
              "    </tr>\n",
              "  </thead>\n",
              "  <tbody>\n",
              "    <tr>\n",
              "      <th>The Kid</th>\n",
              "      <td>55784</td>\n",
              "      <td>8.3</td>\n",
              "      <td>1921</td>\n",
              "      <td>1920</td>\n",
              "    </tr>\n",
              "    <tr>\n",
              "      <th>The Gold Rush</th>\n",
              "      <td>58506</td>\n",
              "      <td>8.2</td>\n",
              "      <td>1925</td>\n",
              "      <td>1920</td>\n",
              "    </tr>\n",
              "    <tr>\n",
              "      <th>The General</th>\n",
              "      <td>46332</td>\n",
              "      <td>8.2</td>\n",
              "      <td>1926</td>\n",
              "      <td>1920</td>\n",
              "    </tr>\n",
              "    <tr>\n",
              "      <th>Metropolis</th>\n",
              "      <td>98794</td>\n",
              "      <td>8.3</td>\n",
              "      <td>1927</td>\n",
              "      <td>1920</td>\n",
              "    </tr>\n",
              "    <tr>\n",
              "      <th>M</th>\n",
              "      <td>88355</td>\n",
              "      <td>8.4</td>\n",
              "      <td>1931</td>\n",
              "      <td>1930</td>\n",
              "    </tr>\n",
              "    <tr>\n",
              "      <th>...</th>\n",
              "      <td>...</td>\n",
              "      <td>...</td>\n",
              "      <td>...</td>\n",
              "      <td>...</td>\n",
              "    </tr>\n",
              "    <tr>\n",
              "      <th>The Grand Budapest Hotel</th>\n",
              "      <td>369141</td>\n",
              "      <td>8.1</td>\n",
              "      <td>2014</td>\n",
              "      <td>2010</td>\n",
              "    </tr>\n",
              "    <tr>\n",
              "      <th>Relatos salvajes</th>\n",
              "      <td>46987</td>\n",
              "      <td>8.0</td>\n",
              "      <td>2014</td>\n",
              "      <td>2010</td>\n",
              "    </tr>\n",
              "    <tr>\n",
              "      <th>Interstellar</th>\n",
              "      <td>689541</td>\n",
              "      <td>8.6</td>\n",
              "      <td>2014</td>\n",
              "      <td>2010</td>\n",
              "    </tr>\n",
              "    <tr>\n",
              "      <th>Mad Max: Fury Road</th>\n",
              "      <td>262425</td>\n",
              "      <td>8.3</td>\n",
              "      <td>2015</td>\n",
              "      <td>2010</td>\n",
              "    </tr>\n",
              "    <tr>\n",
              "      <th>Inside Out (2015/I)</th>\n",
              "      <td>79615</td>\n",
              "      <td>8.5</td>\n",
              "      <td>2015</td>\n",
              "      <td>2010</td>\n",
              "    </tr>\n",
              "  </tbody>\n",
              "</table>\n",
              "<p>250 rows × 4 columns</p>\n",
              "</div>"
            ],
            "text/plain": [
              "                           Votes  Rating  Year  Decade\n",
              "Title                                                 \n",
              "The Kid                    55784     8.3  1921    1920\n",
              "The Gold Rush              58506     8.2  1925    1920\n",
              "The General                46332     8.2  1926    1920\n",
              "Metropolis                 98794     8.3  1927    1920\n",
              "M                          88355     8.4  1931    1930\n",
              "...                          ...     ...   ...     ...\n",
              "The Grand Budapest Hotel  369141     8.1  2014    2010\n",
              "Relatos salvajes           46987     8.0  2014    2010\n",
              "Interstellar              689541     8.6  2014    2010\n",
              "Mad Max: Fury Road        262425     8.3  2015    2010\n",
              "Inside Out (2015/I)        79615     8.5  2015    2010\n",
              "\n",
              "[250 rows x 4 columns]"
            ]
          },
          "execution_count": 61,
          "metadata": {},
          "output_type": "execute_result"
        }
      ],
      "source": [
        "imdb_ordenado = imdb_por_nome.sort_values(\"Year\", ascending=True)\n",
        "imdb_ordenado"
      ]
    },
    {
      "cell_type": "markdown",
      "metadata": {
        "id": "iSX9CvSrBpIQ"
      },
      "source": [
        "**Pergunta 3.3.** Qual é o título do filme mais antigo no conjunto de dados? Você poderia simplesmente procurar isso na saída da célula anterior. Em vez disso, escreva o código Python para descobrir.\n",
        "\n",
        "* **Dica:** Lembre-se de que o índice é um array."
      ]
    },
    {
      "cell_type": "code",
      "execution_count": 62,
      "metadata": {
        "id": "UsWirEkbBpIQ"
      },
      "outputs": [
        {
          "data": {
            "text/plain": [
              "'The Kid'"
            ]
          },
          "execution_count": 62,
          "metadata": {},
          "output_type": "execute_result"
        }
      ],
      "source": [
        "#da pra fazer essa questao bem mais curta. (OBS: Fazer depois)\n",
        "titulo_do_filme_mais_antigo = imdb.set_index('Year').sort_values('Year', ascending=True).loc[imdb[\"Year\"].min()].get(\"Title\")\n",
        "titulo_do_filme_mais_antigo\n",
        "\n",
        "#imdb_ordenado.get('Title').iloc[5-1]   -> Nao eh possivel fazer isso pois o title eh o index desse df."
      ]
    },
    {
      "cell_type": "markdown",
      "metadata": {
        "id": "F5oiFqVXBpIQ"
      },
      "source": [
        "Suponha que queiramos obter a avaliação do filme mais antigo no DataFrame. Uma maneira de fazer isso é primeiro encontrar o rótulo de índice do filme mais antigo (o que já fizemos). Em seguida, extraímos a coluna `\"Rating\"` e usamos `.loc` para encontrar a avaliação do filme mais antigo."
      ]
    },
    {
      "cell_type": "code",
      "execution_count": 63,
      "metadata": {
        "id": "PZ80AtVaBpIQ"
      },
      "outputs": [
        {
          "data": {
            "text/plain": [
              "8.3"
            ]
          },
          "execution_count": 63,
          "metadata": {},
          "output_type": "execute_result"
        }
      ],
      "source": [
        "imdb_ordenado.get('Rating').loc[titulo_do_filme_mais_antigo]"
      ]
    },
    {
      "cell_type": "markdown",
      "metadata": {
        "id": "16Iz1mYXBpIQ"
      },
      "source": [
        "Porém, existe uma maneira mais rápida. Uma série não possui apenas um acessador `.loc`, mas também um acessador `.iloc`. Enquanto `.loc` procura coisas por *rótulo*, `.iloc` procura elementos por *posição inteira*.\n",
        "\n",
        "Vamos lembrar o que está na coluna `\"Rating\"`:"
      ]
    },
    {
      "cell_type": "code",
      "execution_count": 64,
      "metadata": {
        "id": "cCVwIArlBpIR"
      },
      "outputs": [
        {
          "data": {
            "text/plain": [
              "Title\n",
              "The Kid                     8.3\n",
              "The Gold Rush               8.2\n",
              "The General                 8.2\n",
              "Metropolis                  8.3\n",
              "M                           8.4\n",
              "                           ... \n",
              "The Grand Budapest Hotel    8.1\n",
              "Relatos salvajes            8.0\n",
              "Interstellar                8.6\n",
              "Mad Max: Fury Road          8.3\n",
              "Inside Out (2015/I)         8.5\n",
              "Name: Rating, Length: 250, dtype: float64"
            ]
          },
          "execution_count": 64,
          "metadata": {},
          "output_type": "execute_result"
        }
      ],
      "source": [
        "imdb_ordenado.get('Rating')"
      ]
    },
    {
      "cell_type": "markdown",
      "metadata": {
        "id": "Ot_HWdeMBpIR"
      },
      "source": [
        "Se quisermos a avaliação da primeira linha, podemos usar `.iloc[0]`:"
      ]
    },
    {
      "cell_type": "code",
      "execution_count": 65,
      "metadata": {
        "id": "oYR7GNmQBpIR"
      },
      "outputs": [
        {
          "data": {
            "text/plain": [
              "8.3"
            ]
          },
          "execution_count": 65,
          "metadata": {},
          "output_type": "execute_result"
        }
      ],
      "source": [
        "imdb_ordenado.get('Rating').iloc[0]"
      ]
    },
    {
      "cell_type": "markdown",
      "metadata": {
        "id": "SloZ-ZjmBpIR"
      },
      "source": [
        "Isso retorna exatamente a mesma coisa que `imdb_ordenado.get('Rating').loc['The Kid']`; essas são duas maneiras de fazer a mesma coisa. Normalmente é mais conveniente acessar um elemento por seu rótulo do que por sua posição inteira, mas é bom saber `.loc` e `.iloc`."
      ]
    },
    {
      "cell_type": "markdown",
      "metadata": {
        "id": "TIDhVj6ZBpIR"
      },
      "source": [
        "**Pergunta 3.4.** Qual é a avaliação do quinto filme mais antigo no conjunto de dados? Você poderia simplesmente procurar isso na saída da célula anterior. Em vez disso, escreva o código Python para descobrir."
      ]
    },
    {
      "cell_type": "code",
      "execution_count": 66,
      "metadata": {
        "id": "3VnXIBhIBpIR"
      },
      "outputs": [
        {
          "data": {
            "text/plain": [
              "8.4"
            ]
          },
          "execution_count": 66,
          "metadata": {},
          "output_type": "execute_result"
        }
      ],
      "source": [
        "avaliacao_do_quinto_filme_mais_antigo = imdb_ordenado.get('Rating').iloc[5-1]\n",
        "avaliacao_do_quinto_filme_mais_antigo"
      ]
    },
    {
      "cell_type": "markdown",
      "metadata": {
        "id": "e02zB9enBpIS"
      },
      "source": [
        "# 4. Encontrar partes de um conjunto de dados\n",
        "\n",
        "Suponha que você esteja interessado em filmes da década de 1950. Ordenar o DataFrame por ano não ajuda, porque a década de 1950 está no meio do conjunto de dados. Em vez disso, usaremos um recurso de Series que nos permite comparar facilmente cada elemento em uma coluna com um valor específico.\n",
        "\n",
        "Primeiro lembre-se que podemos usar `.get` para extrair uma única coluna. O resultado não é um DataFrame, mas sim uma Series:"
      ]
    },
    {
      "cell_type": "code",
      "execution_count": 67,
      "metadata": {
        "id": "okydG9oxBpIS"
      },
      "outputs": [
        {
          "data": {
            "text/plain": [
              "Title\n",
              "M                                        1930\n",
              "Singin' in the Rain                      1950\n",
              "All About Eve                            1950\n",
              "Léon                                     1990\n",
              "The Elephant Man                         1980\n",
              "                                         ... \n",
              "Forrest Gump                             1990\n",
              "Le salaire de la peur                    1950\n",
              "3 Idiots                                 2000\n",
              "Network                                  1970\n",
              "Eternal Sunshine of the Spotless Mind    2000\n",
              "Name: Decade, Length: 250, dtype: int64"
            ]
          },
          "execution_count": 67,
          "metadata": {},
          "output_type": "execute_result"
        }
      ],
      "source": [
        "imdb_por_nome.get('Decade')"
      ]
    },
    {
      "cell_type": "markdown",
      "metadata": {
        "id": "Y6q2eEubBpIS"
      },
      "source": [
        "Queremos verificar se cada filme foi lançado na década de 1950. Python nos dá uma maneira de verificar se duas coisas são iguais com `==` (lembre-se que `=` já está sendo usado para outro propósito: atribui valores a variáveis nomes):"
      ]
    },
    {
      "cell_type": "code",
      "execution_count": 68,
      "metadata": {
        "id": "XY5sRxhoBpIS"
      },
      "outputs": [
        {
          "data": {
            "text/plain": [
              "False"
            ]
          },
          "execution_count": 68,
          "metadata": {},
          "output_type": "execute_result"
        }
      ],
      "source": [
        "3 == 4"
      ]
    },
    {
      "cell_type": "code",
      "execution_count": 69,
      "metadata": {
        "id": "mWjtdxZTBpIS"
      },
      "outputs": [
        {
          "data": {
            "text/plain": [
              "True"
            ]
          },
          "execution_count": 69,
          "metadata": {},
          "output_type": "execute_result"
        }
      ],
      "source": [
        "3 == 3"
      ]
    },
    {
      "cell_type": "markdown",
      "metadata": {
        "id": "vueQwY7UBpIS"
      },
      "source": [
        "`True` e `False` são instâncias de um tipo que não vimos antes:"
      ]
    },
    {
      "cell_type": "code",
      "execution_count": 70,
      "metadata": {
        "id": "e_zS8dzHBpIT"
      },
      "outputs": [
        {
          "data": {
            "text/plain": [
              "bool"
            ]
          },
          "execution_count": 70,
          "metadata": {},
          "output_type": "execute_result"
        }
      ],
      "source": [
        "type(True)"
      ]
    },
    {
      "cell_type": "markdown",
      "metadata": {
        "id": "voE_gdBeBpIT"
      },
      "source": [
        "`bool` significa \"Boolean\", em homenagem ao lógico inglês [George Boole](https://en.wikipedia.org/wiki/George_Boole). Dizemos que \"True\" e \"False\" são valores *Booleanos*."
      ]
    },
    {
      "cell_type": "markdown",
      "metadata": {
        "id": "JhCXDqW2BpIT"
      },
      "source": [
        "Acontece que podemos facilmente verificar se *cada* um dos elementos em uma `Series` é igual a alguma coisa:"
      ]
    },
    {
      "cell_type": "code",
      "execution_count": 71,
      "metadata": {
        "id": "AgmTWRsTBpIT"
      },
      "outputs": [
        {
          "data": {
            "text/plain": [
              "Title\n",
              "M                                        False\n",
              "Singin' in the Rain                       True\n",
              "All About Eve                             True\n",
              "Léon                                     False\n",
              "The Elephant Man                         False\n",
              "                                         ...  \n",
              "Forrest Gump                             False\n",
              "Le salaire de la peur                     True\n",
              "3 Idiots                                 False\n",
              "Network                                  False\n",
              "Eternal Sunshine of the Spotless Mind    False\n",
              "Name: Decade, Length: 250, dtype: bool"
            ]
          },
          "execution_count": 71,
          "metadata": {},
          "output_type": "execute_result"
        }
      ],
      "source": [
        "imdb_por_nome.get('Decade') == 1950"
      ]
    },
    {
      "cell_type": "markdown",
      "metadata": {
        "id": "tEG1_RmgBpIT"
      },
      "source": [
        "Vemos que o resultado é uma nova série que tem `Verdadeiro` apenas onde a década foi 1950, e `Falso` em todos os outros lugares. Dizemos que a Series resultante é uma Series de *Booleanos*, ou uma *Series Booleana*."
      ]
    },
    {
      "cell_type": "markdown",
      "metadata": {
        "id": "vfxT9RglBpIT"
      },
      "source": [
        "Vamos chamar esse resultado de `eh_de_1950s`. Seu nome pode ser lido como se fosse uma pergunta: “esse filme é da década de 1950”?"
      ]
    },
    {
      "cell_type": "code",
      "execution_count": 72,
      "metadata": {
        "id": "Y3Aki-OnBpIT"
      },
      "outputs": [
        {
          "data": {
            "text/plain": [
              "Title\n",
              "M                                        False\n",
              "Singin' in the Rain                       True\n",
              "All About Eve                             True\n",
              "Léon                                     False\n",
              "The Elephant Man                         False\n",
              "                                         ...  \n",
              "Forrest Gump                             False\n",
              "Le salaire de la peur                     True\n",
              "3 Idiots                                 False\n",
              "Network                                  False\n",
              "Eternal Sunshine of the Spotless Mind    False\n",
              "Name: Decade, Length: 250, dtype: bool"
            ]
          },
          "execution_count": 72,
          "metadata": {},
          "output_type": "execute_result"
        }
      ],
      "source": [
        "eh_de_1950s = imdb_por_nome.get('Decade') == 1950\n",
        "eh_de_1950s"
      ]
    },
    {
      "cell_type": "markdown",
      "metadata": {
        "id": "Dh2zBQUbBpIT"
      },
      "source": [
        "Cada linha é uma resposta a esta pergunta. *O Homem Elefante* é da década de 1950? `Falso`. *Tudo sobre Eva* é da década de 1950? `Verdadeiro`."
      ]
    },
    {
      "cell_type": "markdown",
      "metadata": {
        "id": "Fcd0EDfHBpIT"
      },
      "source": [
        "Podemos usar `eh_de_1950s` para selecionar apenas as linhas de `imdb_por_nome` para as quais a resposta é `Verdadeiro`. A sintaxe para isso é:"
      ]
    },
    {
      "cell_type": "code",
      "execution_count": 73,
      "metadata": {
        "id": "mW219idOBpIU"
      },
      "outputs": [
        {
          "data": {
            "text/html": [
              "<div>\n",
              "<style scoped>\n",
              "    .dataframe tbody tr th:only-of-type {\n",
              "        vertical-align: middle;\n",
              "    }\n",
              "\n",
              "    .dataframe tbody tr th {\n",
              "        vertical-align: top;\n",
              "    }\n",
              "\n",
              "    .dataframe thead th {\n",
              "        text-align: right;\n",
              "    }\n",
              "</style>\n",
              "<table border=\"1\" class=\"dataframe\">\n",
              "  <thead>\n",
              "    <tr style=\"text-align: right;\">\n",
              "      <th></th>\n",
              "      <th>Votes</th>\n",
              "      <th>Rating</th>\n",
              "      <th>Year</th>\n",
              "      <th>Decade</th>\n",
              "    </tr>\n",
              "    <tr>\n",
              "      <th>Title</th>\n",
              "      <th></th>\n",
              "      <th></th>\n",
              "      <th></th>\n",
              "      <th></th>\n",
              "    </tr>\n",
              "  </thead>\n",
              "  <tbody>\n",
              "    <tr>\n",
              "      <th>Singin' in the Rain</th>\n",
              "      <td>132823</td>\n",
              "      <td>8.3</td>\n",
              "      <td>1952</td>\n",
              "      <td>1950</td>\n",
              "    </tr>\n",
              "    <tr>\n",
              "      <th>All About Eve</th>\n",
              "      <td>74178</td>\n",
              "      <td>8.3</td>\n",
              "      <td>1950</td>\n",
              "      <td>1950</td>\n",
              "    </tr>\n",
              "    <tr>\n",
              "      <th>Some Like It Hot</th>\n",
              "      <td>156432</td>\n",
              "      <td>8.3</td>\n",
              "      <td>1959</td>\n",
              "      <td>1950</td>\n",
              "    </tr>\n",
              "    <tr>\n",
              "      <th>The Killing</th>\n",
              "      <td>56671</td>\n",
              "      <td>8.0</td>\n",
              "      <td>1956</td>\n",
              "      <td>1950</td>\n",
              "    </tr>\n",
              "    <tr>\n",
              "      <th>Roman Holiday</th>\n",
              "      <td>87437</td>\n",
              "      <td>8.0</td>\n",
              "      <td>1953</td>\n",
              "      <td>1950</td>\n",
              "    </tr>\n",
              "    <tr>\n",
              "      <th>Touch of Evil</th>\n",
              "      <td>65408</td>\n",
              "      <td>8.1</td>\n",
              "      <td>1958</td>\n",
              "      <td>1950</td>\n",
              "    </tr>\n",
              "    <tr>\n",
              "      <th>Rashômon</th>\n",
              "      <td>90434</td>\n",
              "      <td>8.3</td>\n",
              "      <td>1950</td>\n",
              "      <td>1950</td>\n",
              "    </tr>\n",
              "    <tr>\n",
              "      <th>La strada</th>\n",
              "      <td>42446</td>\n",
              "      <td>8.0</td>\n",
              "      <td>1954</td>\n",
              "      <td>1950</td>\n",
              "    </tr>\n",
              "    <tr>\n",
              "      <th>North by Northwest</th>\n",
              "      <td>198795</td>\n",
              "      <td>8.4</td>\n",
              "      <td>1959</td>\n",
              "      <td>1950</td>\n",
              "    </tr>\n",
              "    <tr>\n",
              "      <th>Sunset Blvd.</th>\n",
              "      <td>123879</td>\n",
              "      <td>8.5</td>\n",
              "      <td>1950</td>\n",
              "      <td>1950</td>\n",
              "    </tr>\n",
              "    <tr>\n",
              "      <th>Shichinin no samurai</th>\n",
              "      <td>206216</td>\n",
              "      <td>8.7</td>\n",
              "      <td>1954</td>\n",
              "      <td>1950</td>\n",
              "    </tr>\n",
              "    <tr>\n",
              "      <th>12 Angry Men</th>\n",
              "      <td>384187</td>\n",
              "      <td>8.9</td>\n",
              "      <td>1957</td>\n",
              "      <td>1950</td>\n",
              "    </tr>\n",
              "    <tr>\n",
              "      <th>Les diaboliques</th>\n",
              "      <td>36725</td>\n",
              "      <td>8.1</td>\n",
              "      <td>1955</td>\n",
              "      <td>1950</td>\n",
              "    </tr>\n",
              "    <tr>\n",
              "      <th>Kumonosu-jô</th>\n",
              "      <td>26012</td>\n",
              "      <td>8.0</td>\n",
              "      <td>1957</td>\n",
              "      <td>1950</td>\n",
              "    </tr>\n",
              "    <tr>\n",
              "      <th>Ben-Hur</th>\n",
              "      <td>141768</td>\n",
              "      <td>8.1</td>\n",
              "      <td>1959</td>\n",
              "      <td>1950</td>\n",
              "    </tr>\n",
              "    <tr>\n",
              "      <th>Witness for the Prosecution</th>\n",
              "      <td>53186</td>\n",
              "      <td>8.3</td>\n",
              "      <td>1957</td>\n",
              "      <td>1950</td>\n",
              "    </tr>\n",
              "    <tr>\n",
              "      <th>Dial M for Murder</th>\n",
              "      <td>92244</td>\n",
              "      <td>8.1</td>\n",
              "      <td>1954</td>\n",
              "      <td>1950</td>\n",
              "    </tr>\n",
              "    <tr>\n",
              "      <th>Ikiru</th>\n",
              "      <td>36638</td>\n",
              "      <td>8.2</td>\n",
              "      <td>1952</td>\n",
              "      <td>1950</td>\n",
              "    </tr>\n",
              "    <tr>\n",
              "      <th>On the Waterfront</th>\n",
              "      <td>89233</td>\n",
              "      <td>8.2</td>\n",
              "      <td>1954</td>\n",
              "      <td>1950</td>\n",
              "    </tr>\n",
              "    <tr>\n",
              "      <th>Les quatre cents coups</th>\n",
              "      <td>61776</td>\n",
              "      <td>8.1</td>\n",
              "      <td>1959</td>\n",
              "      <td>1950</td>\n",
              "    </tr>\n",
              "    <tr>\n",
              "      <th>Paths of Glory</th>\n",
              "      <td>106038</td>\n",
              "      <td>8.4</td>\n",
              "      <td>1957</td>\n",
              "      <td>1950</td>\n",
              "    </tr>\n",
              "    <tr>\n",
              "      <th>High Noon</th>\n",
              "      <td>72007</td>\n",
              "      <td>8.0</td>\n",
              "      <td>1952</td>\n",
              "      <td>1950</td>\n",
              "    </tr>\n",
              "    <tr>\n",
              "      <th>Vertigo</th>\n",
              "      <td>218430</td>\n",
              "      <td>8.4</td>\n",
              "      <td>1958</td>\n",
              "      <td>1950</td>\n",
              "    </tr>\n",
              "    <tr>\n",
              "      <th>The Bridge on the River Kwai</th>\n",
              "      <td>132677</td>\n",
              "      <td>8.2</td>\n",
              "      <td>1957</td>\n",
              "      <td>1950</td>\n",
              "    </tr>\n",
              "    <tr>\n",
              "      <th>Rear Window</th>\n",
              "      <td>280432</td>\n",
              "      <td>8.5</td>\n",
              "      <td>1954</td>\n",
              "      <td>1950</td>\n",
              "    </tr>\n",
              "    <tr>\n",
              "      <th>Det sjunde inseglet</th>\n",
              "      <td>98949</td>\n",
              "      <td>8.2</td>\n",
              "      <td>1957</td>\n",
              "      <td>1950</td>\n",
              "    </tr>\n",
              "    <tr>\n",
              "      <th>The Night of the Hunter</th>\n",
              "      <td>57974</td>\n",
              "      <td>8.0</td>\n",
              "      <td>1955</td>\n",
              "      <td>1950</td>\n",
              "    </tr>\n",
              "    <tr>\n",
              "      <th>Smultronstället</th>\n",
              "      <td>55861</td>\n",
              "      <td>8.2</td>\n",
              "      <td>1957</td>\n",
              "      <td>1950</td>\n",
              "    </tr>\n",
              "    <tr>\n",
              "      <th>Strangers on a Train</th>\n",
              "      <td>85012</td>\n",
              "      <td>8.1</td>\n",
              "      <td>1951</td>\n",
              "      <td>1950</td>\n",
              "    </tr>\n",
              "    <tr>\n",
              "      <th>Le salaire de la peur</th>\n",
              "      <td>31003</td>\n",
              "      <td>8.1</td>\n",
              "      <td>1953</td>\n",
              "      <td>1950</td>\n",
              "    </tr>\n",
              "  </tbody>\n",
              "</table>\n",
              "</div>"
            ],
            "text/plain": [
              "                               Votes  Rating  Year  Decade\n",
              "Title                                                     \n",
              "Singin' in the Rain           132823     8.3  1952    1950\n",
              "All About Eve                  74178     8.3  1950    1950\n",
              "Some Like It Hot              156432     8.3  1959    1950\n",
              "The Killing                    56671     8.0  1956    1950\n",
              "Roman Holiday                  87437     8.0  1953    1950\n",
              "Touch of Evil                  65408     8.1  1958    1950\n",
              "Rashômon                       90434     8.3  1950    1950\n",
              "La strada                      42446     8.0  1954    1950\n",
              "North by Northwest            198795     8.4  1959    1950\n",
              "Sunset Blvd.                  123879     8.5  1950    1950\n",
              "Shichinin no samurai          206216     8.7  1954    1950\n",
              "12 Angry Men                  384187     8.9  1957    1950\n",
              "Les diaboliques                36725     8.1  1955    1950\n",
              "Kumonosu-jô                    26012     8.0  1957    1950\n",
              "Ben-Hur                       141768     8.1  1959    1950\n",
              "Witness for the Prosecution    53186     8.3  1957    1950\n",
              "Dial M for Murder              92244     8.1  1954    1950\n",
              "Ikiru                          36638     8.2  1952    1950\n",
              "On the Waterfront              89233     8.2  1954    1950\n",
              "Les quatre cents coups         61776     8.1  1959    1950\n",
              "Paths of Glory                106038     8.4  1957    1950\n",
              "High Noon                      72007     8.0  1952    1950\n",
              "Vertigo                       218430     8.4  1958    1950\n",
              "The Bridge on the River Kwai  132677     8.2  1957    1950\n",
              "Rear Window                   280432     8.5  1954    1950\n",
              "Det sjunde inseglet            98949     8.2  1957    1950\n",
              "The Night of the Hunter        57974     8.0  1955    1950\n",
              "Smultronstället                55861     8.2  1957    1950\n",
              "Strangers on a Train           85012     8.1  1951    1950\n",
              "Le salaire de la peur          31003     8.1  1953    1950"
            ]
          },
          "execution_count": 73,
          "metadata": {},
          "output_type": "execute_result"
        }
      ],
      "source": [
        "imdb_por_nome[eh_de_1950s]"
      ]
    },
    {
      "cell_type": "markdown",
      "metadata": {
        "id": "LiamaNUnBpIU"
      },
      "source": [
        "O que `imdb_por_nome[eh_de_1950s]` faz, precisamente, é percorrer `imdb_por_nome` linha por linha. Se a linha chamada *Singin' in the Rain* tiver o valor `True` em `eh_de_1950s`, essa linha será mantida. Se o valor for `False`, a linha será descartada. E assim por diante, para cada linha."
      ]
    },
    {
      "cell_type": "markdown",
      "metadata": {
        "id": "aQVoSU0YBpIU"
      },
      "source": [
        "Observe que poderíamos ter conseguido isso sem nunca criar a variável `eh_de_1950s`, simplesmente colocando o código que usamos para criar a Series booleana diretamente dentro de `[...]`. Este é um padrão típico que você usará muito!"
      ]
    },
    {
      "cell_type": "code",
      "execution_count": 74,
      "metadata": {
        "id": "IUukT0QHBpIU"
      },
      "outputs": [
        {
          "data": {
            "text/html": [
              "<div>\n",
              "<style scoped>\n",
              "    .dataframe tbody tr th:only-of-type {\n",
              "        vertical-align: middle;\n",
              "    }\n",
              "\n",
              "    .dataframe tbody tr th {\n",
              "        vertical-align: top;\n",
              "    }\n",
              "\n",
              "    .dataframe thead th {\n",
              "        text-align: right;\n",
              "    }\n",
              "</style>\n",
              "<table border=\"1\" class=\"dataframe\">\n",
              "  <thead>\n",
              "    <tr style=\"text-align: right;\">\n",
              "      <th></th>\n",
              "      <th>Votes</th>\n",
              "      <th>Rating</th>\n",
              "      <th>Year</th>\n",
              "      <th>Decade</th>\n",
              "    </tr>\n",
              "    <tr>\n",
              "      <th>Title</th>\n",
              "      <th></th>\n",
              "      <th></th>\n",
              "      <th></th>\n",
              "      <th></th>\n",
              "    </tr>\n",
              "  </thead>\n",
              "  <tbody>\n",
              "    <tr>\n",
              "      <th>Singin' in the Rain</th>\n",
              "      <td>132823</td>\n",
              "      <td>8.3</td>\n",
              "      <td>1952</td>\n",
              "      <td>1950</td>\n",
              "    </tr>\n",
              "    <tr>\n",
              "      <th>All About Eve</th>\n",
              "      <td>74178</td>\n",
              "      <td>8.3</td>\n",
              "      <td>1950</td>\n",
              "      <td>1950</td>\n",
              "    </tr>\n",
              "    <tr>\n",
              "      <th>Some Like It Hot</th>\n",
              "      <td>156432</td>\n",
              "      <td>8.3</td>\n",
              "      <td>1959</td>\n",
              "      <td>1950</td>\n",
              "    </tr>\n",
              "    <tr>\n",
              "      <th>The Killing</th>\n",
              "      <td>56671</td>\n",
              "      <td>8.0</td>\n",
              "      <td>1956</td>\n",
              "      <td>1950</td>\n",
              "    </tr>\n",
              "    <tr>\n",
              "      <th>Roman Holiday</th>\n",
              "      <td>87437</td>\n",
              "      <td>8.0</td>\n",
              "      <td>1953</td>\n",
              "      <td>1950</td>\n",
              "    </tr>\n",
              "    <tr>\n",
              "      <th>Touch of Evil</th>\n",
              "      <td>65408</td>\n",
              "      <td>8.1</td>\n",
              "      <td>1958</td>\n",
              "      <td>1950</td>\n",
              "    </tr>\n",
              "    <tr>\n",
              "      <th>Rashômon</th>\n",
              "      <td>90434</td>\n",
              "      <td>8.3</td>\n",
              "      <td>1950</td>\n",
              "      <td>1950</td>\n",
              "    </tr>\n",
              "    <tr>\n",
              "      <th>La strada</th>\n",
              "      <td>42446</td>\n",
              "      <td>8.0</td>\n",
              "      <td>1954</td>\n",
              "      <td>1950</td>\n",
              "    </tr>\n",
              "    <tr>\n",
              "      <th>North by Northwest</th>\n",
              "      <td>198795</td>\n",
              "      <td>8.4</td>\n",
              "      <td>1959</td>\n",
              "      <td>1950</td>\n",
              "    </tr>\n",
              "    <tr>\n",
              "      <th>Sunset Blvd.</th>\n",
              "      <td>123879</td>\n",
              "      <td>8.5</td>\n",
              "      <td>1950</td>\n",
              "      <td>1950</td>\n",
              "    </tr>\n",
              "    <tr>\n",
              "      <th>Shichinin no samurai</th>\n",
              "      <td>206216</td>\n",
              "      <td>8.7</td>\n",
              "      <td>1954</td>\n",
              "      <td>1950</td>\n",
              "    </tr>\n",
              "    <tr>\n",
              "      <th>12 Angry Men</th>\n",
              "      <td>384187</td>\n",
              "      <td>8.9</td>\n",
              "      <td>1957</td>\n",
              "      <td>1950</td>\n",
              "    </tr>\n",
              "    <tr>\n",
              "      <th>Les diaboliques</th>\n",
              "      <td>36725</td>\n",
              "      <td>8.1</td>\n",
              "      <td>1955</td>\n",
              "      <td>1950</td>\n",
              "    </tr>\n",
              "    <tr>\n",
              "      <th>Kumonosu-jô</th>\n",
              "      <td>26012</td>\n",
              "      <td>8.0</td>\n",
              "      <td>1957</td>\n",
              "      <td>1950</td>\n",
              "    </tr>\n",
              "    <tr>\n",
              "      <th>Ben-Hur</th>\n",
              "      <td>141768</td>\n",
              "      <td>8.1</td>\n",
              "      <td>1959</td>\n",
              "      <td>1950</td>\n",
              "    </tr>\n",
              "    <tr>\n",
              "      <th>Witness for the Prosecution</th>\n",
              "      <td>53186</td>\n",
              "      <td>8.3</td>\n",
              "      <td>1957</td>\n",
              "      <td>1950</td>\n",
              "    </tr>\n",
              "    <tr>\n",
              "      <th>Dial M for Murder</th>\n",
              "      <td>92244</td>\n",
              "      <td>8.1</td>\n",
              "      <td>1954</td>\n",
              "      <td>1950</td>\n",
              "    </tr>\n",
              "    <tr>\n",
              "      <th>Ikiru</th>\n",
              "      <td>36638</td>\n",
              "      <td>8.2</td>\n",
              "      <td>1952</td>\n",
              "      <td>1950</td>\n",
              "    </tr>\n",
              "    <tr>\n",
              "      <th>On the Waterfront</th>\n",
              "      <td>89233</td>\n",
              "      <td>8.2</td>\n",
              "      <td>1954</td>\n",
              "      <td>1950</td>\n",
              "    </tr>\n",
              "    <tr>\n",
              "      <th>Les quatre cents coups</th>\n",
              "      <td>61776</td>\n",
              "      <td>8.1</td>\n",
              "      <td>1959</td>\n",
              "      <td>1950</td>\n",
              "    </tr>\n",
              "    <tr>\n",
              "      <th>Paths of Glory</th>\n",
              "      <td>106038</td>\n",
              "      <td>8.4</td>\n",
              "      <td>1957</td>\n",
              "      <td>1950</td>\n",
              "    </tr>\n",
              "    <tr>\n",
              "      <th>High Noon</th>\n",
              "      <td>72007</td>\n",
              "      <td>8.0</td>\n",
              "      <td>1952</td>\n",
              "      <td>1950</td>\n",
              "    </tr>\n",
              "    <tr>\n",
              "      <th>Vertigo</th>\n",
              "      <td>218430</td>\n",
              "      <td>8.4</td>\n",
              "      <td>1958</td>\n",
              "      <td>1950</td>\n",
              "    </tr>\n",
              "    <tr>\n",
              "      <th>The Bridge on the River Kwai</th>\n",
              "      <td>132677</td>\n",
              "      <td>8.2</td>\n",
              "      <td>1957</td>\n",
              "      <td>1950</td>\n",
              "    </tr>\n",
              "    <tr>\n",
              "      <th>Rear Window</th>\n",
              "      <td>280432</td>\n",
              "      <td>8.5</td>\n",
              "      <td>1954</td>\n",
              "      <td>1950</td>\n",
              "    </tr>\n",
              "    <tr>\n",
              "      <th>Det sjunde inseglet</th>\n",
              "      <td>98949</td>\n",
              "      <td>8.2</td>\n",
              "      <td>1957</td>\n",
              "      <td>1950</td>\n",
              "    </tr>\n",
              "    <tr>\n",
              "      <th>The Night of the Hunter</th>\n",
              "      <td>57974</td>\n",
              "      <td>8.0</td>\n",
              "      <td>1955</td>\n",
              "      <td>1950</td>\n",
              "    </tr>\n",
              "    <tr>\n",
              "      <th>Smultronstället</th>\n",
              "      <td>55861</td>\n",
              "      <td>8.2</td>\n",
              "      <td>1957</td>\n",
              "      <td>1950</td>\n",
              "    </tr>\n",
              "    <tr>\n",
              "      <th>Strangers on a Train</th>\n",
              "      <td>85012</td>\n",
              "      <td>8.1</td>\n",
              "      <td>1951</td>\n",
              "      <td>1950</td>\n",
              "    </tr>\n",
              "    <tr>\n",
              "      <th>Le salaire de la peur</th>\n",
              "      <td>31003</td>\n",
              "      <td>8.1</td>\n",
              "      <td>1953</td>\n",
              "      <td>1950</td>\n",
              "    </tr>\n",
              "  </tbody>\n",
              "</table>\n",
              "</div>"
            ],
            "text/plain": [
              "                               Votes  Rating  Year  Decade\n",
              "Title                                                     \n",
              "Singin' in the Rain           132823     8.3  1952    1950\n",
              "All About Eve                  74178     8.3  1950    1950\n",
              "Some Like It Hot              156432     8.3  1959    1950\n",
              "The Killing                    56671     8.0  1956    1950\n",
              "Roman Holiday                  87437     8.0  1953    1950\n",
              "Touch of Evil                  65408     8.1  1958    1950\n",
              "Rashômon                       90434     8.3  1950    1950\n",
              "La strada                      42446     8.0  1954    1950\n",
              "North by Northwest            198795     8.4  1959    1950\n",
              "Sunset Blvd.                  123879     8.5  1950    1950\n",
              "Shichinin no samurai          206216     8.7  1954    1950\n",
              "12 Angry Men                  384187     8.9  1957    1950\n",
              "Les diaboliques                36725     8.1  1955    1950\n",
              "Kumonosu-jô                    26012     8.0  1957    1950\n",
              "Ben-Hur                       141768     8.1  1959    1950\n",
              "Witness for the Prosecution    53186     8.3  1957    1950\n",
              "Dial M for Murder              92244     8.1  1954    1950\n",
              "Ikiru                          36638     8.2  1952    1950\n",
              "On the Waterfront              89233     8.2  1954    1950\n",
              "Les quatre cents coups         61776     8.1  1959    1950\n",
              "Paths of Glory                106038     8.4  1957    1950\n",
              "High Noon                      72007     8.0  1952    1950\n",
              "Vertigo                       218430     8.4  1958    1950\n",
              "The Bridge on the River Kwai  132677     8.2  1957    1950\n",
              "Rear Window                   280432     8.5  1954    1950\n",
              "Det sjunde inseglet            98949     8.2  1957    1950\n",
              "The Night of the Hunter        57974     8.0  1955    1950\n",
              "Smultronstället                55861     8.2  1957    1950\n",
              "Strangers on a Train           85012     8.1  1951    1950\n",
              "Le salaire de la peur          31003     8.1  1953    1950"
            ]
          },
          "execution_count": 74,
          "metadata": {},
          "output_type": "execute_result"
        }
      ],
      "source": [
        "imdb_por_nome[imdb_por_nome.get('Decade') == 1950]"
      ]
    },
    {
      "cell_type": "markdown",
      "metadata": {
        "id": "YXj0ZgtABpIU"
      },
      "source": [
        "Ajuda ler os colchetes como \"onde\". Portanto, o comando na célula acima diz para manter todas as linhas de `imdb_por_nome` *onde* a década é a década de 1950.\n",
        "\n",
        "Criar um novo DataFrame selecionando apenas certas linhas de um DataFrame existente que satisfaça alguma condição é chamado de *consulta*. A linha de código `imdb_por_nome[imdb_por_nome.get('Decade') == 1950]` é uma *consulta*."
      ]
    },
    {
      "cell_type": "markdown",
      "metadata": {
        "id": "oG8p6t1lBpIU"
      },
      "source": [
        "**Questão 4.1.** Crie um DataFrame chamado `noventa_e_oito` contendo os filmes lançados em 1998."
      ]
    },
    {
      "cell_type": "code",
      "execution_count": 75,
      "metadata": {
        "id": "ze8jP8bOBpIU"
      },
      "outputs": [
        {
          "data": {
            "text/html": [
              "<div>\n",
              "<style scoped>\n",
              "    .dataframe tbody tr th:only-of-type {\n",
              "        vertical-align: middle;\n",
              "    }\n",
              "\n",
              "    .dataframe tbody tr th {\n",
              "        vertical-align: top;\n",
              "    }\n",
              "\n",
              "    .dataframe thead th {\n",
              "        text-align: right;\n",
              "    }\n",
              "</style>\n",
              "<table border=\"1\" class=\"dataframe\">\n",
              "  <thead>\n",
              "    <tr style=\"text-align: right;\">\n",
              "      <th></th>\n",
              "      <th>Votes</th>\n",
              "      <th>Rating</th>\n",
              "      <th>Year</th>\n",
              "      <th>Decade</th>\n",
              "    </tr>\n",
              "    <tr>\n",
              "      <th>Title</th>\n",
              "      <th></th>\n",
              "      <th></th>\n",
              "      <th></th>\n",
              "      <th></th>\n",
              "    </tr>\n",
              "  </thead>\n",
              "  <tbody>\n",
              "    <tr>\n",
              "      <th>Saving Private Ryan</th>\n",
              "      <td>769893</td>\n",
              "      <td>8.5</td>\n",
              "      <td>1998</td>\n",
              "      <td>1990</td>\n",
              "    </tr>\n",
              "    <tr>\n",
              "      <th>American History X</th>\n",
              "      <td>694602</td>\n",
              "      <td>8.5</td>\n",
              "      <td>1998</td>\n",
              "      <td>1990</td>\n",
              "    </tr>\n",
              "    <tr>\n",
              "      <th>Lock, Stock and Two Smoking Barrels (1998)</th>\n",
              "      <td>372863</td>\n",
              "      <td>8.2</td>\n",
              "      <td>1998</td>\n",
              "      <td>1990</td>\n",
              "    </tr>\n",
              "    <tr>\n",
              "      <th>The Big Lebowski</th>\n",
              "      <td>473988</td>\n",
              "      <td>8.2</td>\n",
              "      <td>1998</td>\n",
              "      <td>1990</td>\n",
              "    </tr>\n",
              "    <tr>\n",
              "      <th>The Truman Show</th>\n",
              "      <td>583004</td>\n",
              "      <td>8.0</td>\n",
              "      <td>1998</td>\n",
              "      <td>1990</td>\n",
              "    </tr>\n",
              "  </tbody>\n",
              "</table>\n",
              "</div>"
            ],
            "text/plain": [
              "                                             Votes  Rating  Year  Decade\n",
              "Title                                                                   \n",
              "Saving Private Ryan                         769893     8.5  1998    1990\n",
              "American History X                          694602     8.5  1998    1990\n",
              "Lock, Stock and Two Smoking Barrels (1998)  372863     8.2  1998    1990\n",
              "The Big Lebowski                            473988     8.2  1998    1990\n",
              "The Truman Show                             583004     8.0  1998    1990"
            ]
          },
          "execution_count": 75,
          "metadata": {},
          "output_type": "execute_result"
        }
      ],
      "source": [
        "noventa_e_oito = imdb_por_nome[imdb_por_nome.get('Year') == 1998]\n",
        "noventa_e_oito"
      ]
    },
    {
      "cell_type": "markdown",
      "metadata": {
        "id": "8oxqkj-vBpIV"
      },
      "source": [
        "Até agora só descobrimos onde uma coluna é *exatamente* igual a um determinado valor. No entanto, existem muitos outros operadores de comparação que poderíamos usar. Aqui estão alguns:\n",
        "\n",
        "|Operador|Testes|\n",
        "|-|-|\n",
        "|`==`|a coisa da esquerda é igual à coisa da direita|\n",
        "|`!=`|a coisa à esquerda *não* é igual à coisa à direita|\n",
        "|`>`|a coisa à esquerda é maior que (e não igual) à coisa à direita|\n",
        "|`>=`|a coisa à esquerda é maior ou igual à coisa à direita|\n",
        "|`<`|a coisa à esquerda é menor que (e não igual) à coisa à direita|\n",
        "\n",
        "As [notas de curso](https://notes.dsc10.com/02-data_sets/querying.html#examples) do DSC10 tem mais exemplos."
      ]
    },
    {
      "cell_type": "markdown",
      "metadata": {
        "id": "PZd4EaRmBpIV"
      },
      "source": [
        "**Questão 4.2.** Utilizando os operadores da tabela acima, encontre todos os filmes com avaliação superior a 8,6. Coloque seus dados em um DataFrame chamado `realmente_bem_avaliados`."
      ]
    },
    {
      "cell_type": "code",
      "execution_count": 76,
      "metadata": {
        "id": "3vLDFfXDBpIV"
      },
      "outputs": [
        {
          "data": {
            "text/html": [
              "<div>\n",
              "<style scoped>\n",
              "    .dataframe tbody tr th:only-of-type {\n",
              "        vertical-align: middle;\n",
              "    }\n",
              "\n",
              "    .dataframe tbody tr th {\n",
              "        vertical-align: top;\n",
              "    }\n",
              "\n",
              "    .dataframe thead th {\n",
              "        text-align: right;\n",
              "    }\n",
              "</style>\n",
              "<table border=\"1\" class=\"dataframe\">\n",
              "  <thead>\n",
              "    <tr style=\"text-align: right;\">\n",
              "      <th></th>\n",
              "      <th>Votes</th>\n",
              "      <th>Rating</th>\n",
              "      <th>Year</th>\n",
              "      <th>Decade</th>\n",
              "    </tr>\n",
              "    <tr>\n",
              "      <th>Title</th>\n",
              "      <th></th>\n",
              "      <th></th>\n",
              "      <th></th>\n",
              "      <th></th>\n",
              "    </tr>\n",
              "  </thead>\n",
              "  <tbody>\n",
              "    <tr>\n",
              "      <th>The Godfather</th>\n",
              "      <td>1027398</td>\n",
              "      <td>9.2</td>\n",
              "      <td>1972</td>\n",
              "      <td>1970</td>\n",
              "    </tr>\n",
              "    <tr>\n",
              "      <th>The Shawshank Redemption</th>\n",
              "      <td>1498733</td>\n",
              "      <td>9.2</td>\n",
              "      <td>1994</td>\n",
              "      <td>1990</td>\n",
              "    </tr>\n",
              "    <tr>\n",
              "      <th>Il buono, il brutto, il cattivo (1966)</th>\n",
              "      <td>447875</td>\n",
              "      <td>8.9</td>\n",
              "      <td>1966</td>\n",
              "      <td>1960</td>\n",
              "    </tr>\n",
              "    <tr>\n",
              "      <th>The Lord of the Rings: The Two Towers</th>\n",
              "      <td>967389</td>\n",
              "      <td>8.7</td>\n",
              "      <td>2002</td>\n",
              "      <td>2000</td>\n",
              "    </tr>\n",
              "    <tr>\n",
              "      <th>The Dark Knight</th>\n",
              "      <td>1473049</td>\n",
              "      <td>8.9</td>\n",
              "      <td>2008</td>\n",
              "      <td>2000</td>\n",
              "    </tr>\n",
              "    <tr>\n",
              "      <th>Inception</th>\n",
              "      <td>1271949</td>\n",
              "      <td>8.7</td>\n",
              "      <td>2010</td>\n",
              "      <td>2010</td>\n",
              "    </tr>\n",
              "    <tr>\n",
              "      <th>Fight Club</th>\n",
              "      <td>1177098</td>\n",
              "      <td>8.8</td>\n",
              "      <td>1999</td>\n",
              "      <td>1990</td>\n",
              "    </tr>\n",
              "    <tr>\n",
              "      <th>The Godfather: Part II</th>\n",
              "      <td>692753</td>\n",
              "      <td>9.0</td>\n",
              "      <td>1974</td>\n",
              "      <td>1970</td>\n",
              "    </tr>\n",
              "    <tr>\n",
              "      <th>Shichinin no samurai</th>\n",
              "      <td>206216</td>\n",
              "      <td>8.7</td>\n",
              "      <td>1954</td>\n",
              "      <td>1950</td>\n",
              "    </tr>\n",
              "    <tr>\n",
              "      <th>Goodfellas</th>\n",
              "      <td>644556</td>\n",
              "      <td>8.7</td>\n",
              "      <td>1990</td>\n",
              "      <td>1990</td>\n",
              "    </tr>\n",
              "    <tr>\n",
              "      <th>12 Angry Men</th>\n",
              "      <td>384187</td>\n",
              "      <td>8.9</td>\n",
              "      <td>1957</td>\n",
              "      <td>1950</td>\n",
              "    </tr>\n",
              "    <tr>\n",
              "      <th>The Matrix</th>\n",
              "      <td>1073043</td>\n",
              "      <td>8.7</td>\n",
              "      <td>1999</td>\n",
              "      <td>1990</td>\n",
              "    </tr>\n",
              "    <tr>\n",
              "      <th>The Lord of the Rings: The Return of the King</th>\n",
              "      <td>1074146</td>\n",
              "      <td>8.9</td>\n",
              "      <td>2003</td>\n",
              "      <td>2000</td>\n",
              "    </tr>\n",
              "    <tr>\n",
              "      <th>Schindler's List</th>\n",
              "      <td>761224</td>\n",
              "      <td>8.9</td>\n",
              "      <td>1993</td>\n",
              "      <td>1990</td>\n",
              "    </tr>\n",
              "    <tr>\n",
              "      <th>Star Wars: Episode V - The Empire Strikes Back</th>\n",
              "      <td>700283</td>\n",
              "      <td>8.7</td>\n",
              "      <td>1980</td>\n",
              "      <td>1980</td>\n",
              "    </tr>\n",
              "    <tr>\n",
              "      <th>The Lord of the Rings: The Fellowship of the Ring</th>\n",
              "      <td>1099087</td>\n",
              "      <td>8.8</td>\n",
              "      <td>2001</td>\n",
              "      <td>2000</td>\n",
              "    </tr>\n",
              "    <tr>\n",
              "      <th>Star Wars</th>\n",
              "      <td>770011</td>\n",
              "      <td>8.7</td>\n",
              "      <td>1977</td>\n",
              "      <td>1970</td>\n",
              "    </tr>\n",
              "    <tr>\n",
              "      <th>One Flew Over the Cuckoo's Nest</th>\n",
              "      <td>606395</td>\n",
              "      <td>8.7</td>\n",
              "      <td>1975</td>\n",
              "      <td>1970</td>\n",
              "    </tr>\n",
              "    <tr>\n",
              "      <th>Pulp Fiction</th>\n",
              "      <td>1166532</td>\n",
              "      <td>8.9</td>\n",
              "      <td>1994</td>\n",
              "      <td>1990</td>\n",
              "    </tr>\n",
              "    <tr>\n",
              "      <th>Forrest Gump</th>\n",
              "      <td>1078416</td>\n",
              "      <td>8.7</td>\n",
              "      <td>1994</td>\n",
              "      <td>1990</td>\n",
              "    </tr>\n",
              "  </tbody>\n",
              "</table>\n",
              "</div>"
            ],
            "text/plain": [
              "                                                     Votes  Rating  Year  \\\n",
              "Title                                                                      \n",
              "The Godfather                                      1027398     9.2  1972   \n",
              "The Shawshank Redemption                           1498733     9.2  1994   \n",
              "Il buono, il brutto, il cattivo (1966)              447875     8.9  1966   \n",
              "The Lord of the Rings: The Two Towers               967389     8.7  2002   \n",
              "The Dark Knight                                    1473049     8.9  2008   \n",
              "Inception                                          1271949     8.7  2010   \n",
              "Fight Club                                         1177098     8.8  1999   \n",
              "The Godfather: Part II                              692753     9.0  1974   \n",
              "Shichinin no samurai                                206216     8.7  1954   \n",
              "Goodfellas                                          644556     8.7  1990   \n",
              "12 Angry Men                                        384187     8.9  1957   \n",
              "The Matrix                                         1073043     8.7  1999   \n",
              "The Lord of the Rings: The Return of the King      1074146     8.9  2003   \n",
              "Schindler's List                                    761224     8.9  1993   \n",
              "Star Wars: Episode V - The Empire Strikes Back      700283     8.7  1980   \n",
              "The Lord of the Rings: The Fellowship of the Ring  1099087     8.8  2001   \n",
              "Star Wars                                           770011     8.7  1977   \n",
              "One Flew Over the Cuckoo's Nest                     606395     8.7  1975   \n",
              "Pulp Fiction                                       1166532     8.9  1994   \n",
              "Forrest Gump                                       1078416     8.7  1994   \n",
              "\n",
              "                                                   Decade  \n",
              "Title                                                      \n",
              "The Godfather                                        1970  \n",
              "The Shawshank Redemption                             1990  \n",
              "Il buono, il brutto, il cattivo (1966)               1960  \n",
              "The Lord of the Rings: The Two Towers                2000  \n",
              "The Dark Knight                                      2000  \n",
              "Inception                                            2010  \n",
              "Fight Club                                           1990  \n",
              "The Godfather: Part II                               1970  \n",
              "Shichinin no samurai                                 1950  \n",
              "Goodfellas                                           1990  \n",
              "12 Angry Men                                         1950  \n",
              "The Matrix                                           1990  \n",
              "The Lord of the Rings: The Return of the King        2000  \n",
              "Schindler's List                                     1990  \n",
              "Star Wars: Episode V - The Empire Strikes Back       1980  \n",
              "The Lord of the Rings: The Fellowship of the Ring    2000  \n",
              "Star Wars                                            1970  \n",
              "One Flew Over the Cuckoo's Nest                      1970  \n",
              "Pulp Fiction                                         1990  \n",
              "Forrest Gump                                         1990  "
            ]
          },
          "execution_count": 76,
          "metadata": {},
          "output_type": "execute_result"
        }
      ],
      "source": [
        "realmente_bem_avaliados = imdb_por_nome[imdb_por_nome.get(\"Rating\")>8.6]\n",
        "realmente_bem_avaliados"
      ]
    },
    {
      "cell_type": "markdown",
      "metadata": {
        "id": "wWi-B3X_BpIW"
      },
      "source": [
        "Qual é a maior avaliação de qualquer filme da década de 1990? Agora temos as ferramentas para responder a perguntas como essas. Dividindo em pedaços, encontramos primeiro todos os filmes da década de 1990:"
      ]
    },
    {
      "cell_type": "code",
      "execution_count": 77,
      "metadata": {
        "id": "wjpwJOMDBpIW"
      },
      "outputs": [
        {
          "data": {
            "text/plain": [
              "Title\n",
              "M                                        False\n",
              "Singin' in the Rain                      False\n",
              "All About Eve                            False\n",
              "Léon                                      True\n",
              "The Elephant Man                         False\n",
              "                                         ...  \n",
              "Forrest Gump                              True\n",
              "Le salaire de la peur                    False\n",
              "3 Idiots                                 False\n",
              "Network                                  False\n",
              "Eternal Sunshine of the Spotless Mind    False\n",
              "Name: Decade, Length: 250, dtype: bool"
            ]
          },
          "execution_count": 77,
          "metadata": {},
          "output_type": "execute_result"
        }
      ],
      "source": [
        "eh_de_1990s = imdb_por_nome.get('Decade') == 1990\n",
        "eh_de_1990s"
      ]
    },
    {
      "cell_type": "markdown",
      "metadata": {
        "id": "nfFbbhREBpIW"
      },
      "source": [
        "Em seguida, selecionamos apenas estes filmes em nosso DataFrame:"
      ]
    },
    {
      "cell_type": "code",
      "execution_count": 78,
      "metadata": {
        "id": "ol8E8UpGBpIW"
      },
      "outputs": [
        {
          "data": {
            "text/html": [
              "<div>\n",
              "<style scoped>\n",
              "    .dataframe tbody tr th:only-of-type {\n",
              "        vertical-align: middle;\n",
              "    }\n",
              "\n",
              "    .dataframe tbody tr th {\n",
              "        vertical-align: top;\n",
              "    }\n",
              "\n",
              "    .dataframe thead th {\n",
              "        text-align: right;\n",
              "    }\n",
              "</style>\n",
              "<table border=\"1\" class=\"dataframe\">\n",
              "  <thead>\n",
              "    <tr style=\"text-align: right;\">\n",
              "      <th></th>\n",
              "      <th>Votes</th>\n",
              "      <th>Rating</th>\n",
              "      <th>Year</th>\n",
              "      <th>Decade</th>\n",
              "    </tr>\n",
              "    <tr>\n",
              "      <th>Title</th>\n",
              "      <th></th>\n",
              "      <th></th>\n",
              "      <th></th>\n",
              "      <th></th>\n",
              "    </tr>\n",
              "  </thead>\n",
              "  <tbody>\n",
              "    <tr>\n",
              "      <th>Léon</th>\n",
              "      <td>635139</td>\n",
              "      <td>8.6</td>\n",
              "      <td>1994</td>\n",
              "      <td>1990</td>\n",
              "    </tr>\n",
              "    <tr>\n",
              "      <th>Mononoke-hime</th>\n",
              "      <td>192165</td>\n",
              "      <td>8.4</td>\n",
              "      <td>1997</td>\n",
              "      <td>1990</td>\n",
              "    </tr>\n",
              "    <tr>\n",
              "      <th>Saving Private Ryan</th>\n",
              "      <td>769893</td>\n",
              "      <td>8.5</td>\n",
              "      <td>1998</td>\n",
              "      <td>1990</td>\n",
              "    </tr>\n",
              "    <tr>\n",
              "      <th>In the Name of the Father</th>\n",
              "      <td>95212</td>\n",
              "      <td>8.1</td>\n",
              "      <td>1993</td>\n",
              "      <td>1990</td>\n",
              "    </tr>\n",
              "    <tr>\n",
              "      <th>Before Sunrise</th>\n",
              "      <td>158867</td>\n",
              "      <td>8.0</td>\n",
              "      <td>1995</td>\n",
              "      <td>1990</td>\n",
              "    </tr>\n",
              "    <tr>\n",
              "      <th>The Silence of the Lambs</th>\n",
              "      <td>767224</td>\n",
              "      <td>8.6</td>\n",
              "      <td>1991</td>\n",
              "      <td>1990</td>\n",
              "    </tr>\n",
              "    <tr>\n",
              "      <th>The Shawshank Redemption</th>\n",
              "      <td>1498733</td>\n",
              "      <td>9.2</td>\n",
              "      <td>1994</td>\n",
              "      <td>1990</td>\n",
              "    </tr>\n",
              "    <tr>\n",
              "      <th>Heat</th>\n",
              "      <td>388239</td>\n",
              "      <td>8.2</td>\n",
              "      <td>1995</td>\n",
              "      <td>1990</td>\n",
              "    </tr>\n",
              "    <tr>\n",
              "      <th>Toy Story</th>\n",
              "      <td>535249</td>\n",
              "      <td>8.3</td>\n",
              "      <td>1995</td>\n",
              "      <td>1990</td>\n",
              "    </tr>\n",
              "    <tr>\n",
              "      <th>Beauty and the Beast</th>\n",
              "      <td>268480</td>\n",
              "      <td>8.0</td>\n",
              "      <td>1991</td>\n",
              "      <td>1990</td>\n",
              "    </tr>\n",
              "    <tr>\n",
              "      <th>Fight Club</th>\n",
              "      <td>1177098</td>\n",
              "      <td>8.8</td>\n",
              "      <td>1999</td>\n",
              "      <td>1990</td>\n",
              "    </tr>\n",
              "    <tr>\n",
              "      <th>L.A. Confidential</th>\n",
              "      <td>376590</td>\n",
              "      <td>8.3</td>\n",
              "      <td>1997</td>\n",
              "      <td>1990</td>\n",
              "    </tr>\n",
              "    <tr>\n",
              "      <th>The Usual Suspects</th>\n",
              "      <td>656756</td>\n",
              "      <td>8.6</td>\n",
              "      <td>1995</td>\n",
              "      <td>1990</td>\n",
              "    </tr>\n",
              "    <tr>\n",
              "      <th>Terminator 2: Judgment Day</th>\n",
              "      <td>658564</td>\n",
              "      <td>8.5</td>\n",
              "      <td>1991</td>\n",
              "      <td>1990</td>\n",
              "    </tr>\n",
              "    <tr>\n",
              "      <th>Goodfellas</th>\n",
              "      <td>644556</td>\n",
              "      <td>8.7</td>\n",
              "      <td>1990</td>\n",
              "      <td>1990</td>\n",
              "    </tr>\n",
              "    <tr>\n",
              "      <th>American Beauty</th>\n",
              "      <td>735056</td>\n",
              "      <td>8.4</td>\n",
              "      <td>1999</td>\n",
              "      <td>1990</td>\n",
              "    </tr>\n",
              "    <tr>\n",
              "      <th>The Sixth Sense</th>\n",
              "      <td>630994</td>\n",
              "      <td>8.1</td>\n",
              "      <td>1999</td>\n",
              "      <td>1990</td>\n",
              "    </tr>\n",
              "    <tr>\n",
              "      <th>La haine</th>\n",
              "      <td>90937</td>\n",
              "      <td>8.0</td>\n",
              "      <td>1995</td>\n",
              "      <td>1990</td>\n",
              "    </tr>\n",
              "    <tr>\n",
              "      <th>Groundhog Day</th>\n",
              "      <td>384272</td>\n",
              "      <td>8.0</td>\n",
              "      <td>1993</td>\n",
              "      <td>1990</td>\n",
              "    </tr>\n",
              "    <tr>\n",
              "      <th>Twelve Monkeys</th>\n",
              "      <td>415809</td>\n",
              "      <td>8.0</td>\n",
              "      <td>1995</td>\n",
              "      <td>1990</td>\n",
              "    </tr>\n",
              "    <tr>\n",
              "      <th>The Matrix</th>\n",
              "      <td>1073043</td>\n",
              "      <td>8.7</td>\n",
              "      <td>1999</td>\n",
              "      <td>1990</td>\n",
              "    </tr>\n",
              "    <tr>\n",
              "      <th>Unforgiven</th>\n",
              "      <td>248514</td>\n",
              "      <td>8.3</td>\n",
              "      <td>1992</td>\n",
              "      <td>1990</td>\n",
              "    </tr>\n",
              "    <tr>\n",
              "      <th>American History X</th>\n",
              "      <td>694602</td>\n",
              "      <td>8.5</td>\n",
              "      <td>1998</td>\n",
              "      <td>1990</td>\n",
              "    </tr>\n",
              "    <tr>\n",
              "      <th>Trois couleurs: Rouge</th>\n",
              "      <td>57644</td>\n",
              "      <td>8.0</td>\n",
              "      <td>1994</td>\n",
              "      <td>1990</td>\n",
              "    </tr>\n",
              "    <tr>\n",
              "      <th>Reservoir Dogs</th>\n",
              "      <td>578684</td>\n",
              "      <td>8.3</td>\n",
              "      <td>1992</td>\n",
              "      <td>1990</td>\n",
              "    </tr>\n",
              "    <tr>\n",
              "      <th>Casino</th>\n",
              "      <td>294394</td>\n",
              "      <td>8.2</td>\n",
              "      <td>1995</td>\n",
              "      <td>1990</td>\n",
              "    </tr>\n",
              "    <tr>\n",
              "      <th>Schindler's List</th>\n",
              "      <td>761224</td>\n",
              "      <td>8.9</td>\n",
              "      <td>1993</td>\n",
              "      <td>1990</td>\n",
              "    </tr>\n",
              "    <tr>\n",
              "      <th>The Green Mile</th>\n",
              "      <td>672878</td>\n",
              "      <td>8.5</td>\n",
              "      <td>1999</td>\n",
              "      <td>1990</td>\n",
              "    </tr>\n",
              "    <tr>\n",
              "      <th>Jurassic Park</th>\n",
              "      <td>520391</td>\n",
              "      <td>8.0</td>\n",
              "      <td>1993</td>\n",
              "      <td>1990</td>\n",
              "    </tr>\n",
              "    <tr>\n",
              "      <th>Lock, Stock and Two Smoking Barrels (1998)</th>\n",
              "      <td>372863</td>\n",
              "      <td>8.2</td>\n",
              "      <td>1998</td>\n",
              "      <td>1990</td>\n",
              "    </tr>\n",
              "    <tr>\n",
              "      <th>Fargo</th>\n",
              "      <td>395997</td>\n",
              "      <td>8.1</td>\n",
              "      <td>1996</td>\n",
              "      <td>1990</td>\n",
              "    </tr>\n",
              "    <tr>\n",
              "      <th>Good Will Hunting</th>\n",
              "      <td>529800</td>\n",
              "      <td>8.2</td>\n",
              "      <td>1997</td>\n",
              "      <td>1990</td>\n",
              "    </tr>\n",
              "    <tr>\n",
              "      <th>Trainspotting</th>\n",
              "      <td>419372</td>\n",
              "      <td>8.1</td>\n",
              "      <td>1996</td>\n",
              "      <td>1990</td>\n",
              "    </tr>\n",
              "    <tr>\n",
              "      <th>Se7en</th>\n",
              "      <td>895411</td>\n",
              "      <td>8.6</td>\n",
              "      <td>1995</td>\n",
              "      <td>1990</td>\n",
              "    </tr>\n",
              "    <tr>\n",
              "      <th>Braveheart</th>\n",
              "      <td>653769</td>\n",
              "      <td>8.3</td>\n",
              "      <td>1995</td>\n",
              "      <td>1990</td>\n",
              "    </tr>\n",
              "    <tr>\n",
              "      <th>Underground</th>\n",
              "      <td>39447</td>\n",
              "      <td>8.0</td>\n",
              "      <td>1995</td>\n",
              "      <td>1990</td>\n",
              "    </tr>\n",
              "    <tr>\n",
              "      <th>The Big Lebowski</th>\n",
              "      <td>473988</td>\n",
              "      <td>8.2</td>\n",
              "      <td>1998</td>\n",
              "      <td>1990</td>\n",
              "    </tr>\n",
              "    <tr>\n",
              "      <th>The Lion King</th>\n",
              "      <td>548750</td>\n",
              "      <td>8.4</td>\n",
              "      <td>1994</td>\n",
              "      <td>1990</td>\n",
              "    </tr>\n",
              "    <tr>\n",
              "      <th>La vita è bella</th>\n",
              "      <td>358305</td>\n",
              "      <td>8.6</td>\n",
              "      <td>1997</td>\n",
              "      <td>1990</td>\n",
              "    </tr>\n",
              "    <tr>\n",
              "      <th>The Truman Show</th>\n",
              "      <td>583004</td>\n",
              "      <td>8.0</td>\n",
              "      <td>1998</td>\n",
              "      <td>1990</td>\n",
              "    </tr>\n",
              "    <tr>\n",
              "      <th>Pulp Fiction</th>\n",
              "      <td>1166532</td>\n",
              "      <td>8.9</td>\n",
              "      <td>1994</td>\n",
              "      <td>1990</td>\n",
              "    </tr>\n",
              "    <tr>\n",
              "      <th>Forrest Gump</th>\n",
              "      <td>1078416</td>\n",
              "      <td>8.7</td>\n",
              "      <td>1994</td>\n",
              "      <td>1990</td>\n",
              "    </tr>\n",
              "  </tbody>\n",
              "</table>\n",
              "</div>"
            ],
            "text/plain": [
              "                                              Votes  Rating  Year  Decade\n",
              "Title                                                                    \n",
              "Léon                                         635139     8.6  1994    1990\n",
              "Mononoke-hime                                192165     8.4  1997    1990\n",
              "Saving Private Ryan                          769893     8.5  1998    1990\n",
              "In the Name of the Father                     95212     8.1  1993    1990\n",
              "Before Sunrise                               158867     8.0  1995    1990\n",
              "The Silence of the Lambs                     767224     8.6  1991    1990\n",
              "The Shawshank Redemption                    1498733     9.2  1994    1990\n",
              "Heat                                         388239     8.2  1995    1990\n",
              "Toy Story                                    535249     8.3  1995    1990\n",
              "Beauty and the Beast                         268480     8.0  1991    1990\n",
              "Fight Club                                  1177098     8.8  1999    1990\n",
              "L.A. Confidential                            376590     8.3  1997    1990\n",
              "The Usual Suspects                           656756     8.6  1995    1990\n",
              "Terminator 2: Judgment Day                   658564     8.5  1991    1990\n",
              "Goodfellas                                   644556     8.7  1990    1990\n",
              "American Beauty                              735056     8.4  1999    1990\n",
              "The Sixth Sense                              630994     8.1  1999    1990\n",
              "La haine                                      90937     8.0  1995    1990\n",
              "Groundhog Day                                384272     8.0  1993    1990\n",
              "Twelve Monkeys                               415809     8.0  1995    1990\n",
              "The Matrix                                  1073043     8.7  1999    1990\n",
              "Unforgiven                                   248514     8.3  1992    1990\n",
              "American History X                           694602     8.5  1998    1990\n",
              "Trois couleurs: Rouge                         57644     8.0  1994    1990\n",
              "Reservoir Dogs                               578684     8.3  1992    1990\n",
              "Casino                                       294394     8.2  1995    1990\n",
              "Schindler's List                             761224     8.9  1993    1990\n",
              "The Green Mile                               672878     8.5  1999    1990\n",
              "Jurassic Park                                520391     8.0  1993    1990\n",
              "Lock, Stock and Two Smoking Barrels (1998)   372863     8.2  1998    1990\n",
              "Fargo                                        395997     8.1  1996    1990\n",
              "Good Will Hunting                            529800     8.2  1997    1990\n",
              "Trainspotting                                419372     8.1  1996    1990\n",
              "Se7en                                        895411     8.6  1995    1990\n",
              "Braveheart                                   653769     8.3  1995    1990\n",
              "Underground                                   39447     8.0  1995    1990\n",
              "The Big Lebowski                             473988     8.2  1998    1990\n",
              "The Lion King                                548750     8.4  1994    1990\n",
              "La vita è bella                              358305     8.6  1997    1990\n",
              "The Truman Show                              583004     8.0  1998    1990\n",
              "Pulp Fiction                                1166532     8.9  1994    1990\n",
              "Forrest Gump                                1078416     8.7  1994    1990"
            ]
          },
          "execution_count": 78,
          "metadata": {},
          "output_type": "execute_result"
        }
      ],
      "source": [
        "de_1990s = imdb_por_nome[eh_de_1990s]\n",
        "de_1990s"
      ]
    },
    {
      "cell_type": "markdown",
      "metadata": {
        "id": "ZzoG24poBpIW"
      },
      "source": [
        "Encontramos então a maior avaliação apenas destes filmes:"
      ]
    },
    {
      "cell_type": "code",
      "execution_count": 79,
      "metadata": {
        "id": "T0aTz80nBpIW"
      },
      "outputs": [
        {
          "data": {
            "text/plain": [
              "9.2"
            ]
          },
          "execution_count": 79,
          "metadata": {},
          "output_type": "execute_result"
        }
      ],
      "source": [
        "de_1990s.get('Rating').max()"
      ]
    },
    {
      "cell_type": "markdown",
      "metadata": {
        "id": "-5LQFPZ3BpIW"
      },
      "source": [
        "Ou, se quiséssemos fazer tudo isso de forma mais concisa usando encadeamento:"
      ]
    },
    {
      "cell_type": "code",
      "execution_count": 80,
      "metadata": {
        "id": "scJ_9kqaBpIW"
      },
      "outputs": [
        {
          "data": {
            "text/plain": [
              "9.2"
            ]
          },
          "execution_count": 80,
          "metadata": {},
          "output_type": "execute_result"
        }
      ],
      "source": [
        "imdb_por_nome[imdb_por_nome.get('Decade') == 1990].get('Rating').max()\n",
        "#imdb_por_nome[imdb_por_nome.get('Decade')==1970].get('Rating').min()       -> Menor avaliacao da década de 1970"
      ]
    },
    {
      "cell_type": "markdown",
      "metadata": {
        "id": "3zn0-V1lBpIX"
      },
      "source": [
        "**Pergunta 4.3.** Encontre a avaliação média para filmes lançados no século 20 e a avaliação média para filmes lançados no século 21 para os filmes no `imdb`.\n",
        "\n",
        "*Dica*: As séries possuem um método `.mean()`. Observe que o ano 2000 está no século 20 e que o filme mais antigo do conjunto de dados é de 1921!"
      ]
    },
    {
      "cell_type": "code",
      "execution_count": 81,
      "metadata": {
        "id": "a5iRa7-kBpIY"
      },
      "outputs": [
        {
          "data": {
            "text/plain": [
              "8.280113636363636"
            ]
          },
          "execution_count": 81,
          "metadata": {},
          "output_type": "execute_result"
        }
      ],
      "source": [
        "avaliacao_media_do_seculo_20 = imdb_por_nome[(imdb_por_nome.get('Year') > 1920) & (imdb_por_nome.get('Year') <= 2000)].get('Rating').mean()\n",
        "avaliacao_media_do_seculo_20"
      ]
    },
    {
      "cell_type": "code",
      "execution_count": 82,
      "metadata": {
        "id": "8XI8C098BpIY"
      },
      "outputs": [
        {
          "data": {
            "text/plain": [
              "8.23108108108108"
            ]
          },
          "execution_count": 82,
          "metadata": {},
          "output_type": "execute_result"
        }
      ],
      "source": [
        "avaliacao_media_do_seculo_21 = imdb_por_nome[imdb_por_nome.get('Year')>2000].get('Rating').mean()\n",
        "avaliacao_media_do_seculo_21"
      ]
    },
    {
      "cell_type": "markdown",
      "metadata": {
        "id": "JauYk9hUBpIY"
      },
      "source": [
        "A propriedade `shape` informa quantas linhas e colunas existem em um DataFrame. (Uma \"propriedade\" é similar a um método que não precisa ser chamado adicionando parênteses.)"
      ]
    },
    {
      "cell_type": "code",
      "execution_count": 83,
      "metadata": {
        "id": "d7ftpXtIBpIY"
      },
      "outputs": [
        {
          "data": {
            "text/plain": [
              "(250, 4)"
            ]
          },
          "execution_count": 83,
          "metadata": {},
          "output_type": "execute_result"
        }
      ],
      "source": [
        "imdb_por_nome.shape"
      ]
    },
    {
      "cell_type": "markdown",
      "metadata": {
        "id": "tkqAKo-3BpIY"
      },
      "source": [
        "Como um array, você pode obter o primeiro elemento do `shape` usando `[0]` e o segundo elemento usando `[1]`. Por exemplo, o número de linhas em `imdb_por_nome` é:"
      ]
    },
    {
      "cell_type": "code",
      "execution_count": 84,
      "metadata": {
        "id": "km4X3kQdBpIZ"
      },
      "outputs": [
        {
          "data": {
            "text/plain": [
              "250"
            ]
          },
          "execution_count": 84,
          "metadata": {},
          "output_type": "execute_result"
        }
      ],
      "source": [
        "imdb_por_nome.shape[0]"
      ]
    },
    {
      "cell_type": "code",
      "execution_count": 85,
      "metadata": {},
      "outputs": [
        {
          "data": {
            "text/plain": [
              "4"
            ]
          },
          "execution_count": 85,
          "metadata": {},
          "output_type": "execute_result"
        }
      ],
      "source": [
        "imdb_por_nome.shape[1] #Colunas"
      ]
    },
    {
      "cell_type": "markdown",
      "metadata": {
        "id": "T91WDOx-BpIZ"
      },
      "source": [
        "Podemos usar isso para responder \"Quantos filmes são do século 20?\":"
      ]
    },
    {
      "cell_type": "code",
      "execution_count": 86,
      "metadata": {
        "id": "WhkXnya9BpIZ"
      },
      "outputs": [
        {
          "data": {
            "text/plain": [
              "176"
            ]
          },
          "execution_count": 86,
          "metadata": {},
          "output_type": "execute_result"
        }
      ],
      "source": [
        "#imdb_por_nome[(imdb_por_nome.get('Year') > 1920) & (imdb_por_nome.get('Year') <= 2000)].shape[0]\n",
        "imdb_por_nome[imdb_por_nome.get('Year') <= 2000].shape[0]"
      ]
    },
    {
      "cell_type": "markdown",
      "metadata": {
        "id": "rqxFcAsxBpIZ"
      },
      "source": [
        "**Pergunta 4.4.** Use `shape` (e aritmética) para encontrar a *proporção* de filmes no conjunto de dados que foram lançados no século 20 e a proporção do século 21.\n",
        "\n",
        "* **Dica:** A *proporção* de filmes lançados no século 20 é o *número* de filmes lançados no século 20, dividido pelo *número total* de filmes no conjunto de dados."
      ]
    },
    {
      "cell_type": "code",
      "execution_count": 87,
      "metadata": {
        "id": "8az899KZBpIZ"
      },
      "outputs": [
        {
          "data": {
            "text/plain": [
              "0.704"
            ]
          },
          "execution_count": 87,
          "metadata": {},
          "output_type": "execute_result"
        }
      ],
      "source": [
        "proporcao_do_seculo_20 = (imdb_por_nome[imdb_por_nome.get('Year') <= 2000].shape[0])/(imdb_por_nome.shape[0])\n",
        "proporcao_do_seculo_20"
      ]
    },
    {
      "cell_type": "code",
      "execution_count": 88,
      "metadata": {
        "id": "J6vfCn8oBpIZ"
      },
      "outputs": [
        {
          "data": {
            "text/plain": [
              "0.296"
            ]
          },
          "execution_count": 88,
          "metadata": {},
          "output_type": "execute_result"
        }
      ],
      "source": [
        "proporcao_do_seculo_21 = (imdb_por_nome[imdb_por_nome.get('Year') > 2000].shape[0])/(imdb_por_nome.shape[0])\n",
        "proporcao_do_seculo_21"
      ]
    },
    {
      "cell_type": "markdown",
      "metadata": {
        "id": "1eJJlqtwBpIZ"
      },
      "source": [
        "**Pergunta 4.5.** Finalmente, vamos revisitar o DataFrame `populacao_por_ano` do início do laboratório. Calcule o ano em que a população mundial ultrapassou pela primeira vez os 7 mil milhões."
      ]
    },
    {
      "cell_type": "code",
      "execution_count": 89,
      "metadata": {
        "id": "OjYi12TzBpIZ"
      },
      "outputs": [
        {
          "data": {
            "text/plain": [
              "2011"
            ]
          },
          "execution_count": 89,
          "metadata": {},
          "output_type": "execute_result"
        }
      ],
      "source": [
        "ano_que_a_populacao_ultrapassou_7_bilhoes = populacao_por_ano[populacao_por_ano.get('Populacao')>7000000000].index.min()\n",
        "ano_que_a_populacao_ultrapassou_7_bilhoes"
      ]
    },
    {
      "cell_type": "markdown",
      "metadata": {
        "id": "4c-R9hwmBpIZ"
      },
      "source": [
        "# Linha de chegada\n",
        "\n",
        "Parabéns! Você concluiu o Laboratório 1.\n",
        "\n",
        "Para enviar sua tarefa:\n",
        "\n",
        "1. Selecione `Kernel -> Reiniciar e executar tudo` para garantir que você executou todas as células.\n",
        "2. Leia o caderno para ter certeza de que está tudo bem.\n",
        "4. Baixe seu notebook usando `Arquivo -> Baixar como -> Notebook (.ipynb)` e, em seguida, carregue seu notebook para o Moodle."
      ]
    },
    {
      "cell_type": "code",
      "execution_count": 90,
      "metadata": {
        "id": "Lhi3yDmPBpIZ"
      },
      "outputs": [],
      "source": [
        "#Thanks!"
      ]
    }
  ],
  "metadata": {
    "anaconda-cloud": {},
    "colab": {
      "include_colab_link": true,
      "provenance": []
    },
    "kernelspec": {
      "display_name": "base",
      "language": "python",
      "name": "python3"
    },
    "language_info": {
      "codemirror_mode": {
        "name": "ipython",
        "version": 3
      },
      "file_extension": ".py",
      "mimetype": "text/x-python",
      "name": "python",
      "nbconvert_exporter": "python",
      "pygments_lexer": "ipython3",
      "version": "3.12.7"
    }
  },
  "nbformat": 4,
  "nbformat_minor": 0
}
